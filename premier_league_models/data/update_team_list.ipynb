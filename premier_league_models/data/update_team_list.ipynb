{
 "cells": [
  {
   "cell_type": "markdown",
   "metadata": {},
   "source": [
    "# Update master team list based on new data teams.csv file"
   ]
  },
  {
   "cell_type": "code",
   "execution_count": 1,
   "metadata": {},
   "outputs": [
    {
     "name": "stdout",
     "output_type": "stream",
     "text": [
      "20\n"
     ]
    }
   ],
   "source": [
    "season = \"2024-25\"\n",
    "\n",
    "import pandas as pd\n",
    "\n",
    "df = pd.read_csv(\"./raw_data/\" + season + \"/teams.csv\", sep=\",\")\n",
    "print(len(df))\n",
    "with open(\"./clean_data/master_team_list.csv\", \"a\") as out_file:\n",
    "    for _, row in df.iterrows():\n",
    "        out_file.write(season + \",\" + str(row['id']) + \",\" + row['name'] + \",\" + str(row[\"strength\"]) + \".0\\n\")\n",
    "        \n"
   ]
  },
  {
   "cell_type": "markdown",
   "metadata": {},
   "source": [
    "# For reference once finished run python .\\clean_fpl.py -s 2024-25 -o"
   ]
  }
 ],
 "metadata": {
  "kernelspec": {
   "display_name": "Python 3",
   "language": "python",
   "name": "python3"
  },
  "language_info": {
   "codemirror_mode": {
    "name": "ipython",
    "version": 3
   },
   "file_extension": ".py",
   "mimetype": "text/x-python",
   "name": "python",
   "nbconvert_exporter": "python",
   "pygments_lexer": "ipython3",
   "version": "3.12.6"
  }
 },
 "nbformat": 4,
 "nbformat_minor": 2
}
