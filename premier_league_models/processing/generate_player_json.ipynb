{
 "cells": [
  {
   "cell_type": "markdown",
   "metadata": {},
   "source": [
    "# Python notebook to ease player data JSON generation process"
   ]
  },
  {
   "cell_type": "code",
   "execution_count": 1,
   "metadata": {},
   "outputs": [],
   "source": [
    "%load_ext autoreload"
   ]
  },
  {
   "cell_type": "code",
   "execution_count": 5,
   "metadata": {},
   "outputs": [
    {
     "name": "stdout",
     "output_type": "stream",
     "text": [
      "======= Generating JSON Data for Season: ['2020-21', '2021-22'], Position: FWD =======\n",
      "Dropping Players with Avg. Playtime < 60...\n",
      "\n",
      "Total players of type FWD = 190.\n",
      "162 players dropped due to low average playtime.\n",
      "========== Done Generating JSON Data ==========\n",
      "\n"
     ]
    }
   ],
   "source": [
    "%autoreload 2\n",
    "\n",
    "import os\n",
    "import sys\n",
    "sys.path.append(os.path.join(os.getcwd(), '..','..'))\n",
    "from premier_league_models.processing.generate_player_json import generate_player_json\n",
    "from premier_league_models.rnn.config import STANDARD_CAT_FEATURES, STANDARD_NUM_FEATURES, NUM_FEATURES_DICT\n",
    "\n",
    "DATA_DIR = os.path.join(os.getcwd(), '..', 'data', 'clean_data')\n",
    "\n",
    "generate_player_json(DATA_DIR,\n",
    "                season = ['2020-21', '2021-22'], \n",
    "                position = 'FWD', \n",
    "                window_size=6,\n",
    "                num_features = NUM_FEATURES_DICT[\"FWD\"][\"large\"],\n",
    "                cat_features = STANDARD_CAT_FEATURES, \n",
    "                drop_low_playtime = True,\n",
    "                low_playtime_cutoff = 60, \n",
    "                verbose=True)"
   ]
  }
 ],
 "metadata": {
  "kernelspec": {
   "display_name": "Python 3",
   "language": "python",
   "name": "python3"
  },
  "language_info": {
   "codemirror_mode": {
    "name": "ipython",
    "version": 3
   },
   "file_extension": ".py",
   "mimetype": "text/x-python",
   "name": "python",
   "nbconvert_exporter": "python",
   "pygments_lexer": "ipython3",
   "version": "3.12.6"
  }
 },
 "nbformat": 4,
 "nbformat_minor": 2
}
