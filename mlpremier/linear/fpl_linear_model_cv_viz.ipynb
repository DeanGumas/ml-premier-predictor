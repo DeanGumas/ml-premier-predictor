{
 "cells": [
  {
   "cell_type": "code",
   "execution_count": 27,
   "id": "d11a3ce2",
   "metadata": {},
   "outputs": [],
   "source": [
    "import numpy as np\n",
    "import pandas as pd\n",
    "import seaborn as sns\n",
    "import os\n",
    "import matplotlib.pyplot as plt\n",
    "from sklearn.model_selection import train_test_split\n",
    "from sklearn.model_selection import GridSearchCV\n",
    "from sklearn.model_selection import StratifiedShuffleSplit\n",
    "from sklearn.metrics import mean_squared_error\n",
    "from sklearn import linear_model\n",
    "import lightgbm\n",
    "\n",
    "os.environ['KMP_DUPLICATE_LIB_OK']='True'"
   ]
  },
  {
   "cell_type": "code",
   "execution_count": 65,
   "id": "86bde69f",
   "metadata": {},
   "outputs": [],
   "source": [
    "datapath = '../data/clean_data/windowed_data/'\n",
    "window_size = '9'\n",
    "season = '2020-21/'\n",
    "\n",
    "team_name_df = pd.read_csv('../data/clean_data/master_team_list.csv')\n",
    "team_name_df = team_name_df[team_name_df.season == '2020-21']\n",
    "fixture_df = pd.read_csv('../data/fixtures/full_fixture_difficulty.csv')\n",
    "fixture_df = fixture_df[fixture_df.season == '20_21']\n",
    "fixture_df = fixture_df.merge(team_name_df, how='left', left_on='team_a', right_on='team')[['team_a_difficulty', 'team_h_difficulty', 'team_h', 'team_name']]\n",
    "fixture_df.rename(columns={'team_name':'away_team_name'}, inplace=True)\n",
    "fixture_df = fixture_df.merge(team_name_df, how='left', left_on='team_h', right_on='team')[['team_a_difficulty', 'team_h_difficulty', 'away_team_name', 'team_name']]\n",
    "fixture_df.rename(columns={'team_name':'home_team_name'}, inplace=True)\n",
    "\n",
    "def attach_difficulty(row):\n",
    "    try:\n",
    "        if row['was_home']:\n",
    "            team = fixture_df[(fixture_df.home_team_name == row.team) & (fixture_df.away_team_name == row.opponent_team)].reset_index(drop=True).loc[0, 'team_h_difficulty']\n",
    "            opponent = fixture_df[(fixture_df.home_team_name == row.team) & (fixture_df.away_team_name == row.opponent_team)].reset_index(drop=True).loc[0, 'team_a_difficulty']\n",
    "            return team - opponent\n",
    "        else:\n",
    "            team = fixture_df[(fixture_df.home_team_name == row.opponent_team) & (fixture_df.away_team_name == row.team)].reset_index(drop=True).loc[0, 'team_a_difficulty']\n",
    "            opponent = fixture_df[(fixture_df.home_team_name == row.opponent_team) & (fixture_df.away_team_name == row.team)].reset_index(drop=True).loc[0, 'team_h_difficulty']\n",
    "            return team - opponent\n",
    "    except KeyError:\n",
    "        return 0\n",
    "\n",
    "def read_data(pos, datapath, window_size, season, minimum_minutes=0):\n",
    "    path = os.path.join(datapath, season)\n",
    "    df = pd.read_csv(path + pos + window_size + '.csv')\n",
    "    df = df[df.minutes >= minimum_minutes]\n",
    "    df['difficulty_gap'] = df.apply(lambda r: attach_difficulty(r), axis=1, result_type='expand')\n",
    "    df.drop(['team', 'opponent_team'], axis=1, inplace=True)\n",
    "    \n",
    "    df['total_points_bin'] = pd.cut(df['total_points'], 5, labels=False)\n",
    "    return df\n",
    "\n",
    "dfs = [read_data(p, datapath, window_size, season, minimum_minutes=1) for p in ['GK_', 'DEF_', 'FWD_', 'MID_']]\n",
    "full_df = pd.concat(dfs)"
   ]
  },
  {
   "cell_type": "markdown",
   "id": "66e6df96",
   "metadata": {},
   "source": [
    "### Note: qcut reduces spread of mse a bit more compared to cut"
   ]
  },
  {
   "cell_type": "code",
   "execution_count": 66,
   "id": "cfc194ff",
   "metadata": {},
   "outputs": [
    {
     "data": {
      "text/plain": [
       "0    247\n",
       "2    234\n",
       "3    180\n",
       "1    129\n",
       "4     44\n",
       "Name: total_points_bin, dtype: int64"
      ]
     },
     "execution_count": 66,
     "metadata": {},
     "output_type": "execute_result"
    }
   ],
   "source": [
    "dfs[0].total_points_bin.value_counts()"
   ]
  },
  {
   "cell_type": "code",
   "execution_count": 4,
   "id": "4d389840",
   "metadata": {
    "collapsed": true,
    "jupyter": {
     "outputs_hidden": true
    }
   },
   "outputs": [
    {
     "data": {
      "text/plain": [
       "Index(['assists', 'clean_sheets', 'creativity', 'bps', 'goals_conceded',\n",
       "       'goals_scored', 'ict_index', 'influence', 'minutes', 'own_goals',\n",
       "       'penalties_missed', 'penalties_saved', 'red_cards', 'saves', 'threat',\n",
       "       'yellow_cards', 'total_points', 'was_home', 'Target_Output',\n",
       "       'difficulty_gap', 'total_points_bin'],\n",
       "      dtype='object')"
      ]
     },
     "execution_count": 4,
     "metadata": {},
     "output_type": "execute_result"
    }
   ],
   "source": [
    "dfs[0].columns"
   ]
  },
  {
   "cell_type": "markdown",
   "id": "703c2bb9",
   "metadata": {},
   "source": [
    "### Modeling"
   ]
  },
  {
   "cell_type": "code",
   "execution_count": 67,
   "id": "25ffaf45",
   "metadata": {},
   "outputs": [],
   "source": [
    "# For lightgbm\n",
    "param_grid = {\n",
    "    'boosting_type': ['gbdt'],\n",
    "    'objective': ['regression'],\n",
    "    'n_estimators': [50, 200],\n",
    "    'num_leaves': [7, 15, 31],\n",
    "    'reg_alpha': [0.01, 10],\n",
    "    'reg_lambda': [0.01, 10],\n",
    "    'min_data_in_leaf': [70, 210, 350],\n",
    "    'max_depth': [3, 5, 7],\n",
    "    'learning_rate': [0.01, 0.1],\n",
    "    'verbose': [-1]\n",
    "}"
   ]
  },
  {
   "cell_type": "code",
   "execution_count": 68,
   "id": "6d5a6933",
   "metadata": {},
   "outputs": [],
   "source": [
    "def get_results(data):\n",
    "    results = {}\n",
    "    print('Starting...')\n",
    "    \n",
    "    data = pd.get_dummies(data)\n",
    "    X = data.drop('Target_Output', axis=1)\n",
    "    y = data.Target_Output\n",
    "\n",
    "    # Test set is still held-out and won't be used until writing the report.\n",
    "    # Stratified split (by binned minutes)\n",
    "    split_criteria_name = 'total_points_bin'\n",
    "    X_train, X_test, y_train, y_test = train_test_split(\n",
    "        X, y, \n",
    "        test_size=0.2, \n",
    "        random_state=1, \n",
    "        stratify=X[split_criteria_name]\n",
    "    )\n",
    "    split_criteria = X_train[split_criteria_name]\n",
    "    X_train.drop(split_criteria_name, axis=1, inplace=True)\n",
    "    \n",
    "    splitter = StratifiedShuffleSplit(n_splits=5, test_size=0.2, random_state=0)\n",
    "    \n",
    "    # Grid Search for lightgbm\n",
    "    # Stratified cv (by binned minutes)\n",
    "    grid = GridSearchCV(\n",
    "        lightgbm.LGBMRegressor(random_state=1), \n",
    "        param_grid, \n",
    "        scoring='neg_mean_squared_error',\n",
    "        cv=splitter.split(X_train, split_criteria),\n",
    "        return_train_score=True,\n",
    "        verbose=1\n",
    "    )\n",
    "    grid.fit(X_train, y_train)\n",
    "    best_in_grid = grid.best_estimator_\n",
    "    results['lgbm_est'] = best_in_grid\n",
    "\n",
    "    print(\n",
    "        'CV Training MSE mean %f, CV Training MSE std %f\\nCV Validation MSE mean %f, CV Validation MSE std %f' %(\n",
    "        -grid.cv_results_['mean_train_score'][grid.cv_results_['mean_test_score'].argmax()],\n",
    "        grid.cv_results_['std_train_score'][grid.cv_results_['mean_test_score'].argmax()],\n",
    "        -grid.cv_results_['mean_test_score'].max(),\n",
    "        grid.cv_results_['std_test_score'][grid.cv_results_['mean_test_score'].argmax()])\n",
    "    )\n",
    "    \n",
    "    \n",
    "    # Linear Model\n",
    "    lrgrid = GridSearchCV(\n",
    "        linear_model.Ridge(), \n",
    "        {'alpha': [0.001, 0.1, 1, 100]}, \n",
    "        scoring='neg_mean_squared_error',\n",
    "        cv=splitter.split(X_train, split_criteria),\n",
    "        return_train_score=True,\n",
    "        verbose=1\n",
    "    )\n",
    "    lrgrid.fit(X_train, y_train)\n",
    "    best_in_grid = lrgrid.best_estimator_\n",
    "    results['lr_coef'] = pd.concat([pd.DataFrame(X_train.columns),pd.DataFrame(np.transpose(best_in_grid.coef_))], axis = 1)\n",
    "    \n",
    "    print(\n",
    "        'CV Training MSE mean %f, CV Training MSE std %f\\nCV Validation MSE mean %f, CV Validation MSE std %f' %(\n",
    "        -lrgrid.cv_results_['mean_train_score'][lrgrid.cv_results_['mean_test_score'].argmax()],\n",
    "        lrgrid.cv_results_['std_train_score'][lrgrid.cv_results_['mean_test_score'].argmax()],\n",
    "        -lrgrid.cv_results_['mean_test_score'].max(),\n",
    "        lrgrid.cv_results_['std_test_score'][lrgrid.cv_results_['mean_test_score'].argmax()])\n",
    "    )\n",
    "    \n",
    "    results['heuristic'] = mean_squared_error(y_test, X_test.total_points)\n",
    "    \n",
    "    return results"
   ]
  },
  {
   "cell_type": "code",
   "execution_count": 72,
   "id": "778f5b54",
   "metadata": {},
   "outputs": [
    {
     "name": "stdout",
     "output_type": "stream",
     "text": [
      "Starting...\n",
      "Fitting 5 folds for each of 432 candidates, totalling 2160 fits\n",
      "CV Training MSE mean 6.607060, CV Training MSE std 0.131487\n",
      "CV Validation MSE mean 6.862781, CV Validation MSE std 0.513375\n",
      "Fitting 5 folds for each of 4 candidates, totalling 20 fits\n",
      "CV Training MSE mean 6.935034, CV Training MSE std 0.132859\n",
      "CV Validation MSE mean 6.846728, CV Validation MSE std 0.530930\n"
     ]
    }
   ],
   "source": [
    "def_results = get_results(dfs[1])"
   ]
  },
  {
   "cell_type": "code",
   "execution_count": 70,
   "id": "920e6cb6",
   "metadata": {},
   "outputs": [
    {
     "name": "stdout",
     "output_type": "stream",
     "text": [
      "Starting...\n",
      "Fitting 5 folds for each of 432 candidates, totalling 2160 fits\n",
      "CV Training MSE mean 5.852898, CV Training MSE std 0.254816\n",
      "CV Validation MSE mean 6.927752, CV Validation MSE std 1.025895\n",
      "Fitting 5 folds for each of 4 candidates, totalling 20 fits\n",
      "CV Training MSE mean 6.647759, CV Training MSE std 0.243767\n",
      "CV Validation MSE mean 7.138785, CV Validation MSE std 0.995339\n"
     ]
    }
   ],
   "source": [
    "gk_results = get_results(dfs[0])"
   ]
  },
  {
   "cell_type": "code",
   "execution_count": 73,
   "id": "e3ba67db",
   "metadata": {},
   "outputs": [
    {
     "name": "stdout",
     "output_type": "stream",
     "text": [
      "Starting...\n",
      "Fitting 5 folds for each of 432 candidates, totalling 2160 fits\n",
      "CV Training MSE mean 6.816966, CV Training MSE std 0.213665\n",
      "CV Validation MSE mean 7.565874, CV Validation MSE std 0.856802\n",
      "Fitting 5 folds for each of 4 candidates, totalling 20 fits\n",
      "CV Training MSE mean 7.234238, CV Training MSE std 0.213408\n",
      "CV Validation MSE mean 7.554370, CV Validation MSE std 0.866827\n"
     ]
    }
   ],
   "source": [
    "fwd_results = get_results(dfs[2])"
   ]
  },
  {
   "cell_type": "code",
   "execution_count": 74,
   "id": "c6bd379f",
   "metadata": {},
   "outputs": [
    {
     "name": "stdout",
     "output_type": "stream",
     "text": [
      "Starting...\n",
      "Fitting 5 folds for each of 432 candidates, totalling 2160 fits\n",
      "CV Training MSE mean 5.936848, CV Training MSE std 0.141110\n",
      "CV Validation MSE mean 6.077601, CV Validation MSE std 0.581978\n",
      "Fitting 5 folds for each of 4 candidates, totalling 20 fits\n",
      "CV Training MSE mean 6.182645, CV Training MSE std 0.150663\n",
      "CV Validation MSE mean 6.064438, CV Validation MSE std 0.611849\n"
     ]
    }
   ],
   "source": [
    "mid_results = get_results(dfs[3])"
   ]
  },
  {
   "cell_type": "code",
   "execution_count": 75,
   "id": "b9b5c1cf",
   "metadata": {},
   "outputs": [
    {
     "data": {
      "text/plain": [
       "{'boosting_type': 'gbdt',\n",
       " 'class_weight': None,\n",
       " 'colsample_bytree': 1.0,\n",
       " 'importance_type': 'split',\n",
       " 'learning_rate': 0.1,\n",
       " 'max_depth': 3,\n",
       " 'min_child_samples': 20,\n",
       " 'min_child_weight': 0.001,\n",
       " 'min_split_gain': 0.0,\n",
       " 'n_estimators': 50,\n",
       " 'n_jobs': None,\n",
       " 'num_leaves': 15,\n",
       " 'objective': 'regression',\n",
       " 'random_state': 1,\n",
       " 'reg_alpha': 0.01,\n",
       " 'reg_lambda': 0.01,\n",
       " 'subsample': 1.0,\n",
       " 'subsample_for_bin': 200000,\n",
       " 'subsample_freq': 0,\n",
       " 'min_data_in_leaf': 210,\n",
       " 'verbose': -1}"
      ]
     },
     "execution_count": 75,
     "metadata": {},
     "output_type": "execute_result"
    }
   ],
   "source": [
    "def_results['lgbm_est'].get_params()"
   ]
  },
  {
   "cell_type": "code",
   "execution_count": 77,
   "id": "9ec2d3ce",
   "metadata": {},
   "outputs": [
    {
     "data": {
      "text/plain": [
       "7.245041910717693"
      ]
     },
     "execution_count": 77,
     "metadata": {},
     "output_type": "execute_result"
    }
   ],
   "source": [
    "def_results['heuristic']"
   ]
  },
  {
   "cell_type": "code",
   "execution_count": null,
   "id": "d222e631",
   "metadata": {},
   "outputs": [],
   "source": []
  },
  {
   "cell_type": "code",
   "execution_count": null,
   "id": "076fe69f",
   "metadata": {},
   "outputs": [],
   "source": [
    "viz_df = pd.DataFrame(data={'position': names,\n",
    "                         'lr_mse': [lr_results[n][1] for n in names], \n",
    "                         'lightgbm_mse': [lgbm_results[n][1] for n in names]})"
   ]
  },
  {
   "cell_type": "code",
   "execution_count": null,
   "id": "f98ab145",
   "metadata": {},
   "outputs": [],
   "source": [
    "viz_df = pd.melt(viz_df, id_vars = 'position')\n",
    "viz_df.rename(columns={'variable': 'model'})\n",
    "viz_df\n",
    "sns.catplot(x = 'position', y='value', hue = 'variable',data=viz_df, kind='bar')"
   ]
  }
 ],
 "metadata": {
  "kernelspec": {
   "display_name": "Python 3 (ipykernel)",
   "language": "python",
   "name": "python3"
  },
  "language_info": {
   "codemirror_mode": {
    "name": "ipython",
    "version": 3
   },
   "file_extension": ".py",
   "mimetype": "text/x-python",
   "name": "python",
   "nbconvert_exporter": "python",
   "pygments_lexer": "ipython3",
   "version": "3.9.12"
  }
 },
 "nbformat": 4,
 "nbformat_minor": 5
}
