{
 "cells": [
  {
   "cell_type": "code",
   "execution_count": 121,
   "id": "d11a3ce2",
   "metadata": {},
   "outputs": [],
   "source": [
    "import numpy as np\n",
    "import pandas as pd\n",
    "import seaborn as sns\n",
    "from tqdm import tqdm\n",
    "import matplotlib.pyplot as plt\n",
    "from sklearn.model_selection import train_test_split\n",
    "from sklearn.model_selection import GridSearchCV\n",
    "from sklearn.metrics import mean_squared_error\n",
    "from sklearn import linear_model\n",
    "import lightgbm"
   ]
  },
  {
   "cell_type": "code",
   "execution_count": 122,
   "id": "86bde69f",
   "metadata": {},
   "outputs": [],
   "source": [
    "datapath = '../data/'"
   ]
  },
  {
   "cell_type": "code",
   "execution_count": 123,
   "id": "9eda8e5d",
   "metadata": {},
   "outputs": [],
   "source": [
    "window_size = '3'"
   ]
  },
  {
   "cell_type": "code",
   "execution_count": 124,
   "id": "bc262572",
   "metadata": {},
   "outputs": [],
   "source": [
    "#gk_df = pd.read_csv(datapath+'gks_'+window_size+'.csv')\n",
    "#gk_df.columns"
   ]
  },
  {
   "cell_type": "code",
   "execution_count": 126,
   "id": "43cbacb0",
   "metadata": {},
   "outputs": [],
   "source": [
    "gk_df = pd.read_csv(datapath+'gks_'+window_size+'.csv')\n",
    "def_df = pd.read_csv(datapath+'defs_'+window_size+'.csv')\n",
    "fwd_df = pd.read_csv(datapath+'fwds_'+window_size+'.csv')\n",
    "mid_df = pd.read_csv(datapath+'mids_'+window_size+'.csv')\n",
    "\n",
    "keep = ['assists', 'clean_sheets', 'minutes', 'ict_index',\n",
    "       'creativity', 'goals_conceded', 'goals_scored', 'penalties_missed',\n",
    "       'influence', 'penalties_saved', 'red_cards', 'saves', 'threat', 'total_points',\n",
    "       'yellow_cards', 'was_home','opponent_team', 'Target_Output']\n",
    "\n",
    "gk_df, def_df, fwd_df, mid_df = gk_df[keep], def_df[keep], fwd_df[keep], mid_df[keep]\n",
    "\n",
    "# Treating opponent team as a categorical variable for now\n",
    "gk_df.opponent_team = gk_df.opponent_team.astype('int').apply(str)\n",
    "def_df.opponent_team = def_df.opponent_team.astype('int').apply(str)\n",
    "fwd_df.opponent_team = fwd_df.opponent_team.astype('int').apply(str)\n",
    "mid_df.opponent_team = mid_df.opponent_team.astype('int').apply(str)\n",
    "\n",
    "full_df = pd.concat([gk_df, def_df, fwd_df, mid_df])"
   ]
  },
  {
   "cell_type": "code",
   "execution_count": 127,
   "id": "4d389840",
   "metadata": {},
   "outputs": [
    {
     "data": {
      "text/plain": [
       "Index(['assists', 'clean_sheets', 'minutes', 'ict_index', 'creativity',\n",
       "       'goals_conceded', 'goals_scored', 'penalties_missed', 'influence',\n",
       "       'penalties_saved', 'red_cards', 'saves', 'threat', 'total_points',\n",
       "       'yellow_cards', 'was_home', 'opponent_team', 'Target_Output'],\n",
       "      dtype='object')"
      ]
     },
     "execution_count": 127,
     "metadata": {},
     "output_type": "execute_result"
    }
   ],
   "source": [
    "gk_df.columns"
   ]
  },
  {
   "cell_type": "code",
   "execution_count": 128,
   "id": "9f847a38",
   "metadata": {},
   "outputs": [
    {
     "data": {
      "text/html": [
       "<div>\n",
       "<style scoped>\n",
       "    .dataframe tbody tr th:only-of-type {\n",
       "        vertical-align: middle;\n",
       "    }\n",
       "\n",
       "    .dataframe tbody tr th {\n",
       "        vertical-align: top;\n",
       "    }\n",
       "\n",
       "    .dataframe thead th {\n",
       "        text-align: right;\n",
       "    }\n",
       "</style>\n",
       "<table border=\"1\" class=\"dataframe\">\n",
       "  <thead>\n",
       "    <tr style=\"text-align: right;\">\n",
       "      <th></th>\n",
       "      <th>assists</th>\n",
       "      <th>clean_sheets</th>\n",
       "      <th>minutes</th>\n",
       "      <th>ict_index</th>\n",
       "      <th>creativity</th>\n",
       "      <th>goals_conceded</th>\n",
       "      <th>goals_scored</th>\n",
       "      <th>penalties_missed</th>\n",
       "      <th>influence</th>\n",
       "      <th>penalties_saved</th>\n",
       "      <th>red_cards</th>\n",
       "      <th>saves</th>\n",
       "      <th>threat</th>\n",
       "      <th>total_points</th>\n",
       "      <th>yellow_cards</th>\n",
       "      <th>was_home</th>\n",
       "      <th>opponent_team</th>\n",
       "      <th>Target_Output</th>\n",
       "    </tr>\n",
       "  </thead>\n",
       "  <tbody>\n",
       "    <tr>\n",
       "      <th>0</th>\n",
       "      <td>0.0</td>\n",
       "      <td>0.000000</td>\n",
       "      <td>90.0</td>\n",
       "      <td>1.500000</td>\n",
       "      <td>0.0</td>\n",
       "      <td>1.333333</td>\n",
       "      <td>0.0</td>\n",
       "      <td>0.0</td>\n",
       "      <td>15.066667</td>\n",
       "      <td>0.0</td>\n",
       "      <td>0.0</td>\n",
       "      <td>2.0</td>\n",
       "      <td>0.0</td>\n",
       "      <td>2.000000</td>\n",
       "      <td>0.0</td>\n",
       "      <td>False</td>\n",
       "      <td>13</td>\n",
       "      <td>1.0</td>\n",
       "    </tr>\n",
       "    <tr>\n",
       "      <th>1</th>\n",
       "      <td>0.0</td>\n",
       "      <td>0.000000</td>\n",
       "      <td>90.0</td>\n",
       "      <td>0.833333</td>\n",
       "      <td>0.0</td>\n",
       "      <td>1.666667</td>\n",
       "      <td>0.0</td>\n",
       "      <td>0.0</td>\n",
       "      <td>8.200000</td>\n",
       "      <td>0.0</td>\n",
       "      <td>0.0</td>\n",
       "      <td>1.0</td>\n",
       "      <td>0.0</td>\n",
       "      <td>1.666667</td>\n",
       "      <td>0.0</td>\n",
       "      <td>True</td>\n",
       "      <td>19</td>\n",
       "      <td>9.0</td>\n",
       "    </tr>\n",
       "    <tr>\n",
       "      <th>2</th>\n",
       "      <td>0.0</td>\n",
       "      <td>0.333333</td>\n",
       "      <td>90.0</td>\n",
       "      <td>1.266667</td>\n",
       "      <td>0.0</td>\n",
       "      <td>1.333333</td>\n",
       "      <td>0.0</td>\n",
       "      <td>0.0</td>\n",
       "      <td>12.533333</td>\n",
       "      <td>0.0</td>\n",
       "      <td>0.0</td>\n",
       "      <td>2.0</td>\n",
       "      <td>0.0</td>\n",
       "      <td>4.000000</td>\n",
       "      <td>0.0</td>\n",
       "      <td>False</td>\n",
       "      <td>4</td>\n",
       "      <td>2.0</td>\n",
       "    </tr>\n",
       "    <tr>\n",
       "      <th>3</th>\n",
       "      <td>0.0</td>\n",
       "      <td>0.333333</td>\n",
       "      <td>90.0</td>\n",
       "      <td>1.433333</td>\n",
       "      <td>0.0</td>\n",
       "      <td>1.333333</td>\n",
       "      <td>0.0</td>\n",
       "      <td>0.0</td>\n",
       "      <td>13.933333</td>\n",
       "      <td>0.0</td>\n",
       "      <td>0.0</td>\n",
       "      <td>2.0</td>\n",
       "      <td>0.0</td>\n",
       "      <td>4.000000</td>\n",
       "      <td>0.0</td>\n",
       "      <td>True</td>\n",
       "      <td>3</td>\n",
       "      <td>6.0</td>\n",
       "    </tr>\n",
       "    <tr>\n",
       "      <th>4</th>\n",
       "      <td>0.0</td>\n",
       "      <td>0.666667</td>\n",
       "      <td>90.0</td>\n",
       "      <td>1.466667</td>\n",
       "      <td>0.0</td>\n",
       "      <td>0.333333</td>\n",
       "      <td>0.0</td>\n",
       "      <td>0.0</td>\n",
       "      <td>14.333333</td>\n",
       "      <td>0.0</td>\n",
       "      <td>0.0</td>\n",
       "      <td>2.0</td>\n",
       "      <td>0.0</td>\n",
       "      <td>5.666667</td>\n",
       "      <td>0.0</td>\n",
       "      <td>False</td>\n",
       "      <td>18</td>\n",
       "      <td>10.0</td>\n",
       "    </tr>\n",
       "  </tbody>\n",
       "</table>\n",
       "</div>"
      ],
      "text/plain": [
       "   assists  clean_sheets  minutes  ict_index  creativity  goals_conceded  \\\n",
       "0      0.0      0.000000     90.0   1.500000         0.0        1.333333   \n",
       "1      0.0      0.000000     90.0   0.833333         0.0        1.666667   \n",
       "2      0.0      0.333333     90.0   1.266667         0.0        1.333333   \n",
       "3      0.0      0.333333     90.0   1.433333         0.0        1.333333   \n",
       "4      0.0      0.666667     90.0   1.466667         0.0        0.333333   \n",
       "\n",
       "   goals_scored  penalties_missed  influence  penalties_saved  red_cards  \\\n",
       "0           0.0               0.0  15.066667              0.0        0.0   \n",
       "1           0.0               0.0   8.200000              0.0        0.0   \n",
       "2           0.0               0.0  12.533333              0.0        0.0   \n",
       "3           0.0               0.0  13.933333              0.0        0.0   \n",
       "4           0.0               0.0  14.333333              0.0        0.0   \n",
       "\n",
       "   saves  threat  total_points  yellow_cards  was_home opponent_team  \\\n",
       "0    2.0     0.0      2.000000           0.0     False            13   \n",
       "1    1.0     0.0      1.666667           0.0      True            19   \n",
       "2    2.0     0.0      4.000000           0.0     False             4   \n",
       "3    2.0     0.0      4.000000           0.0      True             3   \n",
       "4    2.0     0.0      5.666667           0.0     False            18   \n",
       "\n",
       "   Target_Output  \n",
       "0            1.0  \n",
       "1            9.0  \n",
       "2            2.0  \n",
       "3            6.0  \n",
       "4           10.0  "
      ]
     },
     "execution_count": 128,
     "metadata": {},
     "output_type": "execute_result"
    }
   ],
   "source": [
    "gk_df.head()"
   ]
  },
  {
   "cell_type": "markdown",
   "id": "703c2bb9",
   "metadata": {},
   "source": [
    "### Modeling"
   ]
  },
  {
   "cell_type": "code",
   "execution_count": 129,
   "id": "25ffaf45",
   "metadata": {},
   "outputs": [],
   "source": [
    "# For lightgbm\n",
    "param_grid = {\n",
    "    'objective': ['regression'],\n",
    "    'n_estimators': [200],\n",
    "    'num_leaves': [7, 15],\n",
    "    'reg_alpha': [0, 0.1, 1, 10],\n",
    "    'reg_lambda': [0, 0.1, 1, 10],\n",
    "    'min_data_in_leaf': [30, 50, 100, 300],\n",
    "    'max_depth': [-1, 5],\n",
    "    'learning_rate': [0.01],\n",
    "    'verbose': [-1]\n",
    "}"
   ]
  },
  {
   "cell_type": "code",
   "execution_count": 130,
   "id": "cb42eb3e",
   "metadata": {},
   "outputs": [
    {
     "name": "stderr",
     "output_type": "stream",
     "text": [
      "\r",
      "  0%|                                                     | 0/4 [00:00<?, ?it/s]"
     ]
    },
    {
     "name": "stdout",
     "output_type": "stream",
     "text": [
      "Fitting 5 folds for each of 256 candidates, totalling 1280 fits\n"
     ]
    },
    {
     "name": "stderr",
     "output_type": "stream",
     "text": [
      "\r",
      " 25%|███████████▎                                 | 1/4 [00:20<01:00, 20.19s/it]"
     ]
    },
    {
     "name": "stdout",
     "output_type": "stream",
     "text": [
      "lightgbm Train MSE: 2.910291\n",
      "lightgbm Validation MSE: 2.955814\n",
      "linear Train MSE: 2.903230\n",
      "linear Validation MSE: 3.618454\n",
      "Fitting 5 folds for each of 256 candidates, totalling 1280 fits\n"
     ]
    },
    {
     "name": "stderr",
     "output_type": "stream",
     "text": [
      "\r",
      " 50%|██████████████████████▌                      | 2/4 [01:14<01:20, 40.39s/it]"
     ]
    },
    {
     "name": "stdout",
     "output_type": "stream",
     "text": [
      "lightgbm Train MSE: 4.523876\n",
      "lightgbm Validation MSE: 4.111144\n",
      "linear Train MSE: 4.697922\n",
      "linear Validation MSE: 4.142044\n",
      "Fitting 5 folds for each of 256 candidates, totalling 1280 fits\n"
     ]
    },
    {
     "name": "stderr",
     "output_type": "stream",
     "text": [
      "\r",
      " 75%|█████████████████████████████████▊           | 3/4 [01:47<00:37, 37.07s/it]"
     ]
    },
    {
     "name": "stdout",
     "output_type": "stream",
     "text": [
      "lightgbm Train MSE: 5.468445\n",
      "lightgbm Validation MSE: 5.960027\n",
      "linear Train MSE: 5.545040\n",
      "linear Validation MSE: 6.105478\n",
      "Fitting 5 folds for each of 256 candidates, totalling 1280 fits\n"
     ]
    },
    {
     "name": "stderr",
     "output_type": "stream",
     "text": [
      "100%|█████████████████████████████████████████████| 4/4 [02:50<00:00, 42.63s/it]"
     ]
    },
    {
     "name": "stdout",
     "output_type": "stream",
     "text": [
      "lightgbm Train MSE: 4.401583\n",
      "lightgbm Validation MSE: 5.327491\n",
      "linear Train MSE: 4.385122\n",
      "linear Validation MSE: 5.367069\n"
     ]
    },
    {
     "name": "stderr",
     "output_type": "stream",
     "text": [
      "\n"
     ]
    }
   ],
   "source": [
    "names = ['goalkeepers', 'defenders', 'forwards', 'midfielders']\n",
    "lgbm_estimators = []\n",
    "lgbm_params = []\n",
    "lgbm_results = []\n",
    "lr_results = []\n",
    "\n",
    "for data in tqdm([gk_df, def_df, fwd_df, mid_df]):\n",
    "    data = pd.get_dummies(data)\n",
    "    X = data.drop('Target_Output', axis=1)\n",
    "    y = data.Target_Output\n",
    "\n",
    "    # Train/Valid/Test 0.6/0.2/0.2\n",
    "    # Test set is still held-out and won't be used until writing the report.\n",
    "    X_train, X_test, y_train, y_test = train_test_split(X, y, test_size=0.2, random_state=0)\n",
    "    X_train, X_val, y_train, y_val = train_test_split(X_train, y_train, test_size=0.25, random_state=0)\n",
    "    \n",
    "    # Grid Search for lightgbm\n",
    "    grid = GridSearchCV(lightgbm.LGBMRegressor(random_state=0), param_grid, scoring='neg_mean_squared_error', verbose=1)\n",
    "    grid.fit(X_train, y_train)\n",
    "    best_in_grid = grid.best_params_\n",
    "    lgbm_params.append(best_in_grid)\n",
    "\n",
    "    model = lightgbm.LGBMRegressor(**best_in_grid)\n",
    "    model.fit(X_train, y_train)\n",
    "    lgbm_estimators.append(model)\n",
    "\n",
    "    preds = model.predict(X_val)\n",
    "\n",
    "    train_preds = model.predict(X_train)\n",
    "    print('lightgbm Train MSE: %f' % mean_squared_error(y_train, train_preds))\n",
    "    print('lightgbm Validation MSE: %f' % mean_squared_error(y_val, preds))\n",
    "    lgbm_results.append([mean_squared_error(y_train, train_preds), mean_squared_error(y_val, preds)])\n",
    "    \n",
    "    # Linear Model\n",
    "    lr = linear_model.LinearRegression()\n",
    "    lr.fit(X_train, y_train)\n",
    "    preds = lr.predict(X_val)\n",
    "\n",
    "    train_preds = lr.predict(X_train)\n",
    "    print('linear Train MSE: %f' % mean_squared_error(y_train, train_preds))\n",
    "    print('linear Validation MSE: %f' % mean_squared_error(y_val, preds))\n",
    "    lr_results.append([mean_squared_error(y_train, train_preds), mean_squared_error(y_val, preds)])\n",
    "\n",
    "lgbm_params = dict(zip(names, lgbm_params))\n",
    "lgbm_results = dict(zip(names, lgbm_results))\n",
    "lr_results = dict(zip(names, lr_results))"
   ]
  },
  {
   "cell_type": "code",
   "execution_count": 131,
   "id": "e3dad0a5",
   "metadata": {},
   "outputs": [
    {
     "data": {
      "text/plain": [
       "{'goalkeepers': {'learning_rate': 0.01,\n",
       "  'max_depth': 5,\n",
       "  'min_data_in_leaf': 30,\n",
       "  'n_estimators': 200,\n",
       "  'num_leaves': 15,\n",
       "  'objective': 'regression',\n",
       "  'reg_alpha': 10,\n",
       "  'reg_lambda': 0.1,\n",
       "  'verbose': -1},\n",
       " 'defenders': {'learning_rate': 0.01,\n",
       "  'max_depth': -1,\n",
       "  'min_data_in_leaf': 30,\n",
       "  'n_estimators': 200,\n",
       "  'num_leaves': 7,\n",
       "  'objective': 'regression',\n",
       "  'reg_alpha': 0,\n",
       "  'reg_lambda': 0,\n",
       "  'verbose': -1},\n",
       " 'forwards': {'learning_rate': 0.01,\n",
       "  'max_depth': 5,\n",
       "  'min_data_in_leaf': 100,\n",
       "  'n_estimators': 200,\n",
       "  'num_leaves': 15,\n",
       "  'objective': 'regression',\n",
       "  'reg_alpha': 0.1,\n",
       "  'reg_lambda': 10,\n",
       "  'verbose': -1},\n",
       " 'midfielders': {'learning_rate': 0.01,\n",
       "  'max_depth': -1,\n",
       "  'min_data_in_leaf': 300,\n",
       "  'n_estimators': 200,\n",
       "  'num_leaves': 7,\n",
       "  'objective': 'regression',\n",
       "  'reg_alpha': 0.1,\n",
       "  'reg_lambda': 0,\n",
       "  'verbose': -1}}"
      ]
     },
     "execution_count": 131,
     "metadata": {},
     "output_type": "execute_result"
    }
   ],
   "source": [
    "lgbm_params"
   ]
  },
  {
   "cell_type": "code",
   "execution_count": 132,
   "id": "9ae5c210",
   "metadata": {},
   "outputs": [
    {
     "data": {
      "text/plain": [
       "<Axes: title={'center': 'Feature importance'}, xlabel='Feature importance', ylabel='Features'>"
      ]
     },
     "execution_count": 132,
     "metadata": {},
     "output_type": "execute_result"
    },
    {
     "data": {
      "image/png": "[encoded data removed]",
      "text/plain": [
       "<Figure size 640x480 with 1 Axes>"
      ]
     },
     "metadata": {},
     "output_type": "display_data"
    }
   ],
   "source": [
    "lightgbm.plot_importance(lgbm_estimators[0])"
   ]
  },
  {
   "cell_type": "code",
   "execution_count": 135,
   "id": "1882b630",
   "metadata": {},
   "outputs": [
    {
     "data": {
      "text/plain": [
       "<Axes: title={'center': 'Feature importance'}, xlabel='Feature importance', ylabel='Features'>"
      ]
     },
     "execution_count": 135,
     "metadata": {},
     "output_type": "execute_result"
    },
    {
     "data": {
      "image/png": "[encoded data removed]",
      "text/plain": [
       "<Figure size 640x480 with 1 Axes>"
      ]
     },
     "metadata": {},
     "output_type": "display_data"
    }
   ],
   "source": [
    "lightgbm.plot_importance(lgbm_estimators[3])"
   ]
  },
  {
   "cell_type": "code",
   "execution_count": 90,
   "id": "a363ed46",
   "metadata": {},
   "outputs": [],
   "source": [
    "viz_df = pd.DataFrame(data={'position': names,\n",
    "                         'lr_mse': [lr_results[n][1] for n in names], \n",
    "                         'lightgbm_mse': [lgbm_results[n][1] for n in names]})"
   ]
  },
  {
   "cell_type": "code",
   "execution_count": 91,
   "id": "c7f21736",
   "metadata": {},
   "outputs": [
    {
     "data": {
      "text/plain": [
       "<seaborn.axisgrid.FacetGrid at 0x1301bf160>"
      ]
     },
     "execution_count": 91,
     "metadata": {},
     "output_type": "execute_result"
    },
    {
     "data": {
      "image/png": "[encoded data removed]",
      "text/plain": [
       "<Figure size 648.25x500 with 1 Axes>"
      ]
     },
     "metadata": {},
     "output_type": "display_data"
    }
   ],
   "source": [
    "viz_df = pd.melt(viz_df, id_vars = 'position')\n",
    "viz_df.rename(columns={'variable': 'model'})\n",
    "viz_df\n",
    "sns.catplot(x = 'position', y='value', hue = 'variable',data=viz_df, kind='bar')"
   ]
  },
  {
   "cell_type": "markdown",
   "id": "7691834b",
   "metadata": {},
   "source": [
    "#### Mixed Positions "
   ]
  },
  {
   "cell_type": "code",
   "execution_count": 74,
   "id": "b0526a9c",
   "metadata": {},
   "outputs": [],
   "source": [
    "full_df = pd.get_dummies(full_df)"
   ]
  },
  {
   "cell_type": "code",
   "execution_count": 75,
   "id": "c1bb5123",
   "metadata": {},
   "outputs": [],
   "source": [
    "X = full_df.drop('Target_Output', axis=1)\n",
    "y = full_df.Target_Output\n",
    "\n",
    "# Train/Valid/Test 0.6/0.2/0.2\n",
    "# Test set is still held-out and won't be used until writing the report.\n",
    "X_train, X_test, y_train, y_test = train_test_split(X, y, test_size=0.2, random_state=1)\n",
    "\n",
    "X_train, X_val, y_train, y_val = train_test_split(X_train, y_train, test_size=0.25, random_state=1)"
   ]
  },
  {
   "cell_type": "code",
   "execution_count": 76,
   "id": "9191e653",
   "metadata": {},
   "outputs": [
    {
     "name": "stdout",
     "output_type": "stream",
     "text": [
      "linear Train MSE: 4.500336\n",
      "linear Validation MSE: 4.732210\n"
     ]
    },
    {
     "data": {
      "text/html": [
       "<div>\n",
       "<style scoped>\n",
       "    .dataframe tbody tr th:only-of-type {\n",
       "        vertical-align: middle;\n",
       "    }\n",
       "\n",
       "    .dataframe tbody tr th {\n",
       "        vertical-align: top;\n",
       "    }\n",
       "\n",
       "    .dataframe thead th {\n",
       "        text-align: right;\n",
       "    }\n",
       "</style>\n",
       "<table border=\"1\" class=\"dataframe\">\n",
       "  <thead>\n",
       "    <tr style=\"text-align: right;\">\n",
       "      <th></th>\n",
       "      <th>0</th>\n",
       "      <th>1</th>\n",
       "      <th>2</th>\n",
       "      <th>3</th>\n",
       "      <th>4</th>\n",
       "      <th>5</th>\n",
       "      <th>6</th>\n",
       "      <th>7</th>\n",
       "      <th>8</th>\n",
       "      <th>9</th>\n",
       "      <th>...</th>\n",
       "      <th>26</th>\n",
       "      <th>27</th>\n",
       "      <th>28</th>\n",
       "      <th>29</th>\n",
       "      <th>30</th>\n",
       "      <th>31</th>\n",
       "      <th>32</th>\n",
       "      <th>33</th>\n",
       "      <th>34</th>\n",
       "      <th>35</th>\n",
       "    </tr>\n",
       "  </thead>\n",
       "  <tbody>\n",
       "    <tr>\n",
       "      <th>0</th>\n",
       "      <td>assists</td>\n",
       "      <td>clean_sheets</td>\n",
       "      <td>creativity</td>\n",
       "      <td>goals_conceded</td>\n",
       "      <td>goals_scored</td>\n",
       "      <td>ict_index</td>\n",
       "      <td>minutes</td>\n",
       "      <td>penalties_missed</td>\n",
       "      <td>influence</td>\n",
       "      <td>penalties_saved</td>\n",
       "      <td>...</td>\n",
       "      <td>opponent_team_19</td>\n",
       "      <td>opponent_team_2</td>\n",
       "      <td>opponent_team_20</td>\n",
       "      <td>opponent_team_3</td>\n",
       "      <td>opponent_team_4</td>\n",
       "      <td>opponent_team_5</td>\n",
       "      <td>opponent_team_6</td>\n",
       "      <td>opponent_team_7</td>\n",
       "      <td>opponent_team_8</td>\n",
       "      <td>opponent_team_9</td>\n",
       "    </tr>\n",
       "    <tr>\n",
       "      <th>1</th>\n",
       "      <td>-0.0</td>\n",
       "      <td>0.0</td>\n",
       "      <td>0.021234</td>\n",
       "      <td>-0.040967</td>\n",
       "      <td>-0.0</td>\n",
       "      <td>0.0</td>\n",
       "      <td>0.018807</td>\n",
       "      <td>0.0</td>\n",
       "      <td>0.0</td>\n",
       "      <td>-0.0</td>\n",
       "      <td>...</td>\n",
       "      <td>0.0</td>\n",
       "      <td>-0.0</td>\n",
       "      <td>0.0</td>\n",
       "      <td>0.0</td>\n",
       "      <td>0.0</td>\n",
       "      <td>0.0</td>\n",
       "      <td>-0.0</td>\n",
       "      <td>-0.0</td>\n",
       "      <td>-0.0</td>\n",
       "      <td>-0.0</td>\n",
       "    </tr>\n",
       "  </tbody>\n",
       "</table>\n",
       "<p>2 rows × 36 columns</p>\n",
       "</div>"
      ],
      "text/plain": [
       "        0             1           2               3             4          5   \\\n",
       "0  assists  clean_sheets  creativity  goals_conceded  goals_scored  ict_index   \n",
       "1     -0.0           0.0    0.021234       -0.040967          -0.0        0.0   \n",
       "\n",
       "         6                 7          8                9   ...  \\\n",
       "0   minutes  penalties_missed  influence  penalties_saved  ...   \n",
       "1  0.018807               0.0        0.0             -0.0  ...   \n",
       "\n",
       "                 26               27                28               29  \\\n",
       "0  opponent_team_19  opponent_team_2  opponent_team_20  opponent_team_3   \n",
       "1               0.0             -0.0               0.0              0.0   \n",
       "\n",
       "                30               31               32               33  \\\n",
       "0  opponent_team_4  opponent_team_5  opponent_team_6  opponent_team_7   \n",
       "1              0.0              0.0             -0.0             -0.0   \n",
       "\n",
       "                34               35  \n",
       "0  opponent_team_8  opponent_team_9  \n",
       "1             -0.0             -0.0  \n",
       "\n",
       "[2 rows x 36 columns]"
      ]
     },
     "execution_count": 76,
     "metadata": {},
     "output_type": "execute_result"
    }
   ],
   "source": [
    "clf = linear_model.Lasso(alpha=0.01)\n",
    "clf.fit(X_train, y_train)\n",
    "preds = clf.predict(X_val)\n",
    "\n",
    "train_preds = clf.predict(X_train)\n",
    "print('linear Train MSE: %f' % mean_squared_error(y_train, train_preds))\n",
    "print('linear Validation MSE: %f' % mean_squared_error(y_val, preds))\n",
    "\n",
    "pd.DataFrame([clf.feature_names_in_, clf.coef_])"
   ]
  },
  {
   "cell_type": "code",
   "execution_count": null,
   "id": "59927158",
   "metadata": {},
   "outputs": [],
   "source": []
  }
 ],
 "metadata": {
  "kernelspec": {
   "display_name": "Python 3 (ipykernel)",
   "language": "python",
   "name": "python3"
  },
  "language_info": {
   "codemirror_mode": {
    "name": "ipython",
    "version": 3
   },
   "file_extension": ".py",
   "mimetype": "text/x-python",
   "name": "python",
   "nbconvert_exporter": "python",
   "pygments_lexer": "ipython3",
   "version": "3.10.10"
  }
 },
 "nbformat": 4,
 "nbformat_minor": 5
}
