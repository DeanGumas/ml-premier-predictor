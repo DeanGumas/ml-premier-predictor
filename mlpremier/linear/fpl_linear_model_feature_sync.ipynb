{
 "cells": [
  {
   "cell_type": "code",
   "execution_count": 1,
   "id": "57cc8757",
   "metadata": {},
   "outputs": [],
   "source": [
    "import numpy as np\n",
    "import pandas as pd\n",
    "import seaborn as sns\n",
    "import matplotlib.pyplot as plt\n",
    "from sklearn.model_selection import train_test_split\n",
    "from sklearn.metrics import mean_squared_error\n",
    "from sklearn import linear_model\n",
    "import lightgbm"
   ]
  },
  {
   "cell_type": "code",
   "execution_count": 2,
   "id": "dcbf8663",
   "metadata": {},
   "outputs": [],
   "source": [
    "datapath = '../data/'"
   ]
  },
  {
   "cell_type": "markdown",
   "id": "ceb3307d",
   "metadata": {},
   "source": [
    "### Feature Sync"
   ]
  },
  {
   "cell_type": "code",
   "execution_count": 3,
   "id": "05594e91",
   "metadata": {},
   "outputs": [],
   "source": [
    "window_size = '6'"
   ]
  },
  {
   "cell_type": "code",
   "execution_count": 4,
   "id": "f829740c",
   "metadata": {},
   "outputs": [],
   "source": [
    "gk_df = pd.read_csv(datapath+'gks_'+window_size+'.csv')\n",
    "def_df = pd.read_csv(datapath+'defs_'+window_size+'.csv')\n",
    "fwd_df = pd.read_csv(datapath+'fwds_'+window_size+'.csv')\n",
    "mid_df = pd.read_csv(datapath+'mids_'+window_size+'.csv')\n",
    "\n",
    "keep = ['assists', 'clean_sheets',\n",
    "       'creativity', 'goals_conceded', 'goals_scored', 'ict_index',\n",
    "       'influence', 'penalties_saved', 'red_cards', 'saves', 'threat', 'total_points',\n",
    "       'yellow_cards', 'was_home','opponent_team', 'Target_Output']\n",
    "\n",
    "gk_df = gk_df[keep]\n",
    "def_df = def_df[keep]\n",
    "fwd_df = fwd_df[keep]\n",
    "mid_df = mid_df[keep]\n",
    "\n",
    "# Treating opponent team as a categorical variable for now\n",
    "# I currently cannot calculate this week's matchup difficulty because team_h_score and team_a_score are averaged\n",
    "gk_df.opponent_team = gk_df.opponent_team.astype('int').apply(str)\n",
    "def_df.opponent_team = def_df.opponent_team.astype('int').apply(str)\n",
    "fwd_df.opponent_team = fwd_df.opponent_team.astype('int').apply(str)\n",
    "mid_df.opponent_team = mid_df.opponent_team.astype('int').apply(str)"
   ]
  },
  {
   "cell_type": "code",
   "execution_count": 5,
   "id": "669bfa78",
   "metadata": {},
   "outputs": [
    {
     "data": {
      "text/plain": [
       "Index(['assists', 'clean_sheets', 'creativity', 'goals_conceded',\n",
       "       'goals_scored', 'ict_index', 'influence', 'penalties_saved',\n",
       "       'red_cards', 'saves', 'threat', 'total_points', 'yellow_cards',\n",
       "       'was_home', 'opponent_team', 'Target_Output'],\n",
       "      dtype='object')"
      ]
     },
     "execution_count": 5,
     "metadata": {},
     "output_type": "execute_result"
    }
   ],
   "source": [
    "gk_df.columns"
   ]
  },
  {
   "cell_type": "code",
   "execution_count": 6,
   "id": "5cfb1001",
   "metadata": {},
   "outputs": [
    {
     "data": {
      "text/html": [
       "<div>\n",
       "<style scoped>\n",
       "    .dataframe tbody tr th:only-of-type {\n",
       "        vertical-align: middle;\n",
       "    }\n",
       "\n",
       "    .dataframe tbody tr th {\n",
       "        vertical-align: top;\n",
       "    }\n",
       "\n",
       "    .dataframe thead th {\n",
       "        text-align: right;\n",
       "    }\n",
       "</style>\n",
       "<table border=\"1\" class=\"dataframe\">\n",
       "  <thead>\n",
       "    <tr style=\"text-align: right;\">\n",
       "      <th></th>\n",
       "      <th>assists</th>\n",
       "      <th>clean_sheets</th>\n",
       "      <th>creativity</th>\n",
       "      <th>goals_conceded</th>\n",
       "      <th>goals_scored</th>\n",
       "      <th>ict_index</th>\n",
       "      <th>influence</th>\n",
       "      <th>penalties_saved</th>\n",
       "      <th>red_cards</th>\n",
       "      <th>saves</th>\n",
       "      <th>threat</th>\n",
       "      <th>total_points</th>\n",
       "      <th>yellow_cards</th>\n",
       "      <th>was_home</th>\n",
       "      <th>opponent_team</th>\n",
       "      <th>Target_Output</th>\n",
       "    </tr>\n",
       "  </thead>\n",
       "  <tbody>\n",
       "    <tr>\n",
       "      <th>0</th>\n",
       "      <td>0.0</td>\n",
       "      <td>0.166667</td>\n",
       "      <td>0.0</td>\n",
       "      <td>1.333333</td>\n",
       "      <td>0.0</td>\n",
       "      <td>1.466667</td>\n",
       "      <td>14.500000</td>\n",
       "      <td>0.0</td>\n",
       "      <td>0.0</td>\n",
       "      <td>2.000000</td>\n",
       "      <td>0.0</td>\n",
       "      <td>2.0</td>\n",
       "      <td>0.0</td>\n",
       "      <td>True</td>\n",
       "      <td>3</td>\n",
       "      <td>6.0</td>\n",
       "    </tr>\n",
       "    <tr>\n",
       "      <th>1</th>\n",
       "      <td>0.0</td>\n",
       "      <td>0.333333</td>\n",
       "      <td>0.0</td>\n",
       "      <td>1.000000</td>\n",
       "      <td>0.0</td>\n",
       "      <td>1.150000</td>\n",
       "      <td>11.266667</td>\n",
       "      <td>0.0</td>\n",
       "      <td>0.0</td>\n",
       "      <td>1.500000</td>\n",
       "      <td>0.0</td>\n",
       "      <td>6.0</td>\n",
       "      <td>0.0</td>\n",
       "      <td>False</td>\n",
       "      <td>18</td>\n",
       "      <td>10.0</td>\n",
       "    </tr>\n",
       "    <tr>\n",
       "      <th>2</th>\n",
       "      <td>0.0</td>\n",
       "      <td>0.500000</td>\n",
       "      <td>0.0</td>\n",
       "      <td>0.833333</td>\n",
       "      <td>0.0</td>\n",
       "      <td>1.683333</td>\n",
       "      <td>16.733333</td>\n",
       "      <td>0.0</td>\n",
       "      <td>0.0</td>\n",
       "      <td>2.333333</td>\n",
       "      <td>0.0</td>\n",
       "      <td>10.0</td>\n",
       "      <td>0.0</td>\n",
       "      <td>True</td>\n",
       "      <td>12</td>\n",
       "      <td>10.0</td>\n",
       "    </tr>\n",
       "    <tr>\n",
       "      <th>3</th>\n",
       "      <td>0.0</td>\n",
       "      <td>0.666667</td>\n",
       "      <td>0.0</td>\n",
       "      <td>0.666667</td>\n",
       "      <td>0.0</td>\n",
       "      <td>1.900000</td>\n",
       "      <td>18.800000</td>\n",
       "      <td>0.0</td>\n",
       "      <td>0.0</td>\n",
       "      <td>2.666667</td>\n",
       "      <td>0.0</td>\n",
       "      <td>10.0</td>\n",
       "      <td>0.0</td>\n",
       "      <td>False</td>\n",
       "      <td>5</td>\n",
       "      <td>6.0</td>\n",
       "    </tr>\n",
       "    <tr>\n",
       "      <th>4</th>\n",
       "      <td>0.0</td>\n",
       "      <td>0.833333</td>\n",
       "      <td>0.0</td>\n",
       "      <td>0.166667</td>\n",
       "      <td>0.0</td>\n",
       "      <td>1.900000</td>\n",
       "      <td>18.933333</td>\n",
       "      <td>0.0</td>\n",
       "      <td>0.0</td>\n",
       "      <td>2.666667</td>\n",
       "      <td>0.0</td>\n",
       "      <td>6.0</td>\n",
       "      <td>0.0</td>\n",
       "      <td>True</td>\n",
       "      <td>1</td>\n",
       "      <td>3.0</td>\n",
       "    </tr>\n",
       "  </tbody>\n",
       "</table>\n",
       "</div>"
      ],
      "text/plain": [
       "   assists  clean_sheets  creativity  goals_conceded  goals_scored  ict_index  \\\n",
       "0      0.0      0.166667         0.0        1.333333           0.0   1.466667   \n",
       "1      0.0      0.333333         0.0        1.000000           0.0   1.150000   \n",
       "2      0.0      0.500000         0.0        0.833333           0.0   1.683333   \n",
       "3      0.0      0.666667         0.0        0.666667           0.0   1.900000   \n",
       "4      0.0      0.833333         0.0        0.166667           0.0   1.900000   \n",
       "\n",
       "   influence  penalties_saved  red_cards     saves  threat  total_points  \\\n",
       "0  14.500000              0.0        0.0  2.000000     0.0           2.0   \n",
       "1  11.266667              0.0        0.0  1.500000     0.0           6.0   \n",
       "2  16.733333              0.0        0.0  2.333333     0.0          10.0   \n",
       "3  18.800000              0.0        0.0  2.666667     0.0          10.0   \n",
       "4  18.933333              0.0        0.0  2.666667     0.0           6.0   \n",
       "\n",
       "   yellow_cards  was_home opponent_team  Target_Output  \n",
       "0           0.0      True             3            6.0  \n",
       "1           0.0     False            18           10.0  \n",
       "2           0.0      True            12           10.0  \n",
       "3           0.0     False             5            6.0  \n",
       "4           0.0      True             1            3.0  "
      ]
     },
     "execution_count": 6,
     "metadata": {},
     "output_type": "execute_result"
    }
   ],
   "source": [
    "gk_df.head()"
   ]
  },
  {
   "cell_type": "markdown",
   "id": "c6d2e296",
   "metadata": {},
   "source": [
    "### Modeling"
   ]
  },
  {
   "cell_type": "code",
   "execution_count": 7,
   "id": "b1f43d47",
   "metadata": {},
   "outputs": [],
   "source": [
    "# For lightgbm\n",
    "params = {\n",
    "    'objective': 'regression',\n",
    "    'n_estimators': 200,\n",
    "    'num_leaves': 8,\n",
    "    'max_depth': 4,\n",
    "    'learning_rate': 0.01,\n",
    "    'reg_alpha': 0.01,\n",
    "    'reg_lambda': 0.01,\n",
    "    'verbose': -1\n",
    "}"
   ]
  },
  {
   "cell_type": "markdown",
   "id": "a15f9623",
   "metadata": {},
   "source": [
    "#### Goalkeepers"
   ]
  },
  {
   "cell_type": "code",
   "execution_count": 8,
   "id": "1f21e2d9",
   "metadata": {},
   "outputs": [],
   "source": [
    "model = lightgbm.LGBMRegressor(**params)"
   ]
  },
  {
   "cell_type": "code",
   "execution_count": 9,
   "id": "a629ac65",
   "metadata": {},
   "outputs": [],
   "source": [
    "gk_df = pd.get_dummies(gk_df)"
   ]
  },
  {
   "cell_type": "code",
   "execution_count": 10,
   "id": "cbca81d2",
   "metadata": {},
   "outputs": [],
   "source": [
    "X = gk_df.drop('Target_Output', axis=1)\n",
    "y = gk_df.Target_Output\n",
    "\n",
    "# Train/Valid/Test 0.6/0.2/0.2\n",
    "# Test set is still held-out and won't be used until writing the report.\n",
    "X_train, X_test, y_train, y_test = train_test_split(X, y, test_size=0.2, random_state=1)\n",
    "\n",
    "X_train, X_val, y_train, y_val = train_test_split(X_train, y_train, test_size=0.25, random_state=1)"
   ]
  },
  {
   "cell_type": "code",
   "execution_count": 11,
   "id": "8d13a0f1",
   "metadata": {},
   "outputs": [
    {
     "name": "stdout",
     "output_type": "stream",
     "text": [
      "lightgbm Train MSE: 3.007662\n",
      "lightgbm Validation MSE: 3.484219\n"
     ]
    }
   ],
   "source": [
    "model.fit(X_train, y_train)\n",
    "\n",
    "preds = model.predict(X_val)\n",
    "\n",
    "train_preds = model.predict(X_train)\n",
    "print('lightgbm Train MSE: %f' % mean_squared_error(y_train, train_preds))\n",
    "print('lightgbm Validation MSE: %f' % mean_squared_error(y_val, preds))"
   ]
  },
  {
   "cell_type": "code",
   "execution_count": 12,
   "id": "887cdc1e",
   "metadata": {},
   "outputs": [
    {
     "name": "stdout",
     "output_type": "stream",
     "text": [
      "linear Train MSE: 3.507056\n",
      "linear Validation MSE: 3.498940\n"
     ]
    },
    {
     "data": {
      "text/html": [
       "<div>\n",
       "<style scoped>\n",
       "    .dataframe tbody tr th:only-of-type {\n",
       "        vertical-align: middle;\n",
       "    }\n",
       "\n",
       "    .dataframe tbody tr th {\n",
       "        vertical-align: top;\n",
       "    }\n",
       "\n",
       "    .dataframe thead th {\n",
       "        text-align: right;\n",
       "    }\n",
       "</style>\n",
       "<table border=\"1\" class=\"dataframe\">\n",
       "  <thead>\n",
       "    <tr style=\"text-align: right;\">\n",
       "      <th></th>\n",
       "      <th>0</th>\n",
       "      <th>1</th>\n",
       "      <th>2</th>\n",
       "      <th>3</th>\n",
       "      <th>4</th>\n",
       "      <th>5</th>\n",
       "      <th>6</th>\n",
       "      <th>7</th>\n",
       "      <th>8</th>\n",
       "      <th>9</th>\n",
       "      <th>...</th>\n",
       "      <th>24</th>\n",
       "      <th>25</th>\n",
       "      <th>26</th>\n",
       "      <th>27</th>\n",
       "      <th>28</th>\n",
       "      <th>29</th>\n",
       "      <th>30</th>\n",
       "      <th>31</th>\n",
       "      <th>32</th>\n",
       "      <th>33</th>\n",
       "    </tr>\n",
       "  </thead>\n",
       "  <tbody>\n",
       "    <tr>\n",
       "      <th>0</th>\n",
       "      <td>assists</td>\n",
       "      <td>clean_sheets</td>\n",
       "      <td>creativity</td>\n",
       "      <td>goals_conceded</td>\n",
       "      <td>goals_scored</td>\n",
       "      <td>ict_index</td>\n",
       "      <td>influence</td>\n",
       "      <td>penalties_saved</td>\n",
       "      <td>red_cards</td>\n",
       "      <td>saves</td>\n",
       "      <td>...</td>\n",
       "      <td>opponent_team_19</td>\n",
       "      <td>opponent_team_2</td>\n",
       "      <td>opponent_team_20</td>\n",
       "      <td>opponent_team_3</td>\n",
       "      <td>opponent_team_4</td>\n",
       "      <td>opponent_team_5</td>\n",
       "      <td>opponent_team_6</td>\n",
       "      <td>opponent_team_7</td>\n",
       "      <td>opponent_team_8</td>\n",
       "      <td>opponent_team_9</td>\n",
       "    </tr>\n",
       "    <tr>\n",
       "      <th>1</th>\n",
       "      <td>0.0</td>\n",
       "      <td>2.592953</td>\n",
       "      <td>0.156794</td>\n",
       "      <td>0.537518</td>\n",
       "      <td>0.0</td>\n",
       "      <td>0.0</td>\n",
       "      <td>0.210124</td>\n",
       "      <td>-0.0</td>\n",
       "      <td>-0.0</td>\n",
       "      <td>-1.083213</td>\n",
       "      <td>...</td>\n",
       "      <td>0.275904</td>\n",
       "      <td>-0.0</td>\n",
       "      <td>-0.162122</td>\n",
       "      <td>0.0</td>\n",
       "      <td>-0.0</td>\n",
       "      <td>-0.0</td>\n",
       "      <td>0.061717</td>\n",
       "      <td>0.0</td>\n",
       "      <td>-0.0</td>\n",
       "      <td>-0.094067</td>\n",
       "    </tr>\n",
       "  </tbody>\n",
       "</table>\n",
       "<p>2 rows × 34 columns</p>\n",
       "</div>"
      ],
      "text/plain": [
       "        0             1           2               3             4          5   \\\n",
       "0  assists  clean_sheets  creativity  goals_conceded  goals_scored  ict_index   \n",
       "1      0.0      2.592953    0.156794        0.537518           0.0        0.0   \n",
       "\n",
       "          6                7          8         9   ...                24  \\\n",
       "0  influence  penalties_saved  red_cards     saves  ...  opponent_team_19   \n",
       "1   0.210124             -0.0       -0.0 -1.083213  ...          0.275904   \n",
       "\n",
       "                25                26               27               28  \\\n",
       "0  opponent_team_2  opponent_team_20  opponent_team_3  opponent_team_4   \n",
       "1             -0.0         -0.162122              0.0             -0.0   \n",
       "\n",
       "                29               30               31               32  \\\n",
       "0  opponent_team_5  opponent_team_6  opponent_team_7  opponent_team_8   \n",
       "1             -0.0         0.061717              0.0             -0.0   \n",
       "\n",
       "                33  \n",
       "0  opponent_team_9  \n",
       "1        -0.094067  \n",
       "\n",
       "[2 rows x 34 columns]"
      ]
     },
     "execution_count": 12,
     "metadata": {},
     "output_type": "execute_result"
    }
   ],
   "source": [
    "clf = linear_model.Lasso(alpha=0.01)\n",
    "clf.fit(X_train, y_train)\n",
    "preds = clf.predict(X_val)\n",
    "\n",
    "train_preds = clf.predict(X_train)\n",
    "print('linear Train MSE: %f' % mean_squared_error(y_train, train_preds))\n",
    "print('linear Validation MSE: %f' % mean_squared_error(y_val, preds))\n",
    "\n",
    "pd.DataFrame([clf.feature_names_in_, clf.coef_])"
   ]
  },
  {
   "cell_type": "code",
   "execution_count": 13,
   "id": "281aa4a2",
   "metadata": {},
   "outputs": [
    {
     "name": "stdout",
     "output_type": "stream",
     "text": [
      "Heuristic MSE: 6.674487\n"
     ]
    }
   ],
   "source": [
    "print('Heuristic MSE: %f' % mean_squared_error(y_val, X_val.total_points))"
   ]
  },
  {
   "cell_type": "markdown",
   "id": "daf475b0",
   "metadata": {},
   "source": [
    "#### Defenders"
   ]
  },
  {
   "cell_type": "code",
   "execution_count": 14,
   "id": "4c504b4d",
   "metadata": {},
   "outputs": [],
   "source": [
    "model = lightgbm.LGBMRegressor(**params)"
   ]
  },
  {
   "cell_type": "code",
   "execution_count": 15,
   "id": "f27ed5b9",
   "metadata": {},
   "outputs": [],
   "source": [
    "def_df = pd.get_dummies(def_df)"
   ]
  },
  {
   "cell_type": "code",
   "execution_count": 16,
   "id": "7d896608",
   "metadata": {},
   "outputs": [],
   "source": [
    "X = def_df.drop('Target_Output', axis=1)\n",
    "y = def_df.Target_Output\n",
    "\n",
    "# Train/Valid/Test 0.6/0.2/0.2\n",
    "# Test set is still held-out and won't be used until writing the report.\n",
    "X_train, X_test, y_train, y_test = train_test_split(X, y, test_size=0.2, random_state=1)\n",
    "\n",
    "X_train, X_val, y_train, y_val = train_test_split(X_train, y_train, test_size=0.25, random_state=1)"
   ]
  },
  {
   "cell_type": "code",
   "execution_count": 17,
   "id": "85768b02",
   "metadata": {},
   "outputs": [
    {
     "name": "stdout",
     "output_type": "stream",
     "text": [
      "lightgbm Train MSE: 4.411185\n",
      "lightgbm Validation MSE: 4.369393\n"
     ]
    }
   ],
   "source": [
    "model.fit(X_train, y_train)\n",
    "\n",
    "preds = model.predict(X_val)\n",
    "\n",
    "train_preds = model.predict(X_train)\n",
    "print('lightgbm Train MSE: %f' % mean_squared_error(y_train, train_preds))\n",
    "print('lightgbm Validation MSE: %f' % mean_squared_error(y_val, preds))"
   ]
  },
  {
   "cell_type": "code",
   "execution_count": 18,
   "id": "2e2c75a7",
   "metadata": {},
   "outputs": [
    {
     "name": "stdout",
     "output_type": "stream",
     "text": [
      "linear Train MSE: 4.765697\n",
      "linear Validation MSE: 4.521456\n"
     ]
    },
    {
     "data": {
      "text/html": [
       "<div>\n",
       "<style scoped>\n",
       "    .dataframe tbody tr th:only-of-type {\n",
       "        vertical-align: middle;\n",
       "    }\n",
       "\n",
       "    .dataframe tbody tr th {\n",
       "        vertical-align: top;\n",
       "    }\n",
       "\n",
       "    .dataframe thead th {\n",
       "        text-align: right;\n",
       "    }\n",
       "</style>\n",
       "<table border=\"1\" class=\"dataframe\">\n",
       "  <thead>\n",
       "    <tr style=\"text-align: right;\">\n",
       "      <th></th>\n",
       "      <th>0</th>\n",
       "      <th>1</th>\n",
       "      <th>2</th>\n",
       "      <th>3</th>\n",
       "      <th>4</th>\n",
       "      <th>5</th>\n",
       "      <th>6</th>\n",
       "      <th>7</th>\n",
       "      <th>8</th>\n",
       "      <th>9</th>\n",
       "      <th>...</th>\n",
       "      <th>24</th>\n",
       "      <th>25</th>\n",
       "      <th>26</th>\n",
       "      <th>27</th>\n",
       "      <th>28</th>\n",
       "      <th>29</th>\n",
       "      <th>30</th>\n",
       "      <th>31</th>\n",
       "      <th>32</th>\n",
       "      <th>33</th>\n",
       "    </tr>\n",
       "  </thead>\n",
       "  <tbody>\n",
       "    <tr>\n",
       "      <th>0</th>\n",
       "      <td>assists</td>\n",
       "      <td>clean_sheets</td>\n",
       "      <td>creativity</td>\n",
       "      <td>goals_conceded</td>\n",
       "      <td>goals_scored</td>\n",
       "      <td>ict_index</td>\n",
       "      <td>influence</td>\n",
       "      <td>penalties_saved</td>\n",
       "      <td>red_cards</td>\n",
       "      <td>saves</td>\n",
       "      <td>...</td>\n",
       "      <td>opponent_team_19</td>\n",
       "      <td>opponent_team_2</td>\n",
       "      <td>opponent_team_20</td>\n",
       "      <td>opponent_team_3</td>\n",
       "      <td>opponent_team_4</td>\n",
       "      <td>opponent_team_5</td>\n",
       "      <td>opponent_team_6</td>\n",
       "      <td>opponent_team_7</td>\n",
       "      <td>opponent_team_8</td>\n",
       "      <td>opponent_team_9</td>\n",
       "    </tr>\n",
       "    <tr>\n",
       "      <th>1</th>\n",
       "      <td>-0.0</td>\n",
       "      <td>0.313182</td>\n",
       "      <td>0.049491</td>\n",
       "      <td>0.0</td>\n",
       "      <td>-0.0</td>\n",
       "      <td>0.0</td>\n",
       "      <td>0.076523</td>\n",
       "      <td>0.0</td>\n",
       "      <td>-0.0</td>\n",
       "      <td>0.0</td>\n",
       "      <td>...</td>\n",
       "      <td>0.0</td>\n",
       "      <td>-0.085163</td>\n",
       "      <td>0.0</td>\n",
       "      <td>0.196909</td>\n",
       "      <td>0.001808</td>\n",
       "      <td>-0.0</td>\n",
       "      <td>0.038692</td>\n",
       "      <td>0.075034</td>\n",
       "      <td>0.0</td>\n",
       "      <td>-0.108624</td>\n",
       "    </tr>\n",
       "  </tbody>\n",
       "</table>\n",
       "<p>2 rows × 34 columns</p>\n",
       "</div>"
      ],
      "text/plain": [
       "        0             1           2               3             4          5   \\\n",
       "0  assists  clean_sheets  creativity  goals_conceded  goals_scored  ict_index   \n",
       "1     -0.0      0.313182    0.049491             0.0          -0.0        0.0   \n",
       "\n",
       "          6                7          8      9   ...                24  \\\n",
       "0  influence  penalties_saved  red_cards  saves  ...  opponent_team_19   \n",
       "1   0.076523              0.0       -0.0    0.0  ...               0.0   \n",
       "\n",
       "                25                26               27               28  \\\n",
       "0  opponent_team_2  opponent_team_20  opponent_team_3  opponent_team_4   \n",
       "1        -0.085163               0.0         0.196909         0.001808   \n",
       "\n",
       "                29               30               31               32  \\\n",
       "0  opponent_team_5  opponent_team_6  opponent_team_7  opponent_team_8   \n",
       "1             -0.0         0.038692         0.075034              0.0   \n",
       "\n",
       "                33  \n",
       "0  opponent_team_9  \n",
       "1        -0.108624  \n",
       "\n",
       "[2 rows x 34 columns]"
      ]
     },
     "execution_count": 18,
     "metadata": {},
     "output_type": "execute_result"
    }
   ],
   "source": [
    "clf = linear_model.Lasso(alpha=0.01)\n",
    "clf.fit(X_train, y_train)\n",
    "preds = clf.predict(X_val)\n",
    "\n",
    "train_preds = clf.predict(X_train)\n",
    "print('linear Train MSE: %f' % mean_squared_error(y_train, train_preds))\n",
    "print('linear Validation MSE: %f' % mean_squared_error(y_val, preds))\n",
    "\n",
    "pd.DataFrame([clf.feature_names_in_, clf.coef_])"
   ]
  },
  {
   "cell_type": "code",
   "execution_count": 19,
   "id": "75ed3334",
   "metadata": {},
   "outputs": [
    {
     "name": "stdout",
     "output_type": "stream",
     "text": [
      "Heuristic MSE: 8.003342\n"
     ]
    }
   ],
   "source": [
    "print('Heuristic MSE: %f' % mean_squared_error(y_val, X_val.total_points))"
   ]
  },
  {
   "cell_type": "markdown",
   "id": "fae4c02b",
   "metadata": {},
   "source": [
    "#### Forwards"
   ]
  },
  {
   "cell_type": "code",
   "execution_count": 20,
   "id": "f53148c2",
   "metadata": {},
   "outputs": [],
   "source": [
    "model = lightgbm.LGBMRegressor(**params)"
   ]
  },
  {
   "cell_type": "code",
   "execution_count": 21,
   "id": "ba1feff5",
   "metadata": {},
   "outputs": [],
   "source": [
    "fwd_df = pd.get_dummies(fwd_df)"
   ]
  },
  {
   "cell_type": "code",
   "execution_count": 22,
   "id": "5cff290f",
   "metadata": {},
   "outputs": [],
   "source": [
    "X = fwd_df.drop('Target_Output', axis=1)\n",
    "y = fwd_df.Target_Output\n",
    "\n",
    "# Train/Valid/Test 0.6/0.2/0.2\n",
    "# Test set is still held-out and won't be used until writing the report.\n",
    "X_train, X_test, y_train, y_test = train_test_split(X, y, test_size=0.2, random_state=1)\n",
    "\n",
    "X_train, X_val, y_train, y_val = train_test_split(X_train, y_train, test_size=0.25, random_state=1)"
   ]
  },
  {
   "cell_type": "code",
   "execution_count": 23,
   "id": "32e0f050",
   "metadata": {},
   "outputs": [
    {
     "name": "stdout",
     "output_type": "stream",
     "text": [
      "lightgbm Train MSE: 4.887702\n",
      "lightgbm Validation MSE: 6.015776\n"
     ]
    }
   ],
   "source": [
    "model.fit(X_train, y_train)\n",
    "\n",
    "preds = model.predict(X_val)\n",
    "\n",
    "train_preds = model.predict(X_train)\n",
    "print('lightgbm Train MSE: %f' % mean_squared_error(y_train, train_preds))\n",
    "print('lightgbm Validation MSE: %f' % mean_squared_error(y_val, preds))"
   ]
  },
  {
   "cell_type": "code",
   "execution_count": 24,
   "id": "847b89d7",
   "metadata": {},
   "outputs": [
    {
     "name": "stdout",
     "output_type": "stream",
     "text": [
      "linear Train MSE: 5.574827\n",
      "linear Validation MSE: 6.227419\n"
     ]
    },
    {
     "data": {
      "text/html": [
       "<div>\n",
       "<style scoped>\n",
       "    .dataframe tbody tr th:only-of-type {\n",
       "        vertical-align: middle;\n",
       "    }\n",
       "\n",
       "    .dataframe tbody tr th {\n",
       "        vertical-align: top;\n",
       "    }\n",
       "\n",
       "    .dataframe thead th {\n",
       "        text-align: right;\n",
       "    }\n",
       "</style>\n",
       "<table border=\"1\" class=\"dataframe\">\n",
       "  <thead>\n",
       "    <tr style=\"text-align: right;\">\n",
       "      <th></th>\n",
       "      <th>0</th>\n",
       "      <th>1</th>\n",
       "      <th>2</th>\n",
       "      <th>3</th>\n",
       "      <th>4</th>\n",
       "      <th>5</th>\n",
       "      <th>6</th>\n",
       "      <th>7</th>\n",
       "      <th>8</th>\n",
       "      <th>9</th>\n",
       "      <th>...</th>\n",
       "      <th>24</th>\n",
       "      <th>25</th>\n",
       "      <th>26</th>\n",
       "      <th>27</th>\n",
       "      <th>28</th>\n",
       "      <th>29</th>\n",
       "      <th>30</th>\n",
       "      <th>31</th>\n",
       "      <th>32</th>\n",
       "      <th>33</th>\n",
       "    </tr>\n",
       "  </thead>\n",
       "  <tbody>\n",
       "    <tr>\n",
       "      <th>0</th>\n",
       "      <td>assists</td>\n",
       "      <td>clean_sheets</td>\n",
       "      <td>creativity</td>\n",
       "      <td>goals_conceded</td>\n",
       "      <td>goals_scored</td>\n",
       "      <td>ict_index</td>\n",
       "      <td>influence</td>\n",
       "      <td>penalties_saved</td>\n",
       "      <td>red_cards</td>\n",
       "      <td>saves</td>\n",
       "      <td>...</td>\n",
       "      <td>opponent_team_19</td>\n",
       "      <td>opponent_team_2</td>\n",
       "      <td>opponent_team_20</td>\n",
       "      <td>opponent_team_3</td>\n",
       "      <td>opponent_team_4</td>\n",
       "      <td>opponent_team_5</td>\n",
       "      <td>opponent_team_6</td>\n",
       "      <td>opponent_team_7</td>\n",
       "      <td>opponent_team_8</td>\n",
       "      <td>opponent_team_9</td>\n",
       "    </tr>\n",
       "    <tr>\n",
       "      <th>1</th>\n",
       "      <td>-0.0</td>\n",
       "      <td>0.0</td>\n",
       "      <td>0.056386</td>\n",
       "      <td>0.589428</td>\n",
       "      <td>0.0</td>\n",
       "      <td>0.0</td>\n",
       "      <td>0.00118</td>\n",
       "      <td>0.0</td>\n",
       "      <td>-0.0</td>\n",
       "      <td>0.0</td>\n",
       "      <td>...</td>\n",
       "      <td>0.024098</td>\n",
       "      <td>-0.0</td>\n",
       "      <td>-0.034499</td>\n",
       "      <td>0.560914</td>\n",
       "      <td>0.0</td>\n",
       "      <td>0.331073</td>\n",
       "      <td>-0.0</td>\n",
       "      <td>-0.174466</td>\n",
       "      <td>-0.0</td>\n",
       "      <td>-0.542257</td>\n",
       "    </tr>\n",
       "  </tbody>\n",
       "</table>\n",
       "<p>2 rows × 34 columns</p>\n",
       "</div>"
      ],
      "text/plain": [
       "        0             1           2               3             4          5   \\\n",
       "0  assists  clean_sheets  creativity  goals_conceded  goals_scored  ict_index   \n",
       "1     -0.0           0.0    0.056386        0.589428           0.0        0.0   \n",
       "\n",
       "          6                7          8      9   ...                24  \\\n",
       "0  influence  penalties_saved  red_cards  saves  ...  opponent_team_19   \n",
       "1    0.00118              0.0       -0.0    0.0  ...          0.024098   \n",
       "\n",
       "                25                26               27               28  \\\n",
       "0  opponent_team_2  opponent_team_20  opponent_team_3  opponent_team_4   \n",
       "1             -0.0         -0.034499         0.560914              0.0   \n",
       "\n",
       "                29               30               31               32  \\\n",
       "0  opponent_team_5  opponent_team_6  opponent_team_7  opponent_team_8   \n",
       "1         0.331073             -0.0        -0.174466             -0.0   \n",
       "\n",
       "                33  \n",
       "0  opponent_team_9  \n",
       "1        -0.542257  \n",
       "\n",
       "[2 rows x 34 columns]"
      ]
     },
     "execution_count": 24,
     "metadata": {},
     "output_type": "execute_result"
    }
   ],
   "source": [
    "clf = linear_model.Lasso(alpha=0.01)\n",
    "clf.fit(X_train, y_train)\n",
    "preds = clf.predict(X_val)\n",
    "\n",
    "train_preds = clf.predict(X_train)\n",
    "print('linear Train MSE: %f' % mean_squared_error(y_train, train_preds))\n",
    "print('linear Validation MSE: %f' % mean_squared_error(y_val, preds))\n",
    "\n",
    "pd.DataFrame([clf.feature_names_in_, clf.coef_])"
   ]
  },
  {
   "cell_type": "code",
   "execution_count": 25,
   "id": "e089bac3",
   "metadata": {},
   "outputs": [
    {
     "name": "stdout",
     "output_type": "stream",
     "text": [
      "Heuristic MSE: 9.268949\n"
     ]
    }
   ],
   "source": [
    "print('Heuristic MSE: %f' % mean_squared_error(y_val, X_val.total_points))"
   ]
  },
  {
   "cell_type": "markdown",
   "id": "0546ae4c",
   "metadata": {},
   "source": [
    "#### Midfielders"
   ]
  },
  {
   "cell_type": "code",
   "execution_count": 26,
   "id": "750e3dad",
   "metadata": {},
   "outputs": [],
   "source": [
    "model = lightgbm.LGBMRegressor(**params)"
   ]
  },
  {
   "cell_type": "code",
   "execution_count": 27,
   "id": "2c8d8711",
   "metadata": {},
   "outputs": [],
   "source": [
    "mid_df = pd.get_dummies(mid_df)"
   ]
  },
  {
   "cell_type": "code",
   "execution_count": 28,
   "id": "994a7093",
   "metadata": {},
   "outputs": [],
   "source": [
    "X = mid_df.drop('Target_Output', axis=1)\n",
    "y = mid_df.Target_Output\n",
    "\n",
    "# Train/Valid/Test 0.6/0.2/0.2\n",
    "# Test set is still held-out and won't be used until writing the report.\n",
    "X_train, X_test, y_train, y_test = train_test_split(X, y, test_size=0.2, random_state=1)\n",
    "\n",
    "X_train, X_val, y_train, y_val = train_test_split(X_train, y_train, test_size=0.25, random_state=1)"
   ]
  },
  {
   "cell_type": "code",
   "execution_count": 29,
   "id": "30fc1bb9",
   "metadata": {},
   "outputs": [
    {
     "name": "stdout",
     "output_type": "stream",
     "text": [
      "lightgbm Train MSE: 4.229285\n",
      "lightgbm Validation MSE: 5.060418\n"
     ]
    }
   ],
   "source": [
    "model.fit(X_train, y_train)\n",
    "\n",
    "preds = model.predict(X_val)\n",
    "\n",
    "train_preds = model.predict(X_train)\n",
    "print('lightgbm Train MSE: %f' % mean_squared_error(y_train, train_preds))\n",
    "print('lightgbm Validation MSE: %f' % mean_squared_error(y_val, preds))"
   ]
  },
  {
   "cell_type": "code",
   "execution_count": 30,
   "id": "cb010597",
   "metadata": {},
   "outputs": [
    {
     "name": "stdout",
     "output_type": "stream",
     "text": [
      "linear Train MSE: 4.569375\n",
      "linear Validation MSE: 5.270811\n"
     ]
    },
    {
     "data": {
      "text/html": [
       "<div>\n",
       "<style scoped>\n",
       "    .dataframe tbody tr th:only-of-type {\n",
       "        vertical-align: middle;\n",
       "    }\n",
       "\n",
       "    .dataframe tbody tr th {\n",
       "        vertical-align: top;\n",
       "    }\n",
       "\n",
       "    .dataframe thead th {\n",
       "        text-align: right;\n",
       "    }\n",
       "</style>\n",
       "<table border=\"1\" class=\"dataframe\">\n",
       "  <thead>\n",
       "    <tr style=\"text-align: right;\">\n",
       "      <th></th>\n",
       "      <th>0</th>\n",
       "      <th>1</th>\n",
       "      <th>2</th>\n",
       "      <th>3</th>\n",
       "      <th>4</th>\n",
       "      <th>5</th>\n",
       "      <th>6</th>\n",
       "      <th>7</th>\n",
       "      <th>8</th>\n",
       "      <th>9</th>\n",
       "      <th>...</th>\n",
       "      <th>24</th>\n",
       "      <th>25</th>\n",
       "      <th>26</th>\n",
       "      <th>27</th>\n",
       "      <th>28</th>\n",
       "      <th>29</th>\n",
       "      <th>30</th>\n",
       "      <th>31</th>\n",
       "      <th>32</th>\n",
       "      <th>33</th>\n",
       "    </tr>\n",
       "  </thead>\n",
       "  <tbody>\n",
       "    <tr>\n",
       "      <th>0</th>\n",
       "      <td>assists</td>\n",
       "      <td>clean_sheets</td>\n",
       "      <td>creativity</td>\n",
       "      <td>goals_conceded</td>\n",
       "      <td>goals_scored</td>\n",
       "      <td>ict_index</td>\n",
       "      <td>influence</td>\n",
       "      <td>penalties_saved</td>\n",
       "      <td>red_cards</td>\n",
       "      <td>saves</td>\n",
       "      <td>...</td>\n",
       "      <td>opponent_team_19</td>\n",
       "      <td>opponent_team_2</td>\n",
       "      <td>opponent_team_20</td>\n",
       "      <td>opponent_team_3</td>\n",
       "      <td>opponent_team_4</td>\n",
       "      <td>opponent_team_5</td>\n",
       "      <td>opponent_team_6</td>\n",
       "      <td>opponent_team_7</td>\n",
       "      <td>opponent_team_8</td>\n",
       "      <td>opponent_team_9</td>\n",
       "    </tr>\n",
       "    <tr>\n",
       "      <th>1</th>\n",
       "      <td>-0.0</td>\n",
       "      <td>0.646223</td>\n",
       "      <td>0.027473</td>\n",
       "      <td>0.240216</td>\n",
       "      <td>-0.0</td>\n",
       "      <td>0.0</td>\n",
       "      <td>0.036586</td>\n",
       "      <td>0.0</td>\n",
       "      <td>0.0</td>\n",
       "      <td>0.0</td>\n",
       "      <td>...</td>\n",
       "      <td>0.0</td>\n",
       "      <td>-0.027442</td>\n",
       "      <td>-0.0</td>\n",
       "      <td>0.0</td>\n",
       "      <td>0.0</td>\n",
       "      <td>-0.0</td>\n",
       "      <td>0.0</td>\n",
       "      <td>0.0</td>\n",
       "      <td>-0.0</td>\n",
       "      <td>-0.0</td>\n",
       "    </tr>\n",
       "  </tbody>\n",
       "</table>\n",
       "<p>2 rows × 34 columns</p>\n",
       "</div>"
      ],
      "text/plain": [
       "        0             1           2               3             4          5   \\\n",
       "0  assists  clean_sheets  creativity  goals_conceded  goals_scored  ict_index   \n",
       "1     -0.0      0.646223    0.027473        0.240216          -0.0        0.0   \n",
       "\n",
       "          6                7          8      9   ...                24  \\\n",
       "0  influence  penalties_saved  red_cards  saves  ...  opponent_team_19   \n",
       "1   0.036586              0.0        0.0    0.0  ...               0.0   \n",
       "\n",
       "                25                26               27               28  \\\n",
       "0  opponent_team_2  opponent_team_20  opponent_team_3  opponent_team_4   \n",
       "1        -0.027442              -0.0              0.0              0.0   \n",
       "\n",
       "                29               30               31               32  \\\n",
       "0  opponent_team_5  opponent_team_6  opponent_team_7  opponent_team_8   \n",
       "1             -0.0              0.0              0.0             -0.0   \n",
       "\n",
       "                33  \n",
       "0  opponent_team_9  \n",
       "1             -0.0  \n",
       "\n",
       "[2 rows x 34 columns]"
      ]
     },
     "execution_count": 30,
     "metadata": {},
     "output_type": "execute_result"
    }
   ],
   "source": [
    "clf = linear_model.Lasso(alpha=0.01)\n",
    "clf.fit(X_train, y_train)\n",
    "preds = clf.predict(X_val)\n",
    "\n",
    "train_preds = clf.predict(X_train)\n",
    "print('linear Train MSE: %f' % mean_squared_error(y_train, train_preds))\n",
    "print('linear Validation MSE: %f' % mean_squared_error(y_val, preds))\n",
    "\n",
    "pd.DataFrame([clf.feature_names_in_, clf.coef_])"
   ]
  },
  {
   "cell_type": "code",
   "execution_count": 31,
   "id": "313f4f23",
   "metadata": {},
   "outputs": [
    {
     "name": "stdout",
     "output_type": "stream",
     "text": [
      "Heuristic MSE: 8.478620\n"
     ]
    }
   ],
   "source": [
    "print('Heuristic MSE: %f' % mean_squared_error(y_val, X_val.total_points))"
   ]
  },
  {
   "cell_type": "code",
   "execution_count": null,
   "id": "436ab021",
   "metadata": {},
   "outputs": [],
   "source": []
  }
 ],
 "metadata": {
  "kernelspec": {
   "display_name": "Python 3 (ipykernel)",
   "language": "python",
   "name": "python3"
  },
  "language_info": {
   "codemirror_mode": {
    "name": "ipython",
    "version": 3
   },
   "file_extension": ".py",
   "mimetype": "text/x-python",
   "name": "python",
   "nbconvert_exporter": "python",
   "pygments_lexer": "ipython3",
   "version": "3.10.10"
  }
 },
 "nbformat": 4,
 "nbformat_minor": 5
}
