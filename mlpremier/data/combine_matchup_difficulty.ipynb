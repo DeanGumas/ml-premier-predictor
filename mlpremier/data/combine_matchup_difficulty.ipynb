{
 "cells": [
  {
   "cell_type": "code",
   "execution_count": 1,
   "id": "8604194f",
   "metadata": {},
   "outputs": [],
   "source": [
    "import numpy as np\n",
    "import pandas as pd\n",
    "import seaborn as sns\n",
    "from pathlib import Path"
   ]
  },
  {
   "cell_type": "code",
   "execution_count": 2,
   "id": "cf353d02",
   "metadata": {},
   "outputs": [],
   "source": [
    "# Fixture df by season\n",
    "p = Path('fixtures') \n",
    "files = list(p.glob(f'fixtures_*.csv'))\n",
    "df_dict = {f.stem: pd.read_csv(f) for f in files}\n",
    "\n",
    "# Team name - team id table\n",
    "#team_lookup_df = pd.read_csv('clean_data/master_team_list.csv')"
   ]
  },
  {
   "cell_type": "code",
   "execution_count": 3,
   "id": "d6c31de9",
   "metadata": {},
   "outputs": [
    {
     "data": {
      "text/plain": [
       "dict_keys(['fixtures_19_20', 'fixtures_21_22', 'fixtures_22_23', 'fixtures_20_21', 'fixtures_18_19'])"
      ]
     },
     "execution_count": 3,
     "metadata": {},
     "output_type": "execute_result"
    }
   ],
   "source": [
    "df_dict.keys()"
   ]
  },
  {
   "cell_type": "code",
   "execution_count": 9,
   "id": "453cf92b",
   "metadata": {},
   "outputs": [
    {
     "data": {
      "text/plain": [
       "Index(['code', 'event', 'finished', 'finished_provisional', 'id',\n",
       "       'kickoff_time', 'minutes', 'provisional_start_time', 'started', 'stats',\n",
       "       'team_a', 'team_a_difficulty', 'team_a_score', 'team_h',\n",
       "       'team_h_difficulty', 'team_h_score'],\n",
       "      dtype='object')"
      ]
     },
     "execution_count": 9,
     "metadata": {},
     "output_type": "execute_result"
    }
   ],
   "source": [
    "df_dict['fixtures_19_20'].columns"
   ]
  },
  {
   "cell_type": "code",
   "execution_count": 11,
   "metadata": {},
   "outputs": [
    {
     "data": {
      "text/plain": [
       "team_h  team_h_difficulty\n",
       "1       2                    8\n",
       "        3                    6\n",
       "        4                    5\n",
       "2       2                    7\n",
       "        3                    7\n",
       "        4                    5\n",
       "3       3                    7\n",
       "        2                    7\n",
       "        4                    5\n",
       "4       3                    7\n",
       "        2                    7\n",
       "        4                    5\n",
       "5       2                    8\n",
       "        3                    6\n",
       "        4                    5\n",
       "6       2                    8\n",
       "        3                    7\n",
       "        4                    4\n",
       "7       2                    8\n",
       "        3                    6\n",
       "        4                    5\n",
       "8       3                    7\n",
       "        2                    7\n",
       "        4                    5\n",
       "9       2                    8\n",
       "        3                    6\n",
       "        4                    5\n",
       "10      2                    8\n",
       "        3                    7\n",
       "        4                    4\n",
       "11      2                    8\n",
       "        3                    7\n",
       "        4                    4\n",
       "12      2                    8\n",
       "        3                    7\n",
       "        4                    4\n",
       "13      2                    7\n",
       "        3                    7\n",
       "        4                    5\n",
       "14      3                    7\n",
       "        2                    7\n",
       "        4                    5\n",
       "15      2                    8\n",
       "        3                    6\n",
       "        4                    5\n",
       "16      2                    8\n",
       "        3                    6\n",
       "        4                    5\n",
       "17      2                    8\n",
       "        3                    6\n",
       "        4                    5\n",
       "18      2                    7\n",
       "        3                    7\n",
       "        4                    5\n",
       "19      2                    7\n",
       "        3                    7\n",
       "        4                    5\n",
       "20      2                    8\n",
       "        3                    7\n",
       "        4                    4\n",
       "Name: count, dtype: int64"
      ]
     },
     "execution_count": 11,
     "metadata": {},
     "output_type": "execute_result"
    }
   ],
   "source": [
    "df_dict['fixtures_19_20'].groupby('team_h')['team_h_difficulty'].value_counts()"
   ]
  },
  {
   "cell_type": "code",
   "execution_count": 33,
   "id": "d916e2ff",
   "metadata": {},
   "outputs": [],
   "source": [
    "temp = df_dict['fixtures_19_20'][['team_a', 'team_h', 'team_a_difficulty', 'team_h_difficulty']]"
   ]
  },
  {
   "cell_type": "markdown",
   "id": "beb2e4c1",
   "metadata": {},
   "source": [
    "#### Notice that the difficulty rating takes \"home vs away\" into account"
   ]
  },
  {
   "cell_type": "code",
   "execution_count": 41,
   "id": "ef36e05b",
   "metadata": {},
   "outputs": [
    {
     "data": {
      "text/html": [
       "<div>\n",
       "<style scoped>\n",
       "    .dataframe tbody tr th:only-of-type {\n",
       "        vertical-align: middle;\n",
       "    }\n",
       "\n",
       "    .dataframe tbody tr th {\n",
       "        vertical-align: top;\n",
       "    }\n",
       "\n",
       "    .dataframe thead th {\n",
       "        text-align: right;\n",
       "    }\n",
       "</style>\n",
       "<table border=\"1\" class=\"dataframe\">\n",
       "  <thead>\n",
       "    <tr style=\"text-align: right;\">\n",
       "      <th></th>\n",
       "      <th>team_a</th>\n",
       "      <th>team_h</th>\n",
       "      <th>team_a_difficulty</th>\n",
       "      <th>team_h_difficulty</th>\n",
       "      <th>season</th>\n",
       "    </tr>\n",
       "  </thead>\n",
       "  <tbody>\n",
       "    <tr>\n",
       "      <th>90</th>\n",
       "      <td>16</td>\n",
       "      <td>20</td>\n",
       "      <td>2</td>\n",
       "      <td>2</td>\n",
       "      <td>22_23</td>\n",
       "    </tr>\n",
       "    <tr>\n",
       "      <th>171</th>\n",
       "      <td>16</td>\n",
       "      <td>17</td>\n",
       "      <td>2</td>\n",
       "      <td>2</td>\n",
       "      <td>22_23</td>\n",
       "    </tr>\n",
       "    <tr>\n",
       "      <th>235</th>\n",
       "      <td>16</td>\n",
       "      <td>19</td>\n",
       "      <td>3</td>\n",
       "      <td>2</td>\n",
       "      <td>22_23</td>\n",
       "    </tr>\n",
       "    <tr>\n",
       "      <th>255</th>\n",
       "      <td>16</td>\n",
       "      <td>18</td>\n",
       "      <td>4</td>\n",
       "      <td>2</td>\n",
       "      <td>22_23</td>\n",
       "    </tr>\n",
       "    <tr>\n",
       "      <th>17</th>\n",
       "      <td>19</td>\n",
       "      <td>16</td>\n",
       "      <td>2</td>\n",
       "      <td>2</td>\n",
       "      <td>22_23</td>\n",
       "    </tr>\n",
       "    <tr>\n",
       "      <th>39</th>\n",
       "      <td>18</td>\n",
       "      <td>16</td>\n",
       "      <td>2</td>\n",
       "      <td>3</td>\n",
       "      <td>22_23</td>\n",
       "    </tr>\n",
       "    <tr>\n",
       "      <th>275</th>\n",
       "      <td>20</td>\n",
       "      <td>16</td>\n",
       "      <td>2</td>\n",
       "      <td>2</td>\n",
       "      <td>22_23</td>\n",
       "    </tr>\n",
       "    <tr>\n",
       "      <th>346</th>\n",
       "      <td>17</td>\n",
       "      <td>16</td>\n",
       "      <td>2</td>\n",
       "      <td>2</td>\n",
       "      <td>22_23</td>\n",
       "    </tr>\n",
       "  </tbody>\n",
       "</table>\n",
       "</div>"
      ],
      "text/plain": [
       "     team_a  team_h  team_a_difficulty  team_h_difficulty season\n",
       "90       16      20                  2                  2  22_23\n",
       "171      16      17                  2                  2  22_23\n",
       "235      16      19                  3                  2  22_23\n",
       "255      16      18                  4                  2  22_23\n",
       "17       19      16                  2                  2  22_23\n",
       "39       18      16                  2                  3  22_23\n",
       "275      20      16                  2                  2  22_23\n",
       "346      17      16                  2                  2  22_23"
      ]
     },
     "execution_count": 41,
     "metadata": {},
     "output_type": "execute_result"
    }
   ],
   "source": [
    "pd.concat([temp[(temp['team_a'] == 16) & (temp['team_h'] >= 17)], temp[(temp['team_h'] == 16) & (temp['team_a'] >= 17)].head()])"
   ]
  },
  {
   "cell_type": "markdown",
   "id": "615ed9c1",
   "metadata": {},
   "source": [
    "#### Generate the full lookup table"
   ]
  },
  {
   "cell_type": "code",
   "execution_count": 36,
   "id": "3dd2a812",
   "metadata": {},
   "outputs": [],
   "source": [
    "full_fixture_difficulty_df = pd.DataFrame()\n",
    "for i in range(18, 23):\n",
    "    name = 'fixtures_' + str(i) + '_' + str(i+1)\n",
    "    temp = df_dict[name][['team_a', 'team_h', 'team_a_difficulty', 'team_h_difficulty']].copy()\n",
    "    temp['season'] = str(i) + '_' + str(i+1)\n",
    "    full_fixture_difficulty_df = pd.concat([full_fixture_difficulty_df, temp])"
   ]
  },
  {
   "cell_type": "code",
   "execution_count": 37,
   "id": "31013b03",
   "metadata": {},
   "outputs": [
    {
     "data": {
      "text/html": [
       "<div>\n",
       "<style scoped>\n",
       "    .dataframe tbody tr th:only-of-type {\n",
       "        vertical-align: middle;\n",
       "    }\n",
       "\n",
       "    .dataframe tbody tr th {\n",
       "        vertical-align: top;\n",
       "    }\n",
       "\n",
       "    .dataframe thead th {\n",
       "        text-align: right;\n",
       "    }\n",
       "</style>\n",
       "<table border=\"1\" class=\"dataframe\">\n",
       "  <thead>\n",
       "    <tr style=\"text-align: right;\">\n",
       "      <th></th>\n",
       "      <th>team_a</th>\n",
       "      <th>team_h</th>\n",
       "      <th>team_a_difficulty</th>\n",
       "      <th>team_h_difficulty</th>\n",
       "      <th>season</th>\n",
       "    </tr>\n",
       "  </thead>\n",
       "  <tbody>\n",
       "    <tr>\n",
       "      <th>0</th>\n",
       "      <td>11</td>\n",
       "      <td>14</td>\n",
       "      <td>4</td>\n",
       "      <td>3</td>\n",
       "      <td>18_19</td>\n",
       "    </tr>\n",
       "    <tr>\n",
       "      <th>1</th>\n",
       "      <td>17</td>\n",
       "      <td>15</td>\n",
       "      <td>3</td>\n",
       "      <td>4</td>\n",
       "      <td>18_19</td>\n",
       "    </tr>\n",
       "    <tr>\n",
       "      <th>2</th>\n",
       "      <td>5</td>\n",
       "      <td>2</td>\n",
       "      <td>3</td>\n",
       "      <td>2</td>\n",
       "      <td>18_19</td>\n",
       "    </tr>\n",
       "    <tr>\n",
       "      <th>3</th>\n",
       "      <td>7</td>\n",
       "      <td>9</td>\n",
       "      <td>2</td>\n",
       "      <td>2</td>\n",
       "      <td>18_19</td>\n",
       "    </tr>\n",
       "    <tr>\n",
       "      <th>4</th>\n",
       "      <td>6</td>\n",
       "      <td>10</td>\n",
       "      <td>2</td>\n",
       "      <td>4</td>\n",
       "      <td>18_19</td>\n",
       "    </tr>\n",
       "    <tr>\n",
       "      <th>...</th>\n",
       "      <td>...</td>\n",
       "      <td>...</td>\n",
       "      <td>...</td>\n",
       "      <td>...</td>\n",
       "      <td>...</td>\n",
       "    </tr>\n",
       "    <tr>\n",
       "      <th>375</th>\n",
       "      <td>3</td>\n",
       "      <td>8</td>\n",
       "      <td>2</td>\n",
       "      <td>2</td>\n",
       "      <td>22_23</td>\n",
       "    </tr>\n",
       "    <tr>\n",
       "      <th>376</th>\n",
       "      <td>18</td>\n",
       "      <td>11</td>\n",
       "      <td>2</td>\n",
       "      <td>3</td>\n",
       "      <td>22_23</td>\n",
       "    </tr>\n",
       "    <tr>\n",
       "      <th>377</th>\n",
       "      <td>19</td>\n",
       "      <td>10</td>\n",
       "      <td>3</td>\n",
       "      <td>2</td>\n",
       "      <td>22_23</td>\n",
       "    </tr>\n",
       "    <tr>\n",
       "      <th>378</th>\n",
       "      <td>9</td>\n",
       "      <td>14</td>\n",
       "      <td>4</td>\n",
       "      <td>2</td>\n",
       "      <td>22_23</td>\n",
       "    </tr>\n",
       "    <tr>\n",
       "      <th>379</th>\n",
       "      <td>12</td>\n",
       "      <td>17</td>\n",
       "      <td>2</td>\n",
       "      <td>4</td>\n",
       "      <td>22_23</td>\n",
       "    </tr>\n",
       "  </tbody>\n",
       "</table>\n",
       "<p>1900 rows × 5 columns</p>\n",
       "</div>"
      ],
      "text/plain": [
       "     team_a  team_h  team_a_difficulty  team_h_difficulty season\n",
       "0        11      14                  4                  3  18_19\n",
       "1        17      15                  3                  4  18_19\n",
       "2         5       2                  3                  2  18_19\n",
       "3         7       9                  2                  2  18_19\n",
       "4         6      10                  2                  4  18_19\n",
       "..      ...     ...                ...                ...    ...\n",
       "375       3       8                  2                  2  22_23\n",
       "376      18      11                  2                  3  22_23\n",
       "377      19      10                  3                  2  22_23\n",
       "378       9      14                  4                  2  22_23\n",
       "379      12      17                  2                  4  22_23\n",
       "\n",
       "[1900 rows x 5 columns]"
      ]
     },
     "execution_count": 37,
     "metadata": {},
     "output_type": "execute_result"
    }
   ],
   "source": [
    "full_fixture_difficulty_df"
   ]
  },
  {
   "cell_type": "markdown",
   "id": "6c4cd038",
   "metadata": {},
   "source": [
    "#### Un-comment to re-generate the table"
   ]
  },
  {
   "cell_type": "code",
   "execution_count": 42,
   "id": "7187d711",
   "metadata": {},
   "outputs": [],
   "source": [
    "#full_fixture_difficulty_df.to_csv('fixtures/full_fixture_difficulty.csv', index=False)"
   ]
  }
 ],
 "metadata": {
  "kernelspec": {
   "display_name": "Python 3 (ipykernel)",
   "language": "python",
   "name": "python3"
  },
  "language_info": {
   "codemirror_mode": {
    "name": "ipython",
    "version": 3
   },
   "file_extension": ".py",
   "mimetype": "text/x-python",
   "name": "python",
   "nbconvert_exporter": "python",
   "pygments_lexer": "ipython3",
   "version": "3.9.18"
  }
 },
 "nbformat": 4,
 "nbformat_minor": 5
}
