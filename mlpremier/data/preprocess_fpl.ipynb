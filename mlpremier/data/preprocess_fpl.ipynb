{
 "cells": [
  {
   "cell_type": "code",
   "execution_count": 2,
   "metadata": {},
   "outputs": [
    {
     "name": "stderr",
     "output_type": "stream",
     "text": [
      "/Users/danielfrees/miniconda3/envs/tflow3.9/lib/python3.9/site-packages/fuzzywuzzy/fuzz.py:11: UserWarning: Using slow pure-python SequenceMatcher. Install python-Levenshtein to remove this warning\n",
      "  warnings.warn('Using slow pure-python SequenceMatcher. Install python-Levenshtein to remove this warning')\n"
     ]
    }
   ],
   "source": [
    "import os\n",
    "import pandas as pd\n",
    "from fuzzywuzzy import process"
   ]
  },
  {
   "cell_type": "markdown",
   "metadata": {},
   "source": [
    "## Grab Player Metadata"
   ]
  },
  {
   "cell_type": "code",
   "execution_count": 3,
   "metadata": {},
   "outputs": [],
   "source": [
    "def create_player_meta_csv(season:str, \n",
    "                           save_dir:str=os.path.join('clean_data', 'meta')):\n",
    "    \"\"\" \n",
    "    Create a csv of player metadata.\n",
    "\n",
    "    :param str season: Which season of EPL data to process metadata for. Should \n",
    "        follow the format 20XX-X(X+1).\n",
    "    :param str save_dir: path within repo to desired data folder for the metadata\n",
    "      /path/to/data\n",
    "\n",
    "    :returns: Nothing\n",
    "    :rtype: None\n",
    "    \"\"\"\n",
    "    RAW_DATA_DIR = 'raw_data'\n",
    "    meta_data_list = []\n",
    "\n",
    "    # Check if raw_data/season/gws exists\n",
    "    season_dir = os.path.join(RAW_DATA_DIR, season, 'gws')\n",
    "    if not os.path.exists(season_dir):\n",
    "        print(f\"No data found for {season}/gws. Exiting.\")\n",
    "        return\n",
    "\n",
    "    # Iterate through all CSV files in gws folder\n",
    "    for filename in os.listdir(season_dir):\n",
    "        if filename.endswith(\".csv\"):\n",
    "            csv_path = os.path.join(season_dir, filename)\n",
    "            df = pd.read_csv(csv_path)\n",
    "            df = df.loc[:,['name', 'position', 'team']]\n",
    "\n",
    "            meta_data_list.append(df)\n",
    "\n",
    "    # Concatenate all gw metadata (we do this because players may transfer\n",
    "    # in and out of the league)\n",
    "    meta_data_df = pd.concat(meta_data_list, axis=0, ignore_index=True)\n",
    "    meta_data_df = meta_data_df.drop_duplicates(subset=['name'], keep='first')\n",
    "    \n",
    "    # Check if 'name', 'position', 'team' are consistent for each 'name'\n",
    "    #assert meta_data_df.groupby('name')['position'].nunique().eq(1).all()\n",
    "    #assert meta_data_df.groupby('name')['team'].nunique().eq(1).all()\n",
    "\n",
    "    # Write the cleaned dataframe to a CSV file\n",
    "    if not os.path.exists(save_dir):\n",
    "        os.makedirs(save_dir)\n",
    "    save_path = os.path.join(save_dir, f'player_meta_{season}.csv')\n",
    "    meta_data_df.to_csv(save_path, index=False)\n",
    "    print(f\"Player metadata saved to {save_path}\")\n",
    "\n",
    "    return"
   ]
  },
  {
   "cell_type": "code",
   "execution_count": 4,
   "metadata": {},
   "outputs": [
    {
     "name": "stdout",
     "output_type": "stream",
     "text": [
      "Player metadata saved to clean_data/meta/player_meta_2020-21.csv\n"
     ]
    }
   ],
   "source": [
    "create_player_meta_csv('2020-21')"
   ]
  },
  {
   "cell_type": "code",
   "execution_count": 15,
   "metadata": {},
   "outputs": [],
   "source": [
    "def append_player_metadata(season: str, \n",
    "                            save_dir: str = os.path.join('clean_data', 'players'),\n",
    "                            verbose:bool = False):\n",
    "    \"\"\"\n",
    "    Appends player metadata into player gw-by-gw CSVs.\n",
    "\n",
    "    :param str season: Which season of EPL data to process metadata for. Should \n",
    "        follow the format 20XX-X(X+1).\n",
    "    :param str save_dir: path within repo to desired data folder for the metadata\n",
    "        /path/to/data\n",
    "\n",
    "    :returns: Nothing\n",
    "    :rtype: None\n",
    "    \"\"\"\n",
    "    RAW_DATA_DIR = 'raw_data'\n",
    "    PLAYER_META_CSV_PATH = os.path.join('clean_data', 'meta', f'player_meta_{season}.csv')\n",
    "\n",
    "    # Load player metadata CSV\n",
    "    player_meta_df = pd.read_csv(PLAYER_META_CSV_PATH)\n",
    "\n",
    "    # Iterate through all player_name_folders in the raw_data/players directory\n",
    "    player_dirs = [f for f in os.listdir(os.path.join(RAW_DATA_DIR, season, 'players')) \n",
    "                   if os.path.isdir(os.path.join(RAW_DATA_DIR, season, 'players', f))]\n",
    "    \n",
    "    used_names = []\n",
    "\n",
    "    for player_folder in player_dirs:\n",
    "        player_folder_path = os.path.join(RAW_DATA_DIR, season, 'players', player_folder)\n",
    "        player_csv_path = os.path.join(player_folder_path, 'gw.csv')\n",
    "\n",
    "        # Load player gw CSV\n",
    "        player_gw_df = pd.read_csv(player_csv_path)\n",
    "\n",
    "        # Fuzzy match based on folder name to the closest name in PLAYER_META_CSV\n",
    "        # from the aforementioned csv path. column name to match on is 'name'.\n",
    "        matches = process.extractOne(player_folder.replace('_', ' '), \n",
    "                                     player_meta_df['name'])\n",
    "        top_match = matches[0]\n",
    "\n",
    "        if top_match in used_names:\n",
    "            raise Exception(f\"Attempted to assign an already matched player name. Player Folder: {player_folder}. Top Match: {matches[0]}\")\n",
    "        else:\n",
    "            player_metadata = player_meta_df[player_meta_df['name'] == matches[0]]\n",
    "\n",
    "            # Append player_metadata columns to player_gw_df\n",
    "            for col in player_metadata.columns:\n",
    "                player_gw_df[col] = player_metadata[col]\n",
    "\n",
    "            # Save the updated player_gw_df to the appropriate path\n",
    "            full_save_dir = os.path.join(season, save_dir, player_folder)\n",
    "            if not os.path.exists(full_save_dir):\n",
    "                os.makedirs(full_save_dir, exist_ok=True)\n",
    "\n",
    "            if verbose: \n",
    "                print(f\"Saving appended player data to: {full_save_dir}\")\n",
    "            player_gw_df.to_csv(os.path.join(full_save_dir, player_folder), \n",
    "                                index=False)\n",
    "\n",
    "            # Mark the player name as used\n",
    "            used_names.append(top_match)"
   ]
  },
  {
   "cell_type": "code",
   "execution_count": null,
   "metadata": {},
   "outputs": [],
   "source": [
    "append_player_metadata('2020-21', verbose=True)"
   ]
  },
  {
   "cell_type": "code",
   "execution_count": null,
   "metadata": {},
   "outputs": [],
   "source": []
  },
  {
   "cell_type": "code",
   "execution_count": null,
   "metadata": {},
   "outputs": [],
   "source": []
  }
 ],
 "metadata": {
  "kernelspec": {
   "display_name": "tflow3.9",
   "language": "python",
   "name": "python3"
  },
  "language_info": {
   "codemirror_mode": {
    "name": "ipython",
    "version": 3
   },
   "file_extension": ".py",
   "mimetype": "text/x-python",
   "name": "python",
   "nbconvert_exporter": "python",
   "pygments_lexer": "ipython3",
   "version": "3.9.18"
  }
 },
 "nbformat": 4,
 "nbformat_minor": 2
}
