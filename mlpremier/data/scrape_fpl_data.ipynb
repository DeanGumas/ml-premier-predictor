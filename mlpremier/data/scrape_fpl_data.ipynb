{
 "cells": [
  {
   "cell_type": "code",
   "execution_count": 1,
   "metadata": {},
   "outputs": [],
   "source": [
    "import pandas as pd\n",
    "import numpy as np\n",
    "import requests\n",
    "import os\n",
    "from typing import List\n",
    "import concurrent.futures"
   ]
  },
  {
   "cell_type": "code",
   "execution_count": 2,
   "metadata": {},
   "outputs": [],
   "source": [
    "def get_csv_recursive(github_token:str, repo:str, path:str)->List[str]:\n",
    "        \"\"\" \n",
    "        Recursively retrieve .csv downlaod paths from the specified github repo \n",
    "        and data path.\n",
    "\n",
    "        :param str github_token: Github API token with public_repo download access.\n",
    "        :param str repo: GH repo in the form gituser/repo\n",
    "        :param str path: path within repo to desired data folder /path/to/data\n",
    "\n",
    "        :returns: A list of recursively retrieved download urls for the csv \n",
    "            files in the provided repo and folder path\n",
    "        :rtype: List[str]\n",
    "        \"\"\"\n",
    "        headers = {\n",
    "            \"Authorization\": f\"token {github_token}\"\n",
    "        }\n",
    "        url = f\"https://api.github.com/repos/{repo}/contents/{path}\"\n",
    "        response = requests.get(url, headers=headers)\n",
    "        response_data = response.json()\n",
    "\n",
    "        csv_files = []\n",
    "        for item in response_data:\n",
    "            if item[\"type\"] == \"file\" and item[\"name\"].endswith(\".csv\"):\n",
    "                csv_files.append(item[\"download_url\"])\n",
    "            elif item[\"type\"] == \"dir\":\n",
    "                # Recursively get CSV files in subdirectories.\n",
    "                subfolder_path = os.path.join(path, item[\"name\"])\n",
    "                csv_files.extend(get_csv_recursive(github_token, repo, subfolder_path))\n",
    "        return csv_files\n",
    "\n",
    "def download_fpl_data(github_token:str,\n",
    "                      fpl_repo:str, \n",
    "                      season:str = \"2021-22\", \n",
    "                      save_dir:str = \"fpl_data\",\n",
    "                      verbose:bool = False) -> None:\n",
    "    \"\"\" \n",
    "    Download FPL data by player for the provided season.\n",
    "\n",
    "    :param str github_token: Github API token with public_repo download access.\n",
    "    :param str fpl_repo: FPL data repo path in form gituser/repo\n",
    "    :param str seasont: Which season of EPL data to download. Should \n",
    "        follow the format 20XX-X(X+1), with the earliest data available being\n",
    "        2016-17.\n",
    "    :param str save_dir: Directory to save data in.\n",
    "    \n",
    "\n",
    "    :return: None\n",
    "    :rtype: None\n",
    "    \"\"\"\n",
    "   \n",
    "    # Initialize headers with the personal access token.\n",
    "    headers = {\n",
    "        \"Authorization\": f\"token {github_token}\"\n",
    "    }\n",
    "\n",
    "    if fpl_repo is None:\n",
    "        fpl_repo = os.path.join(\"vaastav\", \"Fantasy-Premier-League\")\n",
    "\n",
    "    data_folder_path = os.path.join(\"data\")\n",
    "    season_path = os.path.join(f\"{season}\", \"players\") \n",
    "    path = os.path.join(data_folder_path, season_path)\n",
    "    \n",
    "    if verbose:\n",
    "        print(\"Retrieving list of CSV download URLs for requested repo folder.\")\n",
    "    csv_files = get_csv_recursive(github_token, fpl_repo, path)\n",
    "\n",
    "    # Download and save CSV files locally.\n",
    "    for csv_url in csv_files:\n",
    "        response = requests.get(csv_url, headers=headers)\n",
    "        if response.status_code == 200:\n",
    "            filename = os.path.join(\"raw_data\", \n",
    "                                    os.path.dirname(csv_url), \n",
    "                                    os.path.basename(csv_url))\n",
    "            if verbose:\n",
    "                print(f\"Downloading CSV File: {filename}...\")\n",
    "            with open(filename, \"wb\") as f:\n",
    "                f.write(response.content)\n",
    "\n",
    "    return"
   ]
  },
  {
   "cell_type": "code",
   "execution_count": 3,
   "metadata": {},
   "outputs": [
    {
     "name": "stdout",
     "output_type": "stream",
     "text": [
      "Retrieving list of CSV download URLs for requested repo folder.\n"
     ]
    }
   ],
   "source": [
    "#provide season in form 20XX-X(X+1)\n",
    "FPL_REPO = os.path.join(\"vaastav\", \"Fantasy-Premier-League\")\n",
    "SEASON = \"2021-22\"\n",
    "GH_KEY = os.getenv('GITHUB_TOKEN', None)\n",
    "assert GH_KEY is not None\n",
    "\n",
    "download_fpl_data(GH_KEY, FPL_REPO, SEASON, \"raw_data\", verbose=True)"
   ]
  },
  {
   "cell_type": "code",
   "execution_count": null,
   "metadata": {},
   "outputs": [],
   "source": []
  },
  {
   "cell_type": "code",
   "execution_count": null,
   "metadata": {},
   "outputs": [],
   "source": []
  }
 ],
 "metadata": {
  "kernelspec": {
   "display_name": "mlpremier",
   "language": "python",
   "name": "python3"
  },
  "language_info": {
   "codemirror_mode": {
    "name": "ipython",
    "version": 3
   },
   "file_extension": ".py",
   "mimetype": "text/x-python",
   "name": "python",
   "nbconvert_exporter": "python",
   "pygments_lexer": "ipython3",
   "version": "3.9.18"
  }
 },
 "nbformat": 4,
 "nbformat_minor": 2
}
