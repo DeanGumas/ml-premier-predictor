{
 "cells": [
  {
   "cell_type": "code",
   "execution_count": 1,
   "id": "d11a3ce2",
   "metadata": {},
   "outputs": [],
   "source": [
    "import os\n",
    "import lightgbm\n",
    "import shap\n",
    "import numpy as np\n",
    "import pandas as pd\n",
    "import seaborn as sns\n",
    "import matplotlib.pyplot as plt\n",
    "from sklearn.model_selection import train_test_split\n",
    "from sklearn.model_selection import GridSearchCV\n",
    "from sklearn.model_selection import StratifiedShuffleSplit\n",
    "from sklearn.model_selection import StratifiedKFold\n",
    "from sklearn.metrics import mean_squared_error\n",
    "from sklearn.preprocessing import MinMaxScaler\n",
    "from sklearn.preprocessing import StandardScaler\n",
    "from sklearn import linear_model\n",
    "from scipy.stats import spearmanr"
   ]
  },
  {
   "cell_type": "code",
   "execution_count": 2,
   "id": "fdd11bf2",
   "metadata": {},
   "outputs": [],
   "source": [
    "EDA_PLOTS = False"
   ]
  },
  {
   "cell_type": "markdown",
   "id": "a0dab19a",
   "metadata": {},
   "source": [
    "#### 20-21 Season"
   ]
  },
  {
   "cell_type": "code",
   "execution_count": 3,
   "id": "86bde69f",
   "metadata": {},
   "outputs": [],
   "source": [
    "datapath = '../data/clean_data/windowed_data/'\n",
    "teampath = '../data/clean_data/master_team_list.csv'\n",
    "fixturepath = '../data/fixtures/full_fixture_difficulty.csv'\n",
    "window_size = '9'\n",
    "season = '2020-21'\n",
    "pos_arr = np.array(['GK', 'DEF', 'FWD', 'MID'])\n",
    "\n",
    "team_name_df = pd.read_csv(teampath)\n",
    "fixture_df = pd.read_csv(fixturepath)\n",
    "team_name_df = team_name_df[team_name_df.season == season]\n",
    "fixture_df = fixture_df[fixture_df.season.str[-2:] == season[-2:]]\n",
    "fixture_df = fixture_df.merge(team_name_df, how='left', left_on='team_a', right_on='team')[['team_a_difficulty', 'team_h_difficulty', 'team_h', 'team_name']]\n",
    "fixture_df.rename(columns={'team_name':'away_team_name'}, inplace=True)\n",
    "fixture_df = fixture_df.merge(team_name_df, how='left', left_on='team_h', right_on='team')[['team_a_difficulty', 'team_h_difficulty', 'away_team_name', 'team_name']]\n",
    "fixture_df.rename(columns={'team_name':'home_team_name'}, inplace=True)\n",
    "\n",
    "def attach_difficulty(row):\n",
    "    '''Add the difficulty_gap column, select values based on whether the player is home/away.'''\n",
    "    try:\n",
    "        if row['was_home']:\n",
    "            team = fixture_df[(fixture_df.home_team_name == row.team) & (fixture_df.away_team_name == row.opponent_team)].reset_index(drop=True).loc[0, 'team_h_difficulty']\n",
    "            opponent = fixture_df[(fixture_df.home_team_name == row.team) & (fixture_df.away_team_name == row.opponent_team)].reset_index(drop=True).loc[0, 'team_a_difficulty']\n",
    "            return team - opponent\n",
    "        else:\n",
    "            team = fixture_df[(fixture_df.home_team_name == row.opponent_team) & (fixture_df.away_team_name == row.team)].reset_index(drop=True).loc[0, 'team_a_difficulty']\n",
    "            opponent = fixture_df[(fixture_df.home_team_name == row.opponent_team) & (fixture_df.away_team_name == row.team)].reset_index(drop=True).loc[0, 'team_h_difficulty']\n",
    "            return team - opponent\n",
    "    except KeyError:\n",
    "        return 0\n",
    "\n",
    "def read_data(pos, datapath, window_size, season, minimum_minutes=0):\n",
    "    '''Read windowed datasets. Filter inactive players. Create bins for stratification.'''\n",
    "    filename = pos + '_' + window_size\n",
    "    path = os.path.join(datapath, season, filename)\n",
    "    df = pd.read_csv(path + '.csv', usecols=lambda x: x != \"ict_index\")\n",
    "    df = df[df.minutes >= minimum_minutes]\n",
    "    df['difficulty_gap'] = df.apply(lambda r: attach_difficulty(r), axis=1, result_type='expand')\n",
    "    df.drop(['team', 'opponent_team'], axis=1, inplace=True)\n",
    "    \n",
    "    df['total_points_bin'] = pd.qcut(df['Target_Output'], 4, labels=False)\n",
    "    return df\n",
    "\n",
    "dfs_20_21 = [read_data(p, datapath, window_size, season, minimum_minutes=1e-6) for p in pos_arr]\n",
    "if EDA_PLOTS:\n",
    "    full_df_20_21 = pd.concat(dfs_20_21, keys=pos_arr)\n",
    "else:\n",
    "    full_df_20_21 = pd.concat(dfs_20_21)"
   ]
  },
  {
   "cell_type": "markdown",
   "id": "800b51a2",
   "metadata": {},
   "source": [
    "#### 21-22 season"
   ]
  },
  {
   "cell_type": "code",
   "execution_count": 4,
   "id": "cb239939",
   "metadata": {},
   "outputs": [],
   "source": [
    "season = '2021-22'\n",
    "\n",
    "team_name_df = pd.read_csv(teampath)\n",
    "team_name_df = team_name_df[team_name_df.season == season].drop(columns={'team_difficulty'})\n",
    "fixture_df = pd.read_csv(fixturepath)\n",
    "fixture_df = fixture_df[fixture_df.season.str[-2:] == season[-2:]]\n",
    "fixture_df = fixture_df.merge(team_name_df, how='left', left_on='team_a', right_on='team')[['team_a_difficulty', 'team_h_difficulty', 'team_h', 'team_name']]\n",
    "fixture_df.rename(columns={'team_name':'away_team_name'}, inplace=True)\n",
    "fixture_df = fixture_df.merge(team_name_df, how='left', left_on='team_h', right_on='team')[['team_a_difficulty', 'team_h_difficulty', 'away_team_name', 'team_name']]\n",
    "fixture_df.rename(columns={'team_name':'home_team_name'}, inplace=True)\n",
    "\n",
    "dfs_21_22 = [read_data(p, datapath, window_size, season, minimum_minutes=1e-6) for p in pos_arr]\n",
    "if EDA_PLOTS:\n",
    "    full_df_21_22 = pd.concat(dfs_21_22, keys=pos_arr)\n",
    "else:\n",
    "    full_df_21_22 = pd.concat(dfs_21_22)"
   ]
  },
  {
   "cell_type": "code",
   "execution_count": 5,
   "id": "37be087c",
   "metadata": {},
   "outputs": [],
   "source": [
    "# Combine 2 seasons\n",
    "dfs = [pd.concat([dfs_20_21[i], dfs_21_22[i]]) for i in range(4)]\n",
    "full_df = pd.concat([full_df_20_21, full_df_21_22])"
   ]
  },
  {
   "cell_type": "code",
   "execution_count": 6,
   "id": "5b6abc5a",
   "metadata": {},
   "outputs": [
    {
     "data": {
      "text/plain": [
       "Index(['assists', 'clean_sheets', 'creativity', 'bps', 'goals_conceded',\n",
       "       'goals_scored', 'influence', 'minutes', 'own_goals', 'penalties_missed',\n",
       "       'penalties_saved', 'red_cards', 'saves', 'threat', 'yellow_cards',\n",
       "       'total_points', 'was_home', 'Target_Output', 'difficulty_gap',\n",
       "       'total_points_bin'],\n",
       "      dtype='object')"
      ]
     },
     "execution_count": 6,
     "metadata": {},
     "output_type": "execute_result"
    }
   ],
   "source": [
    "full_df.columns"
   ]
  },
  {
   "cell_type": "code",
   "execution_count": 7,
   "id": "2c859f48",
   "metadata": {},
   "outputs": [
    {
     "data": {
      "text/html": [
       "<div>\n",
       "<style scoped>\n",
       "    .dataframe tbody tr th:only-of-type {\n",
       "        vertical-align: middle;\n",
       "    }\n",
       "\n",
       "    .dataframe tbody tr th {\n",
       "        vertical-align: top;\n",
       "    }\n",
       "\n",
       "    .dataframe thead th {\n",
       "        text-align: right;\n",
       "    }\n",
       "</style>\n",
       "<table border=\"1\" class=\"dataframe\">\n",
       "  <thead>\n",
       "    <tr style=\"text-align: right;\">\n",
       "      <th></th>\n",
       "      <th>assists</th>\n",
       "      <th>clean_sheets</th>\n",
       "      <th>creativity</th>\n",
       "      <th>bps</th>\n",
       "      <th>goals_conceded</th>\n",
       "      <th>goals_scored</th>\n",
       "      <th>influence</th>\n",
       "      <th>minutes</th>\n",
       "      <th>own_goals</th>\n",
       "      <th>penalties_missed</th>\n",
       "      <th>penalties_saved</th>\n",
       "      <th>red_cards</th>\n",
       "      <th>saves</th>\n",
       "      <th>threat</th>\n",
       "      <th>yellow_cards</th>\n",
       "      <th>total_points</th>\n",
       "      <th>was_home</th>\n",
       "      <th>Target_Output</th>\n",
       "      <th>difficulty_gap</th>\n",
       "      <th>total_points_bin</th>\n",
       "    </tr>\n",
       "  </thead>\n",
       "  <tbody>\n",
       "    <tr>\n",
       "      <th>0</th>\n",
       "      <td>0.0</td>\n",
       "      <td>0.0</td>\n",
       "      <td>1.111111</td>\n",
       "      <td>16.222222</td>\n",
       "      <td>1.666667</td>\n",
       "      <td>0.0</td>\n",
       "      <td>25.844444</td>\n",
       "      <td>90.0</td>\n",
       "      <td>0.0</td>\n",
       "      <td>0.0</td>\n",
       "      <td>0.0</td>\n",
       "      <td>0.0</td>\n",
       "      <td>4.0</td>\n",
       "      <td>0.222222</td>\n",
       "      <td>0.0</td>\n",
       "      <td>2.444444</td>\n",
       "      <td>False</td>\n",
       "      <td>3.0</td>\n",
       "      <td>0</td>\n",
       "      <td>2</td>\n",
       "    </tr>\n",
       "    <tr>\n",
       "      <th>1</th>\n",
       "      <td>0.0</td>\n",
       "      <td>0.0</td>\n",
       "      <td>1.000000</td>\n",
       "      <td>16.400000</td>\n",
       "      <td>1.600000</td>\n",
       "      <td>0.0</td>\n",
       "      <td>26.780000</td>\n",
       "      <td>90.0</td>\n",
       "      <td>0.0</td>\n",
       "      <td>0.0</td>\n",
       "      <td>0.0</td>\n",
       "      <td>0.0</td>\n",
       "      <td>4.1</td>\n",
       "      <td>0.200000</td>\n",
       "      <td>0.0</td>\n",
       "      <td>2.500000</td>\n",
       "      <td>True</td>\n",
       "      <td>1.0</td>\n",
       "      <td>-2</td>\n",
       "      <td>1</td>\n",
       "    </tr>\n",
       "    <tr>\n",
       "      <th>2</th>\n",
       "      <td>0.0</td>\n",
       "      <td>0.0</td>\n",
       "      <td>1.000000</td>\n",
       "      <td>16.500000</td>\n",
       "      <td>1.600000</td>\n",
       "      <td>0.0</td>\n",
       "      <td>26.680000</td>\n",
       "      <td>90.0</td>\n",
       "      <td>0.0</td>\n",
       "      <td>0.0</td>\n",
       "      <td>0.0</td>\n",
       "      <td>0.0</td>\n",
       "      <td>4.1</td>\n",
       "      <td>0.400000</td>\n",
       "      <td>0.0</td>\n",
       "      <td>2.500000</td>\n",
       "      <td>False</td>\n",
       "      <td>2.0</td>\n",
       "      <td>0</td>\n",
       "      <td>1</td>\n",
       "    </tr>\n",
       "    <tr>\n",
       "      <th>3</th>\n",
       "      <td>0.0</td>\n",
       "      <td>0.0</td>\n",
       "      <td>1.000000</td>\n",
       "      <td>17.500000</td>\n",
       "      <td>1.800000</td>\n",
       "      <td>0.0</td>\n",
       "      <td>28.060000</td>\n",
       "      <td>90.0</td>\n",
       "      <td>0.0</td>\n",
       "      <td>0.0</td>\n",
       "      <td>0.0</td>\n",
       "      <td>0.0</td>\n",
       "      <td>4.3</td>\n",
       "      <td>0.400000</td>\n",
       "      <td>0.0</td>\n",
       "      <td>2.500000</td>\n",
       "      <td>True</td>\n",
       "      <td>2.0</td>\n",
       "      <td>-2</td>\n",
       "      <td>1</td>\n",
       "    </tr>\n",
       "    <tr>\n",
       "      <th>4</th>\n",
       "      <td>0.0</td>\n",
       "      <td>0.0</td>\n",
       "      <td>0.000000</td>\n",
       "      <td>16.400000</td>\n",
       "      <td>2.000000</td>\n",
       "      <td>0.0</td>\n",
       "      <td>26.520000</td>\n",
       "      <td>90.0</td>\n",
       "      <td>0.0</td>\n",
       "      <td>0.0</td>\n",
       "      <td>0.0</td>\n",
       "      <td>0.0</td>\n",
       "      <td>4.0</td>\n",
       "      <td>0.400000</td>\n",
       "      <td>0.0</td>\n",
       "      <td>2.300000</td>\n",
       "      <td>False</td>\n",
       "      <td>2.0</td>\n",
       "      <td>-1</td>\n",
       "      <td>1</td>\n",
       "    </tr>\n",
       "  </tbody>\n",
       "</table>\n",
       "</div>"
      ],
      "text/plain": [
       "   assists  clean_sheets  creativity        bps  goals_conceded  goals_scored  \\\n",
       "0      0.0           0.0    1.111111  16.222222        1.666667           0.0   \n",
       "1      0.0           0.0    1.000000  16.400000        1.600000           0.0   \n",
       "2      0.0           0.0    1.000000  16.500000        1.600000           0.0   \n",
       "3      0.0           0.0    1.000000  17.500000        1.800000           0.0   \n",
       "4      0.0           0.0    0.000000  16.400000        2.000000           0.0   \n",
       "\n",
       "   influence  minutes  own_goals  penalties_missed  penalties_saved  \\\n",
       "0  25.844444     90.0        0.0               0.0              0.0   \n",
       "1  26.780000     90.0        0.0               0.0              0.0   \n",
       "2  26.680000     90.0        0.0               0.0              0.0   \n",
       "3  28.060000     90.0        0.0               0.0              0.0   \n",
       "4  26.520000     90.0        0.0               0.0              0.0   \n",
       "\n",
       "   red_cards  saves    threat  yellow_cards  total_points  was_home  \\\n",
       "0        0.0    4.0  0.222222           0.0      2.444444     False   \n",
       "1        0.0    4.1  0.200000           0.0      2.500000      True   \n",
       "2        0.0    4.1  0.400000           0.0      2.500000     False   \n",
       "3        0.0    4.3  0.400000           0.0      2.500000      True   \n",
       "4        0.0    4.0  0.400000           0.0      2.300000     False   \n",
       "\n",
       "   Target_Output  difficulty_gap  total_points_bin  \n",
       "0            3.0               0                 2  \n",
       "1            1.0              -2                 1  \n",
       "2            2.0               0                 1  \n",
       "3            2.0              -2                 1  \n",
       "4            2.0              -1                 1  "
      ]
     },
     "execution_count": 7,
     "metadata": {},
     "output_type": "execute_result"
    }
   ],
   "source": [
    "full_df.head()"
   ]
  },
  {
   "cell_type": "markdown",
   "id": "39981f5f",
   "metadata": {},
   "source": [
    "#### Plot: point distribution by position"
   ]
  },
  {
   "cell_type": "code",
   "execution_count": 8,
   "id": "499effd3",
   "metadata": {},
   "outputs": [],
   "source": [
    "if EDA_PLOTS:\n",
    "    sns.set(font_scale=1.3)\n",
    "    plot = sns.displot(\n",
    "        data=full_df.reset_index().rename(columns={'level_0': 'position'}), \n",
    "        x=\"Target_Output\",\n",
    "        hue='position',\n",
    "        kind='kde',\n",
    "        common_norm=False,\n",
    "        height=4.27, aspect=17.7/8.27)\n",
    "    sns.move_legend(plot, \"upper right\", bbox_to_anchor=(.75, 0.8))\n",
    "\n",
    "    #plot.figure.savefig('eda_pos_dist.png',dpi=600)"
   ]
  },
  {
   "cell_type": "markdown",
   "id": "e1e22028",
   "metadata": {},
   "source": [
    "#### Plot: correlations"
   ]
  },
  {
   "cell_type": "code",
   "execution_count": 9,
   "id": "493c4357",
   "metadata": {},
   "outputs": [
    {
     "data": {
      "text/plain": [
       "<AxesSubplot:>"
      ]
     },
     "execution_count": 9,
     "metadata": {},
     "output_type": "execute_result"
    },
    {
     "data": {
      "image/png": "[encoded data removed]",
      "text/plain": [
       "<Figure size 432x288 with 2 Axes>"
      ]
     },
     "metadata": {
      "needs_background": "light"
     },
     "output_type": "display_data"
    }
   ],
   "source": [
    "corr = dfs[2].drop(columns={'Target_Output', 'total_points', 'total_points_bin'}).select_dtypes('number').corr()\n",
    "sns.heatmap(corr)"
   ]
  },
  {
   "cell_type": "markdown",
   "id": "703c2bb9",
   "metadata": {},
   "source": [
    "### Modeling"
   ]
  },
  {
   "cell_type": "code",
   "execution_count": 10,
   "id": "6d5a6933",
   "metadata": {},
   "outputs": [],
   "source": [
    "def get_results(data, run_lgbm=True):\n",
    "    results = {}\n",
    "    print('Starting...')\n",
    "    \n",
    "    param_grid = {\n",
    "        'boosting_type': ['gbdt'],\n",
    "        'objective': ['regression'],\n",
    "        'n_estimators': [50, 200],\n",
    "        'num_leaves': [7, 15, 31],\n",
    "        'reg_alpha': [0.01, 10],\n",
    "        'reg_lambda': [10, 100],\n",
    "        'min_data_in_leaf': [70, 210],\n",
    "        'max_depth': [3, 5, 7, -1],\n",
    "        'learning_rate': [0.1, 0.01],\n",
    "        'verbose': [-1]\n",
    "    }\n",
    "    if not run_lgbm:\n",
    "        param_grid = {'verbose': [-1]}\n",
    "    \n",
    "    data = pd.get_dummies(data)\n",
    "    X = data.drop('Target_Output', axis=1)\n",
    "    y = data.Target_Output\n",
    "\n",
    "    # Test set is still held-out and won't be used until writing the report.\n",
    "    # Stratified split (by binned minutes)\n",
    "    split_criteria_name = 'total_points_bin'\n",
    "    X_train, X_test, y_train, y_test = train_test_split(\n",
    "        X, y, \n",
    "        test_size=0.2, \n",
    "        random_state=0, \n",
    "        stratify=X[split_criteria_name]\n",
    "    )\n",
    "    split_criteria = X_train[split_criteria_name]\n",
    "    X_train.drop(split_criteria_name, axis=1, inplace=True)\n",
    "    X_test.drop(split_criteria_name, axis=1, inplace=True)\n",
    "    \n",
    "    #splitter = StratifiedShuffleSplit(n_splits=5, test_size=0.2, random_state=0)\n",
    "    splitter = StratifiedKFold(n_splits=5)\n",
    "    \n",
    "    # Grid Search for lightgbm\n",
    "    # Stratified cv (by binned minutes)\n",
    "    grid = GridSearchCV(\n",
    "        lightgbm.LGBMRegressor(random_state=0), \n",
    "        param_grid, \n",
    "        scoring='neg_mean_squared_error',\n",
    "        cv=splitter.split(X_train, split_criteria),\n",
    "        return_train_score=True,\n",
    "        verbose=1\n",
    "    )\n",
    "    grid.fit(X_train, y_train)\n",
    "    best_in_grid = grid.best_estimator_\n",
    "    results['lgbm_est'] = best_in_grid\n",
    "    results['lgbm_full_stats'] = grid.cv_results_\n",
    "    \n",
    "    results['lgbm_report'] = [-grid.cv_results_['mean_train_score'][grid.cv_results_['mean_test_score'].argmax()],\n",
    "        grid.cv_results_['std_train_score'][grid.cv_results_['mean_test_score'].argmax()],\n",
    "        -grid.cv_results_['mean_test_score'].max(),\n",
    "        grid.cv_results_['std_test_score'][grid.cv_results_['mean_test_score'].argmax()], \n",
    "                              mean_squared_error(y_test, best_in_grid.predict(X_test))]\n",
    "    results['lgbm_test_set'] = [X_test, y_test, best_in_grid.predict(X_test)]\n",
    "    results['lgbm_spearmanr'] = spearmanr(y_test, best_in_grid.predict(X_test))\n",
    "    \n",
    "    # Linear Model\n",
    "    scaler = StandardScaler()\n",
    "    X_train_columns = X_train.columns\n",
    "    X_train = scaler.fit_transform(X_train)\n",
    "    X_test = scaler.transform(X_test)\n",
    "    lrgrid = GridSearchCV(\n",
    "        linear_model.Ridge(), \n",
    "        {'alpha': [0.001, 0.01, 0.1, 1, 10, 100, 1000]}, \n",
    "        #{'alpha': [10, 20, 30, 40, 50, 60, 70, 80, 90, 100, 150]},\n",
    "        scoring='neg_mean_squared_error',\n",
    "        cv=splitter.split(X_train, split_criteria),\n",
    "        return_train_score=True,\n",
    "        verbose=1\n",
    "    )\n",
    "    lrgrid.fit(X_train, y_train)\n",
    "    print('Best LR reg strength:', lrgrid.best_params_)\n",
    "    best_in_grid = lrgrid.best_estimator_\n",
    "    results['lr_est'] = best_in_grid\n",
    "    results['lr_coef'] = pd.concat([pd.DataFrame(X_train_columns),pd.DataFrame(np.transpose(best_in_grid.coef_))], axis = 1)\n",
    "    results['lr_full_stats'] = lrgrid.cv_results_\n",
    "    \n",
    "    results['lr_report'] = [\n",
    "        -lrgrid.cv_results_['mean_train_score'][lrgrid.cv_results_['mean_test_score'].argmax()],\n",
    "        lrgrid.cv_results_['std_train_score'][lrgrid.cv_results_['mean_test_score'].argmax()],\n",
    "        -lrgrid.cv_results_['mean_test_score'].max(),\n",
    "        lrgrid.cv_results_['std_test_score'][lrgrid.cv_results_['mean_test_score'].argmax()],\n",
    "        mean_squared_error(y_test, best_in_grid.predict(X_test))\n",
    "    ]\n",
    "    results['lr_test_set'] = [X_test, y_test, best_in_grid.predict(X_test)]\n",
    "    results['lr_spearmanr'] = spearmanr(y_test, best_in_grid.predict(X_test))\n",
    "    \n",
    "    return results"
   ]
  },
  {
   "cell_type": "code",
   "execution_count": 32,
   "id": "778f5b54",
   "metadata": {},
   "outputs": [
    {
     "name": "stdout",
     "output_type": "stream",
     "text": [
      "Starting...\n",
      "Fitting 5 folds for each of 384 candidates, totalling 1920 fits\n",
      "Fitting 5 folds for each of 7 candidates, totalling 35 fits\n",
      "Best LR reg strength: {'alpha': 100}\n",
      "Starting...\n",
      "Fitting 5 folds for each of 384 candidates, totalling 1920 fits\n",
      "Fitting 5 folds for each of 7 candidates, totalling 35 fits\n",
      "Best LR reg strength: {'alpha': 100}\n",
      "Starting...\n",
      "Fitting 5 folds for each of 384 candidates, totalling 1920 fits\n",
      "Fitting 5 folds for each of 7 candidates, totalling 35 fits\n",
      "Best LR reg strength: {'alpha': 100}\n",
      "Starting...\n",
      "Fitting 5 folds for each of 384 candidates, totalling 1920 fits\n",
      "Fitting 5 folds for each of 7 candidates, totalling 35 fits\n",
      "Best LR reg strength: {'alpha': 100}\n"
     ]
    }
   ],
   "source": [
    "RUN_LGBM = True\n",
    "\n",
    "def_results = get_results(dfs[1], run_lgbm=RUN_LGBM)\n",
    "gk_results = get_results(dfs[0], run_lgbm=RUN_LGBM)\n",
    "fwd_results = get_results(dfs[2], run_lgbm=RUN_LGBM)\n",
    "mid_results = get_results(dfs[3], run_lgbm=RUN_LGBM)"
   ]
  },
  {
   "cell_type": "markdown",
   "id": "f9272820",
   "metadata": {},
   "source": [
    "#### Display Result Tables"
   ]
  },
  {
   "cell_type": "code",
   "execution_count": 33,
   "id": "0fede716",
   "metadata": {},
   "outputs": [],
   "source": [
    "report_table = {'GK': gk_results['lgbm_report'] + gk_results['lr_report'],\n",
    "                'DEF': def_results['lgbm_report'] + def_results['lr_report'], \n",
    "                'MID': mid_results['lgbm_report'] + mid_results['lr_report'], \n",
    "                'FWD': fwd_results['lgbm_report'] + fwd_results['lr_report']}\n",
    "col_map = {0:'lgbm_train_avg_mse', 1:'lgbm_train_mse_std', 2: 'lgbm_valid_avg_mse', 3: 'lgbm_valid_mse_std',\n",
    "          4: 'lgbm_TEST_mse', 5: 'lr_train_avg_mse', 6: 'lr_train_mse_std', 7: 'lr_valid_avg_mse', 8: 'lr_valid_mse_std',\n",
    "          9: 'lr_TEST_mse'}\n",
    "report_table = pd.DataFrame.from_dict(report_table, orient='index').rename(columns=col_map)"
   ]
  },
  {
   "cell_type": "code",
   "execution_count": 34,
   "id": "52194b88",
   "metadata": {},
   "outputs": [
    {
     "data": {
      "text/html": [
       "<div>\n",
       "<style scoped>\n",
       "    .dataframe tbody tr th:only-of-type {\n",
       "        vertical-align: middle;\n",
       "    }\n",
       "\n",
       "    .dataframe tbody tr th {\n",
       "        vertical-align: top;\n",
       "    }\n",
       "\n",
       "    .dataframe thead th {\n",
       "        text-align: right;\n",
       "    }\n",
       "</style>\n",
       "<table border=\"1\" class=\"dataframe\">\n",
       "  <thead>\n",
       "    <tr style=\"text-align: right;\">\n",
       "      <th></th>\n",
       "      <th>lgbm_train_avg_mse</th>\n",
       "      <th>lgbm_train_mse_std</th>\n",
       "      <th>lgbm_valid_avg_mse</th>\n",
       "      <th>lgbm_valid_mse_std</th>\n",
       "      <th>lgbm_TEST_mse</th>\n",
       "    </tr>\n",
       "  </thead>\n",
       "  <tbody>\n",
       "    <tr>\n",
       "      <th>GK</th>\n",
       "      <td>6.180893</td>\n",
       "      <td>0.220380</td>\n",
       "      <td>6.666057</td>\n",
       "      <td>0.876159</td>\n",
       "      <td>6.263297</td>\n",
       "    </tr>\n",
       "    <tr>\n",
       "      <th>DEF</th>\n",
       "      <td>6.638182</td>\n",
       "      <td>0.112991</td>\n",
       "      <td>7.106344</td>\n",
       "      <td>0.475282</td>\n",
       "      <td>7.176953</td>\n",
       "    </tr>\n",
       "    <tr>\n",
       "      <th>MID</th>\n",
       "      <td>5.923685</td>\n",
       "      <td>0.050537</td>\n",
       "      <td>6.176478</td>\n",
       "      <td>0.239427</td>\n",
       "      <td>6.120561</td>\n",
       "    </tr>\n",
       "    <tr>\n",
       "      <th>FWD</th>\n",
       "      <td>6.554150</td>\n",
       "      <td>0.035234</td>\n",
       "      <td>6.744192</td>\n",
       "      <td>0.109267</td>\n",
       "      <td>7.251580</td>\n",
       "    </tr>\n",
       "  </tbody>\n",
       "</table>\n",
       "</div>"
      ],
      "text/plain": [
       "     lgbm_train_avg_mse  lgbm_train_mse_std  lgbm_valid_avg_mse  \\\n",
       "GK             6.180893            0.220380            6.666057   \n",
       "DEF            6.638182            0.112991            7.106344   \n",
       "MID            5.923685            0.050537            6.176478   \n",
       "FWD            6.554150            0.035234            6.744192   \n",
       "\n",
       "     lgbm_valid_mse_std  lgbm_TEST_mse  \n",
       "GK             0.876159       6.263297  \n",
       "DEF            0.475282       7.176953  \n",
       "MID            0.239427       6.120561  \n",
       "FWD            0.109267       7.251580  "
      ]
     },
     "execution_count": 34,
     "metadata": {},
     "output_type": "execute_result"
    }
   ],
   "source": [
    "report_table.iloc[:, :5]"
   ]
  },
  {
   "cell_type": "code",
   "execution_count": 35,
   "id": "ebcfd52b",
   "metadata": {},
   "outputs": [
    {
     "data": {
      "text/html": [
       "<div>\n",
       "<style scoped>\n",
       "    .dataframe tbody tr th:only-of-type {\n",
       "        vertical-align: middle;\n",
       "    }\n",
       "\n",
       "    .dataframe tbody tr th {\n",
       "        vertical-align: top;\n",
       "    }\n",
       "\n",
       "    .dataframe thead th {\n",
       "        text-align: right;\n",
       "    }\n",
       "</style>\n",
       "<table border=\"1\" class=\"dataframe\">\n",
       "  <thead>\n",
       "    <tr style=\"text-align: right;\">\n",
       "      <th></th>\n",
       "      <th>lr_train_avg_mse</th>\n",
       "      <th>lr_train_mse_std</th>\n",
       "      <th>lr_valid_avg_mse</th>\n",
       "      <th>lr_valid_mse_std</th>\n",
       "      <th>lr_TEST_mse</th>\n",
       "    </tr>\n",
       "  </thead>\n",
       "  <tbody>\n",
       "    <tr>\n",
       "      <th>GK</th>\n",
       "      <td>6.574704</td>\n",
       "      <td>0.221024</td>\n",
       "      <td>6.689274</td>\n",
       "      <td>0.906006</td>\n",
       "      <td>6.481949</td>\n",
       "    </tr>\n",
       "    <tr>\n",
       "      <th>DEF</th>\n",
       "      <td>7.117093</td>\n",
       "      <td>0.127671</td>\n",
       "      <td>7.143748</td>\n",
       "      <td>0.507358</td>\n",
       "      <td>7.207763</td>\n",
       "    </tr>\n",
       "    <tr>\n",
       "      <th>MID</th>\n",
       "      <td>6.110185</td>\n",
       "      <td>0.052548</td>\n",
       "      <td>6.149452</td>\n",
       "      <td>0.211447</td>\n",
       "      <td>6.096732</td>\n",
       "    </tr>\n",
       "    <tr>\n",
       "      <th>FWD</th>\n",
       "      <td>6.754653</td>\n",
       "      <td>0.026028</td>\n",
       "      <td>6.780892</td>\n",
       "      <td>0.104433</td>\n",
       "      <td>7.198800</td>\n",
       "    </tr>\n",
       "  </tbody>\n",
       "</table>\n",
       "</div>"
      ],
      "text/plain": [
       "     lr_train_avg_mse  lr_train_mse_std  lr_valid_avg_mse  lr_valid_mse_std  \\\n",
       "GK           6.574704          0.221024          6.689274          0.906006   \n",
       "DEF          7.117093          0.127671          7.143748          0.507358   \n",
       "MID          6.110185          0.052548          6.149452          0.211447   \n",
       "FWD          6.754653          0.026028          6.780892          0.104433   \n",
       "\n",
       "     lr_TEST_mse  \n",
       "GK      6.481949  \n",
       "DEF     7.207763  \n",
       "MID     6.096732  \n",
       "FWD     7.198800  "
      ]
     },
     "execution_count": 35,
     "metadata": {},
     "output_type": "execute_result"
    }
   ],
   "source": [
    "report_table.iloc[:, 5:]"
   ]
  },
  {
   "cell_type": "markdown",
   "id": "bc9cdf48",
   "metadata": {},
   "source": [
    "#### Plot: hyperparameter tuning to mitigate overfitting - lgbm"
   ]
  },
  {
   "cell_type": "code",
   "execution_count": 36,
   "id": "0a1c16b0",
   "metadata": {},
   "outputs": [
    {
     "data": {
      "image/png": "[encoded data removed]",
      "text/plain": [
       "<Figure size 432x288 with 2 Axes>"
      ]
     },
     "metadata": {
      "needs_background": "light"
     },
     "output_type": "display_data"
    }
   ],
   "source": [
    "def lgbm_overfit_plot(res):\n",
    "    overfit = {\n",
    "        'avg_train_mse': -res['lgbm_full_stats']['mean_train_score'],\n",
    "        'avg_valid_mse': -res['lgbm_full_stats']['mean_test_score']\n",
    "    }\n",
    "    overfit = pd.DataFrame.from_dict(overfit)\n",
    "\n",
    "    plot = sns.histplot(\n",
    "        overfit, x='avg_train_mse', y='avg_valid_mse',\n",
    "        bins=40, cbar=True, cbar_kws=dict(shrink=.75),\n",
    "    )\n",
    "    #.set_title('Hyperparameter Tuning to Prevent Overfit\\nGradient Boosting - Midfielders')\n",
    "    return plot\n",
    "\n",
    "plot = lgbm_overfit_plot(def_results)\n",
    "plot.figure.savefig('overfit_lgbm.png',dpi=600)"
   ]
  },
  {
   "cell_type": "markdown",
   "id": "35a3daf0",
   "metadata": {},
   "source": [
    "#### \\!\\!\\! No longer a good visualization\n",
    "#### Plot: hyperparameter tuning to mitigate overfitting - lr"
   ]
  },
  {
   "cell_type": "code",
   "execution_count": 37,
   "id": "27a69fd2",
   "metadata": {},
   "outputs": [
    {
     "data": {
      "image/png": "[encoded data removed]",
      "text/plain": [
       "<Figure size 432x288 with 1 Axes>"
      ]
     },
     "metadata": {
      "needs_background": "light"
     },
     "output_type": "display_data"
    }
   ],
   "source": [
    "def lr_overfit_plot(res_lst, name_lst):\n",
    "    overfit = pd.DataFrame()\n",
    "    for i, res in enumerate(res_lst):\n",
    "        temp = {\n",
    "            'avg_train_mse': -res['lr_full_stats']['mean_train_score'],\n",
    "            'avg_valid_mse': -res['lr_full_stats']['mean_test_score']\n",
    "        }\n",
    "        temp = pd.DataFrame.from_dict(temp)\n",
    "        #temp['normalized_avg_train_mse'] = MinMaxScaler().fit_transform(np.array(temp['avg_train_mse']).reshape(-1,1))\n",
    "        #temp['normalized_avg_valid_mse'] = MinMaxScaler().fit_transform(np.array(temp['avg_valid_mse']).reshape(-1,1))\n",
    "        temp['position'] = name_lst[i]\n",
    "        overfit = pd.concat([overfit, temp], ignore_index=True)\n",
    "    \n",
    "    plot = sns.lineplot(\n",
    "        data=overfit, x='avg_train_mse', y='avg_valid_mse', style='position',\n",
    "        marker='o', palette=\"flare\"\n",
    "    )\n",
    "    #.set_title('Hyperparameter Tuning to Prevent Overfit\\n Ridge Regression - All Positions')\n",
    "    return plot\n",
    "    \n",
    "\n",
    "plot = lr_overfit_plot([gk_results, def_results, fwd_results, mid_results], ['GK', 'DEF', 'FWD', 'MID'])\n",
    "plot.figure.savefig('output_figure.png',dpi=600)"
   ]
  },
  {
   "cell_type": "markdown",
   "id": "77e4bb87",
   "metadata": {},
   "source": [
    "#### Confirm that Stratified Splits are working as intended"
   ]
  },
  {
   "cell_type": "code",
   "execution_count": 38,
   "id": "03dfda3c",
   "metadata": {},
   "outputs": [
    {
     "name": "stdout",
     "output_type": "stream",
     "text": [
      "Based on average score\n",
      "test std: 2.8115682868826886 full std: 2.8867907975959826\n",
      "test mean: 2.4803625377643503 full mean: 2.488808227465215\n",
      "Based on average score\n",
      "test std: 2.860807436015175 full std: 2.8431751306194806\n",
      "test mean: 1.809414466130884 full mean: 1.8035837353549276\n",
      "Based on average score\n",
      "test std: 2.9058464739960828 full std: 2.8329078660845486\n",
      "test mean: 1.8970536031238907 full mean: 1.8773698785770077\n",
      "Based on average score\n",
      "test std: 2.704990719138059 full std: 2.7166155854003753\n",
      "test mean: 1.8807886290692344 full mean: 1.8717102246675836\n"
     ]
    }
   ],
   "source": [
    "def check_distribution(res_lst):\n",
    "    for i, res in enumerate(res_lst):\n",
    "        test_y = res['lgbm_test_set'][1]\n",
    "        print('Based on average score')\n",
    "        print('test std:', test_y.std(), 'full std:', dfs[i].Target_Output.std())\n",
    "        print('test mean:', test_y.mean(), 'full mean:', dfs[i].Target_Output.mean())\n",
    "\n",
    "check_distribution([gk_results, def_results, fwd_results, mid_results])"
   ]
  },
  {
   "cell_type": "markdown",
   "id": "923cad0c",
   "metadata": {},
   "source": [
    "#### Plot: residuals"
   ]
  },
  {
   "cell_type": "code",
   "execution_count": 39,
   "id": "7b42a30c",
   "metadata": {},
   "outputs": [
    {
     "data": {
      "text/plain": [
       "\"\\ndef test_analysis(res_lst, pos_lst):\\n    full_test_res = pd.DataFrame()\\n    for i, res in enumerate(res_lst):\\n        # test_res has no column name\\n        test_res = res['lr_test_set'][0].copy()\\n        \\n        test_res['y_true'] = res['lr_test_set'][1].reset_index(drop=True)\\n        test_res['y_pred'] = res['lr_test_set'][2]\\n        test_res['error'] = np.abs(test_res['y_pred'] - test_res['y_true'])\\n        test_res['pos'] = 'model'\\n        full_test_res = pd.concat([full_test_res, test_res])\\n        \\n    plot = sns.scatterplot(data=full_test_res, x='error', y='y_true', alpha=0.1)\\n    plt.plot(np.linspace(0, 20, 100), np.linspace(0, 20, 100), color='green')\\n    plot.figure.savefig('some_error.png',dpi=600)\\n\\ntest_analysis([gk_results, def_results, fwd_results, mid_results], ['GK', 'DEF', 'FWD', 'MID'])\\n\""
      ]
     },
     "execution_count": 39,
     "metadata": {},
     "output_type": "execute_result"
    }
   ],
   "source": [
    "# TODO: put the column names back before adding the test data to the return dictionary\n",
    "'''\n",
    "def test_analysis(res_lst, pos_lst):\n",
    "    full_test_res = pd.DataFrame()\n",
    "    for i, res in enumerate(res_lst):\n",
    "        # test_res has no column name\n",
    "        test_res = res['lr_test_set'][0].copy()\n",
    "        \n",
    "        test_res['y_true'] = res['lr_test_set'][1].reset_index(drop=True)\n",
    "        test_res['y_pred'] = res['lr_test_set'][2]\n",
    "        test_res['error'] = np.abs(test_res['y_pred'] - test_res['y_true'])\n",
    "        test_res['pos'] = 'model'\n",
    "        full_test_res = pd.concat([full_test_res, test_res])\n",
    "        \n",
    "    plot = sns.scatterplot(data=full_test_res, x='error', y='y_true', alpha=0.1)\n",
    "    plt.plot(np.linspace(0, 20, 100), np.linspace(0, 20, 100), color='green')\n",
    "    plot.figure.savefig('some_error.png',dpi=600)\n",
    "\n",
    "test_analysis([gk_results, def_results, fwd_results, mid_results], ['GK', 'DEF', 'FWD', 'MID'])\n",
    "'''"
   ]
  },
  {
   "cell_type": "markdown",
   "id": "0480e68a",
   "metadata": {},
   "source": [
    "#### Check Best Params, Feature Importance, Coefficients"
   ]
  },
  {
   "cell_type": "code",
   "execution_count": 40,
   "id": "963d951d",
   "metadata": {},
   "outputs": [
    {
     "data": {
      "text/plain": [
       "{'boosting_type': 'gbdt',\n",
       " 'class_weight': None,\n",
       " 'colsample_bytree': 1.0,\n",
       " 'importance_type': 'split',\n",
       " 'learning_rate': 0.1,\n",
       " 'max_depth': 3,\n",
       " 'min_child_samples': 20,\n",
       " 'min_child_weight': 0.001,\n",
       " 'min_split_gain': 0.0,\n",
       " 'n_estimators': 50,\n",
       " 'n_jobs': None,\n",
       " 'num_leaves': 15,\n",
       " 'objective': 'regression',\n",
       " 'random_state': 0,\n",
       " 'reg_alpha': 10,\n",
       " 'reg_lambda': 100,\n",
       " 'subsample': 1.0,\n",
       " 'subsample_for_bin': 200000,\n",
       " 'subsample_freq': 0,\n",
       " 'min_data_in_leaf': 70,\n",
       " 'verbose': -1}"
      ]
     },
     "execution_count": 40,
     "metadata": {},
     "output_type": "execute_result"
    }
   ],
   "source": [
    "mid_results['lgbm_est'].get_params()"
   ]
  },
  {
   "cell_type": "markdown",
   "id": "af35d00c",
   "metadata": {},
   "source": [
    "#### LightGBM built-in importance plots"
   ]
  },
  {
   "cell_type": "code",
   "execution_count": 76,
   "id": "cf67ed43",
   "metadata": {},
   "outputs": [
    {
     "data": {
      "image/png": "[encoded data removed]",
      "text/plain": [
       "<Figure size 720x576 with 4 Axes>"
      ]
     },
     "metadata": {
      "needs_background": "light"
     },
     "output_type": "display_data"
    }
   ],
   "source": [
    "def lgbm_importance_grid(res_lst, pos_lst):\n",
    "    fig, axs = plt.subplots(2, 2, figsize=(10, 8), sharex=True)\n",
    "    axs = axs.ravel()\n",
    "    for i in range(len(pos_lst)):\n",
    "        feature_importances = (res_lst[i]['lgbm_est'].feature_importances_ / sum(res_lst[i]['lgbm_est'].feature_importances_)) * 100\n",
    "        results = pd.DataFrame({'Feature Name': res_lst[i]['lgbm_est'].feature_name_, 'Importances (Percent Split)': feature_importances})\n",
    "        results.sort_values(by='Importances (Percent Split)', inplace=True)\n",
    "\n",
    "        axs[i].barh(results['Feature Name'], results['Importances (Percent Split)'])\n",
    "        axs[i].set_title(pos_lst[i] + ' Importance')\n",
    "        \n",
    "    plt.subplots_adjust(left=None, bottom=None, right=None, top=None, wspace=0.5, hspace=0.2)\n",
    "    fig.text(0.5, 0.04, 'Feature Importance (by percent split)', ha='center')\n",
    "    fig.savefig('lgbm_importance.png',dpi=800, bbox_inches=\"tight\")\n",
    "\n",
    "lgbm_importance_grid([gk_results, def_results, fwd_results, mid_results], ['GK', 'DEF', 'FWD', 'MID'])"
   ]
  },
  {
   "cell_type": "markdown",
   "id": "693155c6",
   "metadata": {},
   "source": [
    "#### SHAP plots"
   ]
  },
  {
   "cell_type": "code",
   "execution_count": 42,
   "id": "65808e92",
   "metadata": {},
   "outputs": [
    {
     "data": {
      "image/png": "[encoded data removed]",
      "text/plain": [
       "<Figure size 576x468 with 3 Axes>"
      ]
     },
     "metadata": {},
     "output_type": "display_data"
    }
   ],
   "source": [
    "explainer = shap.Explainer(fwd_results['lgbm_est'])\n",
    "shap_values = explainer(fwd_results['lgbm_test_set'][0])\n",
    "shap.plots.waterfall(shap_values[41], show=False)\n",
    "f = plt.gcf()\n",
    "#f.savefig('fwd_shap_viz.png',dpi=600)"
   ]
  },
  {
   "cell_type": "code",
   "execution_count": 77,
   "id": "ae646856",
   "metadata": {},
   "outputs": [
    {
     "data": {
      "image/png": "[encoded data removed]",
      "text/plain": [
       "<Figure size 576x468 with 3 Axes>"
      ]
     },
     "metadata": {},
     "output_type": "display_data"
    }
   ],
   "source": [
    "explainer = shap.Explainer(fwd_results['lgbm_est'])\n",
    "shap_values = explainer(fwd_results['lgbm_test_set'][0])\n",
    "shap.plots.waterfall(shap_values[47], show=False)\n",
    "f = plt.gcf()\n",
    "f.savefig('fwd_shap_viz.png',dpi=800, bbox_inches=\"tight\")"
   ]
  },
  {
   "cell_type": "code",
   "execution_count": 72,
   "id": "dc7edc54",
   "metadata": {},
   "outputs": [
    {
     "data": {
      "image/png": "[encoded data removed]",
      "text/plain": [
       "<Figure size 576x468 with 3 Axes>"
      ]
     },
     "metadata": {},
     "output_type": "display_data"
    }
   ],
   "source": [
    "explainer = shap.Explainer(def_results['lgbm_est'])\n",
    "shap_values = explainer(def_results['lgbm_test_set'][0])\n",
    "shap.plots.waterfall(shap_values[78])"
   ]
  },
  {
   "cell_type": "markdown",
   "id": "974d595e",
   "metadata": {},
   "source": [
    "#### LR Coefs"
   ]
  },
  {
   "cell_type": "code",
   "execution_count": 75,
   "id": "4fd79077",
   "metadata": {},
   "outputs": [
    {
     "data": {
      "image/png": "[encoded data removed]",
      "text/plain": [
       "<Figure size 432x288 with 2 Axes>"
      ]
     },
     "metadata": {
      "needs_background": "light"
     },
     "output_type": "display_data"
    }
   ],
   "source": [
    "def show_coef_heatmap(res_lst, pos_lst):\n",
    "    full_coef_df = pd.DataFrame()\n",
    "    for i, res in enumerate(res_lst):\n",
    "        coef_df = res['lr_coef'].copy()\n",
    "        coef_df.columns = ['feature_name', 'coef']\n",
    "        coef_df['position'] = pos_lst[i]\n",
    "        full_coef_df = pd.concat([full_coef_df, coef_df])\n",
    "    \n",
    "    full_coef_df = full_coef_df.pivot(index='feature_name', columns='position', values='coef')\n",
    "    plot = sns.heatmap(full_coef_df, center=0, cmap=\"coolwarm\")\n",
    "    return plot\n",
    "\n",
    "plot = show_coef_heatmap([gk_results, def_results, fwd_results, mid_results], ['GK', 'DEF', 'FWD', 'MID'])\n",
    "plot.figure.savefig('lr_coef_heatmap.png',dpi=800, bbox_inches=\"tight\")"
   ]
  },
  {
   "cell_type": "code",
   "execution_count": 46,
   "id": "0bed78b1",
   "metadata": {},
   "outputs": [
    {
     "data": {
      "text/html": [
       "<div>\n",
       "<style scoped>\n",
       "    .dataframe tbody tr th:only-of-type {\n",
       "        vertical-align: middle;\n",
       "    }\n",
       "\n",
       "    .dataframe tbody tr th {\n",
       "        vertical-align: top;\n",
       "    }\n",
       "\n",
       "    .dataframe thead th {\n",
       "        text-align: right;\n",
       "    }\n",
       "</style>\n",
       "<table border=\"1\" class=\"dataframe\">\n",
       "  <thead>\n",
       "    <tr style=\"text-align: right;\">\n",
       "      <th></th>\n",
       "      <th>0</th>\n",
       "      <th>1</th>\n",
       "      <th>2</th>\n",
       "      <th>3</th>\n",
       "      <th>4</th>\n",
       "      <th>5</th>\n",
       "      <th>6</th>\n",
       "      <th>7</th>\n",
       "      <th>8</th>\n",
       "      <th>9</th>\n",
       "      <th>10</th>\n",
       "      <th>11</th>\n",
       "      <th>12</th>\n",
       "      <th>13</th>\n",
       "      <th>14</th>\n",
       "      <th>15</th>\n",
       "      <th>16</th>\n",
       "      <th>17</th>\n",
       "    </tr>\n",
       "  </thead>\n",
       "  <tbody>\n",
       "    <tr>\n",
       "      <th>0</th>\n",
       "      <td>assists</td>\n",
       "      <td>clean_sheets</td>\n",
       "      <td>creativity</td>\n",
       "      <td>bps</td>\n",
       "      <td>goals_conceded</td>\n",
       "      <td>goals_scored</td>\n",
       "      <td>influence</td>\n",
       "      <td>minutes</td>\n",
       "      <td>own_goals</td>\n",
       "      <td>penalties_missed</td>\n",
       "      <td>penalties_saved</td>\n",
       "      <td>red_cards</td>\n",
       "      <td>saves</td>\n",
       "      <td>threat</td>\n",
       "      <td>yellow_cards</td>\n",
       "      <td>total_points</td>\n",
       "      <td>was_home</td>\n",
       "      <td>difficulty_gap</td>\n",
       "    </tr>\n",
       "    <tr>\n",
       "      <th>0</th>\n",
       "      <td>0.000686</td>\n",
       "      <td>0.143091</td>\n",
       "      <td>0.18306</td>\n",
       "      <td>0.143058</td>\n",
       "      <td>-0.193624</td>\n",
       "      <td>-0.099092</td>\n",
       "      <td>0.308689</td>\n",
       "      <td>0.371398</td>\n",
       "      <td>-0.013815</td>\n",
       "      <td>0.0</td>\n",
       "      <td>0.0</td>\n",
       "      <td>0.024896</td>\n",
       "      <td>0.0</td>\n",
       "      <td>0.174111</td>\n",
       "      <td>-0.068013</td>\n",
       "      <td>-0.086354</td>\n",
       "      <td>0.116687</td>\n",
       "      <td>0.282109</td>\n",
       "    </tr>\n",
       "  </tbody>\n",
       "</table>\n",
       "</div>"
      ],
      "text/plain": [
       "         0             1           2         3               4             5   \\\n",
       "0   assists  clean_sheets  creativity       bps  goals_conceded  goals_scored   \n",
       "0  0.000686      0.143091     0.18306  0.143058       -0.193624     -0.099092   \n",
       "\n",
       "          6         7          8                 9                10  \\\n",
       "0  influence   minutes  own_goals  penalties_missed  penalties_saved   \n",
       "0   0.308689  0.371398  -0.013815               0.0              0.0   \n",
       "\n",
       "          11     12        13            14            15        16  \\\n",
       "0  red_cards  saves    threat  yellow_cards  total_points  was_home   \n",
       "0   0.024896    0.0  0.174111     -0.068013     -0.086354  0.116687   \n",
       "\n",
       "               17  \n",
       "0  difficulty_gap  \n",
       "0        0.282109  "
      ]
     },
     "execution_count": 46,
     "metadata": {},
     "output_type": "execute_result"
    }
   ],
   "source": [
    "def_results['lr_coef'].T"
   ]
  },
  {
   "cell_type": "code",
   "execution_count": 47,
   "id": "ed96b1fd",
   "metadata": {},
   "outputs": [
    {
     "data": {
      "text/html": [
       "<div>\n",
       "<style scoped>\n",
       "    .dataframe tbody tr th:only-of-type {\n",
       "        vertical-align: middle;\n",
       "    }\n",
       "\n",
       "    .dataframe tbody tr th {\n",
       "        vertical-align: top;\n",
       "    }\n",
       "\n",
       "    .dataframe thead th {\n",
       "        text-align: right;\n",
       "    }\n",
       "</style>\n",
       "<table border=\"1\" class=\"dataframe\">\n",
       "  <thead>\n",
       "    <tr style=\"text-align: right;\">\n",
       "      <th></th>\n",
       "      <th>0</th>\n",
       "      <th>1</th>\n",
       "      <th>2</th>\n",
       "      <th>3</th>\n",
       "      <th>4</th>\n",
       "      <th>5</th>\n",
       "      <th>6</th>\n",
       "      <th>7</th>\n",
       "      <th>8</th>\n",
       "      <th>9</th>\n",
       "      <th>10</th>\n",
       "      <th>11</th>\n",
       "      <th>12</th>\n",
       "      <th>13</th>\n",
       "      <th>14</th>\n",
       "      <th>15</th>\n",
       "      <th>16</th>\n",
       "      <th>17</th>\n",
       "    </tr>\n",
       "  </thead>\n",
       "  <tbody>\n",
       "    <tr>\n",
       "      <th>0</th>\n",
       "      <td>assists</td>\n",
       "      <td>clean_sheets</td>\n",
       "      <td>creativity</td>\n",
       "      <td>bps</td>\n",
       "      <td>goals_conceded</td>\n",
       "      <td>goals_scored</td>\n",
       "      <td>influence</td>\n",
       "      <td>minutes</td>\n",
       "      <td>own_goals</td>\n",
       "      <td>penalties_missed</td>\n",
       "      <td>penalties_saved</td>\n",
       "      <td>red_cards</td>\n",
       "      <td>saves</td>\n",
       "      <td>threat</td>\n",
       "      <td>yellow_cards</td>\n",
       "      <td>total_points</td>\n",
       "      <td>was_home</td>\n",
       "      <td>difficulty_gap</td>\n",
       "    </tr>\n",
       "    <tr>\n",
       "      <th>0</th>\n",
       "      <td>-0.048041</td>\n",
       "      <td>0.001114</td>\n",
       "      <td>0.29767</td>\n",
       "      <td>-0.211026</td>\n",
       "      <td>-0.053244</td>\n",
       "      <td>0.099935</td>\n",
       "      <td>0.097166</td>\n",
       "      <td>0.440465</td>\n",
       "      <td>-0.003123</td>\n",
       "      <td>0.069936</td>\n",
       "      <td>0.0</td>\n",
       "      <td>0.003773</td>\n",
       "      <td>0.0</td>\n",
       "      <td>0.257702</td>\n",
       "      <td>-0.108205</td>\n",
       "      <td>0.347027</td>\n",
       "      <td>0.083209</td>\n",
       "      <td>0.157385</td>\n",
       "    </tr>\n",
       "  </tbody>\n",
       "</table>\n",
       "</div>"
      ],
      "text/plain": [
       "         0             1           2         3               4             5   \\\n",
       "0   assists  clean_sheets  creativity       bps  goals_conceded  goals_scored   \n",
       "0 -0.048041      0.001114     0.29767 -0.211026       -0.053244      0.099935   \n",
       "\n",
       "          6         7          8                 9                10  \\\n",
       "0  influence   minutes  own_goals  penalties_missed  penalties_saved   \n",
       "0   0.097166  0.440465  -0.003123          0.069936              0.0   \n",
       "\n",
       "          11     12        13            14            15        16  \\\n",
       "0  red_cards  saves    threat  yellow_cards  total_points  was_home   \n",
       "0   0.003773    0.0  0.257702     -0.108205      0.347027  0.083209   \n",
       "\n",
       "               17  \n",
       "0  difficulty_gap  \n",
       "0        0.157385  "
      ]
     },
     "execution_count": 47,
     "metadata": {},
     "output_type": "execute_result"
    }
   ],
   "source": [
    "mid_results['lr_coef'].T"
   ]
  },
  {
   "cell_type": "code",
   "execution_count": 48,
   "id": "a6c7f4af",
   "metadata": {},
   "outputs": [
    {
     "data": {
      "text/html": [
       "<div>\n",
       "<style scoped>\n",
       "    .dataframe tbody tr th:only-of-type {\n",
       "        vertical-align: middle;\n",
       "    }\n",
       "\n",
       "    .dataframe tbody tr th {\n",
       "        vertical-align: top;\n",
       "    }\n",
       "\n",
       "    .dataframe thead th {\n",
       "        text-align: right;\n",
       "    }\n",
       "</style>\n",
       "<table border=\"1\" class=\"dataframe\">\n",
       "  <thead>\n",
       "    <tr style=\"text-align: right;\">\n",
       "      <th></th>\n",
       "      <th>0</th>\n",
       "      <th>1</th>\n",
       "      <th>2</th>\n",
       "      <th>3</th>\n",
       "      <th>4</th>\n",
       "      <th>5</th>\n",
       "      <th>6</th>\n",
       "      <th>7</th>\n",
       "      <th>8</th>\n",
       "      <th>9</th>\n",
       "      <th>10</th>\n",
       "      <th>11</th>\n",
       "      <th>12</th>\n",
       "      <th>13</th>\n",
       "      <th>14</th>\n",
       "      <th>15</th>\n",
       "      <th>16</th>\n",
       "      <th>17</th>\n",
       "    </tr>\n",
       "  </thead>\n",
       "  <tbody>\n",
       "    <tr>\n",
       "      <th>0</th>\n",
       "      <td>assists</td>\n",
       "      <td>clean_sheets</td>\n",
       "      <td>creativity</td>\n",
       "      <td>bps</td>\n",
       "      <td>goals_conceded</td>\n",
       "      <td>goals_scored</td>\n",
       "      <td>influence</td>\n",
       "      <td>minutes</td>\n",
       "      <td>own_goals</td>\n",
       "      <td>penalties_missed</td>\n",
       "      <td>penalties_saved</td>\n",
       "      <td>red_cards</td>\n",
       "      <td>saves</td>\n",
       "      <td>threat</td>\n",
       "      <td>yellow_cards</td>\n",
       "      <td>total_points</td>\n",
       "      <td>was_home</td>\n",
       "      <td>difficulty_gap</td>\n",
       "    </tr>\n",
       "    <tr>\n",
       "      <th>0</th>\n",
       "      <td>0.092309</td>\n",
       "      <td>0.120125</td>\n",
       "      <td>0.11864</td>\n",
       "      <td>0.322823</td>\n",
       "      <td>0.039029</td>\n",
       "      <td>0.151303</td>\n",
       "      <td>0.088088</td>\n",
       "      <td>0.567363</td>\n",
       "      <td>0.000465</td>\n",
       "      <td>0.0</td>\n",
       "      <td>-0.102478</td>\n",
       "      <td>0.021215</td>\n",
       "      <td>0.088428</td>\n",
       "      <td>-0.07378</td>\n",
       "      <td>-0.049762</td>\n",
       "      <td>0.165499</td>\n",
       "      <td>0.089757</td>\n",
       "      <td>0.170994</td>\n",
       "    </tr>\n",
       "  </tbody>\n",
       "</table>\n",
       "</div>"
      ],
      "text/plain": [
       "         0             1           2         3               4             5   \\\n",
       "0   assists  clean_sheets  creativity       bps  goals_conceded  goals_scored   \n",
       "0  0.092309      0.120125     0.11864  0.322823        0.039029      0.151303   \n",
       "\n",
       "          6         7          8                 9                10  \\\n",
       "0  influence   minutes  own_goals  penalties_missed  penalties_saved   \n",
       "0   0.088088  0.567363   0.000465               0.0        -0.102478   \n",
       "\n",
       "          11        12       13            14            15        16  \\\n",
       "0  red_cards     saves   threat  yellow_cards  total_points  was_home   \n",
       "0   0.021215  0.088428 -0.07378     -0.049762      0.165499  0.089757   \n",
       "\n",
       "               17  \n",
       "0  difficulty_gap  \n",
       "0        0.170994  "
      ]
     },
     "execution_count": 48,
     "metadata": {},
     "output_type": "execute_result"
    }
   ],
   "source": [
    "gk_results['lr_coef'].T"
   ]
  },
  {
   "cell_type": "markdown",
   "id": "831dc668",
   "metadata": {},
   "source": [
    "#### Spearman's Rho"
   ]
  },
  {
   "cell_type": "code",
   "execution_count": 49,
   "id": "307e1baa",
   "metadata": {},
   "outputs": [
    {
     "name": "stdout",
     "output_type": "stream",
     "text": [
      "SpearmanrResult(correlation=0.47823310421902493, pvalue=5.732884734753084e-161) \n",
      " SpearmanrResult(correlation=0.4808043175406962, pvalue=6.289850229874846e-163)\n"
     ]
    }
   ],
   "source": [
    "print(fwd_results['lr_spearmanr'], '\\n', fwd_results['lgbm_spearmanr'])"
   ]
  },
  {
   "cell_type": "code",
   "execution_count": 50,
   "id": "1d2d5b1f",
   "metadata": {},
   "outputs": [
    {
     "name": "stdout",
     "output_type": "stream",
     "text": [
      "SpearmanrResult(correlation=0.40417184946457047, pvalue=1.9261190893721321e-69) \n",
      " SpearmanrResult(correlation=0.40315588834378724, pvalue=4.5290042504022153e-69)\n"
     ]
    }
   ],
   "source": [
    "print(def_results['lr_spearmanr'], '\\n', def_results['lgbm_spearmanr'])"
   ]
  },
  {
   "cell_type": "code",
   "execution_count": 51,
   "id": "a109dd30",
   "metadata": {},
   "outputs": [
    {
     "name": "stdout",
     "output_type": "stream",
     "text": [
      "SpearmanrResult(correlation=0.5007818240188985, pvalue=2.0536940534329786e-22) \n",
      " SpearmanrResult(correlation=0.5321918512575002, pvalue=1.3299867044210251e-25)\n"
     ]
    }
   ],
   "source": [
    "print(gk_results['lr_spearmanr'], '\\n', gk_results['lgbm_spearmanr'])"
   ]
  },
  {
   "cell_type": "code",
   "execution_count": 52,
   "id": "3e669376",
   "metadata": {},
   "outputs": [
    {
     "name": "stdout",
     "output_type": "stream",
     "text": [
      "SpearmanrResult(correlation=0.49556905066269913, pvalue=1.553014029908609e-135) \n",
      " SpearmanrResult(correlation=0.49466627664503404, pvalue=5.653531297937754e-135)\n"
     ]
    }
   ],
   "source": [
    "print(mid_results['lr_spearmanr'], '\\n', mid_results['lgbm_spearmanr'])"
   ]
  },
  {
   "cell_type": "code",
   "execution_count": null,
   "id": "b45f439c",
   "metadata": {},
   "outputs": [],
   "source": []
  }
 ],
 "metadata": {
  "kernelspec": {
   "display_name": "Python 3 (ipykernel)",
   "language": "python",
   "name": "python3"
  },
  "language_info": {
   "codemirror_mode": {
    "name": "ipython",
    "version": 3
   },
   "file_extension": ".py",
   "mimetype": "text/x-python",
   "name": "python",
   "nbconvert_exporter": "python",
   "pygments_lexer": "ipython3",
   "version": "3.9.12"
  }
 },
 "nbformat": 4,
 "nbformat_minor": 5
}
