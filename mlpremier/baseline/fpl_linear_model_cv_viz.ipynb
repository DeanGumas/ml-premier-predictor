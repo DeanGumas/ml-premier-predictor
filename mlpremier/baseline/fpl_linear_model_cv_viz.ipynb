{
 "cells": [
  {
   "cell_type": "code",
   "execution_count": 133,
   "id": "d11a3ce2",
   "metadata": {},
   "outputs": [],
   "source": [
    "import numpy as np\n",
    "import pandas as pd\n",
    "import seaborn as sns\n",
    "import os\n",
    "import matplotlib.pyplot as plt\n",
    "from sklearn.model_selection import train_test_split\n",
    "from sklearn.model_selection import GridSearchCV\n",
    "from sklearn.model_selection import StratifiedShuffleSplit\n",
    "from sklearn.model_selection import StratifiedKFold\n",
    "from sklearn.metrics import mean_squared_error\n",
    "from sklearn.preprocessing import MinMaxScaler\n",
    "from sklearn import linear_model\n",
    "import lightgbm"
   ]
  },
  {
   "cell_type": "markdown",
   "id": "9b20d830",
   "metadata": {},
   "source": [
    "#### 20-21 Season"
   ]
  },
  {
   "cell_type": "code",
   "execution_count": 140,
   "id": "86bde69f",
   "metadata": {},
   "outputs": [],
   "source": [
    "datapath = '../data/clean_data/windowed_data/'\n",
    "window_size = '9'\n",
    "season = '2020-21/'\n",
    "\n",
    "team_name_df = pd.read_csv('../data/clean_data/master_team_list.csv')\n",
    "team_name_df = team_name_df[team_name_df.season == '2020-21']\n",
    "fixture_df = pd.read_csv('../data/fixtures/full_fixture_difficulty.csv')\n",
    "fixture_df = fixture_df[fixture_df.season == '20_21']\n",
    "fixture_df = fixture_df.merge(team_name_df, how='left', left_on='team_a', right_on='team')[['team_a_difficulty', 'team_h_difficulty', 'team_h', 'team_name']]\n",
    "fixture_df.rename(columns={'team_name':'away_team_name'}, inplace=True)\n",
    "fixture_df = fixture_df.merge(team_name_df, how='left', left_on='team_h', right_on='team')[['team_a_difficulty', 'team_h_difficulty', 'away_team_name', 'team_name']]\n",
    "fixture_df.rename(columns={'team_name':'home_team_name'}, inplace=True)\n",
    "\n",
    "def attach_difficulty(row):\n",
    "    try:\n",
    "        if row['was_home']:\n",
    "            team = fixture_df[(fixture_df.home_team_name == row.team) & (fixture_df.away_team_name == row.opponent_team)].reset_index(drop=True).loc[0, 'team_h_difficulty']\n",
    "            opponent = fixture_df[(fixture_df.home_team_name == row.team) & (fixture_df.away_team_name == row.opponent_team)].reset_index(drop=True).loc[0, 'team_a_difficulty']\n",
    "            return team - opponent\n",
    "        else:\n",
    "            team = fixture_df[(fixture_df.home_team_name == row.opponent_team) & (fixture_df.away_team_name == row.team)].reset_index(drop=True).loc[0, 'team_a_difficulty']\n",
    "            opponent = fixture_df[(fixture_df.home_team_name == row.opponent_team) & (fixture_df.away_team_name == row.team)].reset_index(drop=True).loc[0, 'team_h_difficulty']\n",
    "            return team - opponent\n",
    "    except KeyError:\n",
    "        return 0\n",
    "\n",
    "def read_data(pos, datapath, window_size, season, minimum_minutes=0):\n",
    "    path = os.path.join(datapath, season)\n",
    "    df = pd.read_csv(path + pos + window_size + '.csv')\n",
    "    df = df[df.minutes >= minimum_minutes]\n",
    "    df['difficulty_gap'] = df.apply(lambda r: attach_difficulty(r), axis=1, result_type='expand')\n",
    "    df.drop(['team', 'opponent_team'], axis=1, inplace=True)\n",
    "    \n",
    "    df['total_points_bin'] = pd.qcut(df['Target_Output'], 4, labels=False)\n",
    "    return df\n",
    "\n",
    "dfs_20_21 = [read_data(p, datapath, window_size, season, minimum_minutes=1e-6) for p in ['GK_', 'DEF_', 'FWD_', 'MID_']]\n",
    "full_df_20_21 = pd.concat(dfs_20_21, keys=['GK', 'DEF', 'FWD', 'MID'])"
   ]
  },
  {
   "cell_type": "markdown",
   "id": "44f84285",
   "metadata": {},
   "source": [
    "#### Combine with 21-22 season"
   ]
  },
  {
   "cell_type": "code",
   "execution_count": 141,
   "id": "57744b52",
   "metadata": {},
   "outputs": [],
   "source": [
    "season = '2021-22/'\n",
    "\n",
    "team_name_df = pd.read_csv('../data/clean_data/master_team_list.csv')\n",
    "team_name_df = team_name_df[team_name_df.season == '2021-22'].drop(columns={'team_difficulty'})\n",
    "fixture_df = pd.read_csv('../data/fixtures/full_fixture_difficulty.csv')\n",
    "fixture_df = fixture_df[fixture_df.season == '21_22']\n",
    "fixture_df = fixture_df.merge(team_name_df, how='left', left_on='team_a', right_on='team')[['team_a_difficulty', 'team_h_difficulty', 'team_h', 'team_name']]\n",
    "fixture_df.rename(columns={'team_name':'away_team_name'}, inplace=True)\n",
    "fixture_df = fixture_df.merge(team_name_df, how='left', left_on='team_h', right_on='team')[['team_a_difficulty', 'team_h_difficulty', 'away_team_name', 'team_name']]\n",
    "fixture_df.rename(columns={'team_name':'home_team_name'}, inplace=True)\n",
    "\n",
    "dfs_21_22 = [read_data(p, datapath, window_size, season, minimum_minutes=1e-6) for p in ['GK_', 'DEF_', 'FWD_', 'MID_']]\n",
    "full_df_21_22 = pd.concat(dfs_21_22, keys=['GK', 'DEF', 'FWD', 'MID'])"
   ]
  },
  {
   "cell_type": "code",
   "execution_count": 142,
   "id": "b7516bb5",
   "metadata": {},
   "outputs": [],
   "source": [
    "# Combine 2 seasons\n",
    "dfs = [pd.concat([dfs_20_21[i], dfs_21_22[i]]) for i in range(4)]\n",
    "full_df = pd.concat([full_df_20_21, full_df_21_22])"
   ]
  },
  {
   "cell_type": "code",
   "execution_count": 143,
   "id": "b3b0437e",
   "metadata": {},
   "outputs": [
    {
     "data": {
      "text/plain": [
       "0    585\n",
       "1    506\n",
       "3    393\n",
       "2    169\n",
       "Name: total_points_bin, dtype: int64"
      ]
     },
     "execution_count": 143,
     "metadata": {},
     "output_type": "execute_result"
    }
   ],
   "source": [
    "dfs[0].total_points_bin.value_counts()"
   ]
  },
  {
   "cell_type": "markdown",
   "id": "9baf5f22",
   "metadata": {},
   "source": [
    "#### Something is inconsistent in the 2021-2022 data: there were 380 fixtures but the dataset has 380-387 different matchups"
   ]
  },
  {
   "cell_type": "code",
   "execution_count": 144,
   "id": "b09119d7",
   "metadata": {},
   "outputs": [
    {
     "data": {
      "text/html": [
       "<div>\n",
       "<style scoped>\n",
       "    .dataframe tbody tr th:only-of-type {\n",
       "        vertical-align: middle;\n",
       "    }\n",
       "\n",
       "    .dataframe tbody tr th {\n",
       "        vertical-align: top;\n",
       "    }\n",
       "\n",
       "    .dataframe thead th {\n",
       "        text-align: right;\n",
       "    }\n",
       "</style>\n",
       "<table border=\"1\" class=\"dataframe\">\n",
       "  <thead>\n",
       "    <tr style=\"text-align: right;\">\n",
       "      <th></th>\n",
       "      <th>away_team_name</th>\n",
       "      <th>home_team_name</th>\n",
       "    </tr>\n",
       "  </thead>\n",
       "  <tbody>\n",
       "    <tr>\n",
       "      <th>0</th>\n",
       "      <td>Brentford</td>\n",
       "      <td>Arsenal</td>\n",
       "    </tr>\n",
       "    <tr>\n",
       "      <th>1</th>\n",
       "      <td>Man Utd</td>\n",
       "      <td>Leeds</td>\n",
       "    </tr>\n",
       "    <tr>\n",
       "      <th>2</th>\n",
       "      <td>Burnley</td>\n",
       "      <td>Brighton</td>\n",
       "    </tr>\n",
       "    <tr>\n",
       "      <th>3</th>\n",
       "      <td>Chelsea</td>\n",
       "      <td>Crystal Palace</td>\n",
       "    </tr>\n",
       "    <tr>\n",
       "      <th>4</th>\n",
       "      <td>Everton</td>\n",
       "      <td>Southampton</td>\n",
       "    </tr>\n",
       "    <tr>\n",
       "      <th>...</th>\n",
       "      <td>...</td>\n",
       "      <td>...</td>\n",
       "    </tr>\n",
       "    <tr>\n",
       "      <th>375</th>\n",
       "      <td>Crystal Palace</td>\n",
       "      <td>Man Utd</td>\n",
       "    </tr>\n",
       "    <tr>\n",
       "      <th>376</th>\n",
       "      <td>Leicester</td>\n",
       "      <td>Southampton</td>\n",
       "    </tr>\n",
       "    <tr>\n",
       "      <th>377</th>\n",
       "      <td>Liverpool</td>\n",
       "      <td>Wolves</td>\n",
       "    </tr>\n",
       "    <tr>\n",
       "      <th>378</th>\n",
       "      <td>Man City</td>\n",
       "      <td>Aston Villa</td>\n",
       "    </tr>\n",
       "    <tr>\n",
       "      <th>379</th>\n",
       "      <td>Norwich</td>\n",
       "      <td>Spurs</td>\n",
       "    </tr>\n",
       "  </tbody>\n",
       "</table>\n",
       "<p>380 rows × 2 columns</p>\n",
       "</div>"
      ],
      "text/plain": [
       "     away_team_name  home_team_name\n",
       "0         Brentford         Arsenal\n",
       "1           Man Utd           Leeds\n",
       "2           Burnley        Brighton\n",
       "3           Chelsea  Crystal Palace\n",
       "4           Everton     Southampton\n",
       "..              ...             ...\n",
       "375  Crystal Palace         Man Utd\n",
       "376       Leicester     Southampton\n",
       "377       Liverpool          Wolves\n",
       "378        Man City     Aston Villa\n",
       "379         Norwich           Spurs\n",
       "\n",
       "[380 rows x 2 columns]"
      ]
     },
     "execution_count": 144,
     "metadata": {},
     "output_type": "execute_result"
    }
   ],
   "source": [
    "fixture_df[['away_team_name', 'home_team_name']].drop_duplicates()"
   ]
  },
  {
   "cell_type": "code",
   "execution_count": 145,
   "id": "91cf3062",
   "metadata": {},
   "outputs": [
    {
     "data": {
      "text/html": [
       "<div>\n",
       "<style scoped>\n",
       "    .dataframe tbody tr th:only-of-type {\n",
       "        vertical-align: middle;\n",
       "    }\n",
       "\n",
       "    .dataframe tbody tr th {\n",
       "        vertical-align: top;\n",
       "    }\n",
       "\n",
       "    .dataframe thead th {\n",
       "        text-align: right;\n",
       "    }\n",
       "</style>\n",
       "<table border=\"1\" class=\"dataframe\">\n",
       "  <thead>\n",
       "    <tr style=\"text-align: right;\">\n",
       "      <th></th>\n",
       "      <th>team</th>\n",
       "      <th>opponent_team</th>\n",
       "    </tr>\n",
       "  </thead>\n",
       "  <tbody>\n",
       "    <tr>\n",
       "      <th>0</th>\n",
       "      <td>Spurs</td>\n",
       "      <td>Man Utd</td>\n",
       "    </tr>\n",
       "    <tr>\n",
       "      <th>1</th>\n",
       "      <td>Spurs</td>\n",
       "      <td>Fulham</td>\n",
       "    </tr>\n",
       "    <tr>\n",
       "      <th>2</th>\n",
       "      <td>Spurs</td>\n",
       "      <td>Leeds</td>\n",
       "    </tr>\n",
       "    <tr>\n",
       "      <th>3</th>\n",
       "      <td>Spurs</td>\n",
       "      <td>Brighton</td>\n",
       "    </tr>\n",
       "    <tr>\n",
       "      <th>4</th>\n",
       "      <td>Spurs</td>\n",
       "      <td>Sheffield Utd</td>\n",
       "    </tr>\n",
       "    <tr>\n",
       "      <th>...</th>\n",
       "      <td>...</td>\n",
       "      <td>...</td>\n",
       "    </tr>\n",
       "    <tr>\n",
       "      <th>2877</th>\n",
       "      <td>Liverpool</td>\n",
       "      <td>Leeds</td>\n",
       "    </tr>\n",
       "    <tr>\n",
       "      <th>2881</th>\n",
       "      <td>Liverpool</td>\n",
       "      <td>West Brom</td>\n",
       "    </tr>\n",
       "    <tr>\n",
       "      <th>2882</th>\n",
       "      <td>Liverpool</td>\n",
       "      <td>Man City</td>\n",
       "    </tr>\n",
       "    <tr>\n",
       "      <th>2883</th>\n",
       "      <td>Liverpool</td>\n",
       "      <td>Man Utd</td>\n",
       "    </tr>\n",
       "    <tr>\n",
       "      <th>5715</th>\n",
       "      <td>Everton</td>\n",
       "      <td>Fulham</td>\n",
       "    </tr>\n",
       "  </tbody>\n",
       "</table>\n",
       "<p>383 rows × 2 columns</p>\n",
       "</div>"
      ],
      "text/plain": [
       "           team  opponent_team\n",
       "0         Spurs        Man Utd\n",
       "1         Spurs         Fulham\n",
       "2         Spurs          Leeds\n",
       "3         Spurs       Brighton\n",
       "4         Spurs  Sheffield Utd\n",
       "...         ...            ...\n",
       "2877  Liverpool          Leeds\n",
       "2881  Liverpool      West Brom\n",
       "2882  Liverpool       Man City\n",
       "2883  Liverpool        Man Utd\n",
       "5715    Everton         Fulham\n",
       "\n",
       "[383 rows x 2 columns]"
      ]
     },
     "execution_count": 145,
     "metadata": {},
     "output_type": "execute_result"
    }
   ],
   "source": [
    "season = '2021-22/'\n",
    "a = pd.read_csv(os.path.join(datapath, season) + 'MID_' + window_size + '.csv')\n",
    "a[['team', 'opponent_team']].drop_duplicates()"
   ]
  },
  {
   "cell_type": "code",
   "execution_count": 146,
   "id": "499effd3",
   "metadata": {},
   "outputs": [
    {
     "data": {
      "image/png": "[encoded data removed]",
      "text/plain": [
       "<Figure size 717.378x307.44 with 1 Axes>"
      ]
     },
     "metadata": {
      "needs_background": "light"
     },
     "output_type": "display_data"
    }
   ],
   "source": [
    "plot = sns.displot(\n",
    "    data=full_df.reset_index().rename(columns={'level_0': 'position'}), \n",
    "    x=\"Target_Output\",\n",
    "    hue='position',\n",
    "    kind='kde',\n",
    "    common_norm=False,\n",
    "    height=4.27, aspect=17.7/8.27)\n",
    "#plot.fig.suptitle(\"Score Distribution by Position\",\n",
    "#                  fontsize=15, fontdict={\"weight\": \"bold\"})\n",
    "plot.figure.savefig('eda_pos_dist.png',dpi=600)"
   ]
  },
  {
   "cell_type": "markdown",
   "id": "66e6df96",
   "metadata": {},
   "source": [
    "### Note: qcut reduces spread of mse a bit more compared to cut"
   ]
  },
  {
   "cell_type": "code",
   "execution_count": 147,
   "id": "cfc194ff",
   "metadata": {},
   "outputs": [
    {
     "data": {
      "text/plain": [
       "0    585\n",
       "1    506\n",
       "3    393\n",
       "2    169\n",
       "Name: total_points_bin, dtype: int64"
      ]
     },
     "execution_count": 147,
     "metadata": {},
     "output_type": "execute_result"
    }
   ],
   "source": [
    "dfs[0].total_points_bin.value_counts()"
   ]
  },
  {
   "cell_type": "code",
   "execution_count": 148,
   "id": "4d389840",
   "metadata": {
    "jupyter": {
     "outputs_hidden": true
    }
   },
   "outputs": [
    {
     "data": {
      "text/plain": [
       "Index(['assists', 'clean_sheets', 'creativity', 'bps', 'goals_conceded',\n",
       "       'goals_scored', 'ict_index', 'influence', 'minutes', 'own_goals',\n",
       "       'penalties_missed', 'penalties_saved', 'red_cards', 'saves', 'threat',\n",
       "       'yellow_cards', 'total_points', 'was_home', 'Target_Output',\n",
       "       'difficulty_gap', 'total_points_bin'],\n",
       "      dtype='object')"
      ]
     },
     "execution_count": 148,
     "metadata": {},
     "output_type": "execute_result"
    }
   ],
   "source": [
    "dfs[0].columns"
   ]
  },
  {
   "cell_type": "code",
   "execution_count": 149,
   "id": "493c4357",
   "metadata": {},
   "outputs": [
    {
     "data": {
      "text/plain": [
       "<AxesSubplot:>"
      ]
     },
     "execution_count": 149,
     "metadata": {},
     "output_type": "execute_result"
    },
    {
     "data": {
      "image/png": "[encoded data removed]",
      "text/plain": [
       "<Figure size 432x288 with 2 Axes>"
      ]
     },
     "metadata": {
      "needs_background": "light"
     },
     "output_type": "display_data"
    }
   ],
   "source": [
    "corr = dfs[2].drop(columns={'Target_Output', 'total_points', 'total_points_bin'}).select_dtypes('number').corr()\n",
    "sns.heatmap(corr)"
   ]
  },
  {
   "cell_type": "markdown",
   "id": "703c2bb9",
   "metadata": {},
   "source": [
    "### Modeling"
   ]
  },
  {
   "cell_type": "code",
   "execution_count": 150,
   "id": "25ffaf45",
   "metadata": {},
   "outputs": [],
   "source": [
    "# For lightgbm\n",
    "param_grid = {\n",
    "    'boosting_type': ['gbdt'],\n",
    "    'objective': ['regression'],\n",
    "    'n_estimators': [50, 100, 200],\n",
    "    'num_leaves': [7, 15, 31],\n",
    "    'reg_alpha': [0.01, 10],\n",
    "    'reg_lambda': [10, 100],\n",
    "    'min_data_in_leaf': [70, 210],\n",
    "    'max_depth': [3, 5, 7, -1],\n",
    "    'learning_rate': [0.1, 0.01],\n",
    "    'verbose': [-1]\n",
    "}"
   ]
  },
  {
   "cell_type": "code",
   "execution_count": 151,
   "id": "6d5a6933",
   "metadata": {},
   "outputs": [],
   "source": [
    "def get_results(data):\n",
    "    results = {}\n",
    "    print('Starting...')\n",
    "    \n",
    "    data = pd.get_dummies(data)\n",
    "    X = data.drop('Target_Output', axis=1)\n",
    "    y = data.Target_Output\n",
    "\n",
    "    # Test set is still held-out and won't be used until writing the report.\n",
    "    # Stratified split (by binned minutes)\n",
    "    split_criteria_name = 'total_points_bin'\n",
    "    X_train, X_test, y_train, y_test = train_test_split(\n",
    "        X, y, \n",
    "        test_size=0.2, \n",
    "        random_state=1, \n",
    "        stratify=X[split_criteria_name]\n",
    "    )\n",
    "    split_criteria = X_train[split_criteria_name]\n",
    "    X_train.drop(split_criteria_name, axis=1, inplace=True)\n",
    "    X_test.drop(split_criteria_name, axis=1, inplace=True)\n",
    "    \n",
    "    #splitter = StratifiedShuffleSplit(n_splits=5, test_size=0.2, random_state=0)\n",
    "    splitter = StratifiedKFold(n_splits=5)\n",
    "    \n",
    "    # Grid Search for lightgbm\n",
    "    # Stratified cv (by binned minutes)\n",
    "    grid = GridSearchCV(\n",
    "        lightgbm.LGBMRegressor(random_state=0), \n",
    "        param_grid, \n",
    "        scoring='neg_mean_squared_error',\n",
    "        cv=splitter.split(X_train, split_criteria),\n",
    "        return_train_score=True,\n",
    "        verbose=1\n",
    "    )\n",
    "    grid.fit(X_train, y_train)\n",
    "    best_in_grid = grid.best_estimator_\n",
    "    results['lgbm_est'] = best_in_grid\n",
    "    results['lgbm_full_stats'] = grid.cv_results_\n",
    "    \n",
    "    results['lgbm_report'] = [-grid.cv_results_['mean_train_score'][grid.cv_results_['mean_test_score'].argmax()],\n",
    "        grid.cv_results_['std_train_score'][grid.cv_results_['mean_test_score'].argmax()],\n",
    "        -grid.cv_results_['mean_test_score'].max(),\n",
    "        grid.cv_results_['std_test_score'][grid.cv_results_['mean_test_score'].argmax()], \n",
    "                              mean_squared_error(y_test, best_in_grid.predict(X_test))]\n",
    "    results['lgbm_test_set'] = [X_test, y_test, best_in_grid.predict(X_test)]\n",
    "    \n",
    "    # Linear Model\n",
    "    lrgrid = GridSearchCV(\n",
    "        linear_model.Ridge(), \n",
    "        {'alpha': [0.001, 0.01, 0.1, 1, 10, 100, 1000]}, \n",
    "        scoring='neg_mean_squared_error',\n",
    "        cv=splitter.split(X_train, split_criteria),\n",
    "        return_train_score=True,\n",
    "        verbose=1\n",
    "    )\n",
    "    lrgrid.fit(X_train, y_train)\n",
    "    print(lrgrid.best_params_)\n",
    "    best_in_grid = lrgrid.best_estimator_\n",
    "    results['lr_coef'] = pd.concat([pd.DataFrame(X_train.columns),pd.DataFrame(np.transpose(best_in_grid.coef_))], axis = 1)\n",
    "    results['lr_full_stats'] = lrgrid.cv_results_\n",
    "    \n",
    "    results['lr_report'] = [\n",
    "        -lrgrid.cv_results_['mean_train_score'][lrgrid.cv_results_['mean_test_score'].argmax()],\n",
    "        lrgrid.cv_results_['std_train_score'][lrgrid.cv_results_['mean_test_score'].argmax()],\n",
    "        -lrgrid.cv_results_['mean_test_score'].max(),\n",
    "        lrgrid.cv_results_['std_test_score'][lrgrid.cv_results_['mean_test_score'].argmax()],\n",
    "        mean_squared_error(y_test, best_in_grid.predict(X_test))\n",
    "    ]\n",
    "    results['lr_test_set'] = [y_test, best_in_grid.predict(X_test)]\n",
    "    \n",
    "    results['heuristic'] = mean_squared_error(y_test, X_test.total_points)\n",
    "    \n",
    "    return results"
   ]
  },
  {
   "cell_type": "code",
   "execution_count": 152,
   "id": "778f5b54",
   "metadata": {},
   "outputs": [
    {
     "name": "stdout",
     "output_type": "stream",
     "text": [
      "Starting...\n",
      "Fitting 5 folds for each of 576 candidates, totalling 2880 fits\n",
      "Fitting 5 folds for each of 7 candidates, totalling 35 fits\n",
      "{'alpha': 10}\n"
     ]
    }
   ],
   "source": [
    "def_results = get_results(dfs[1])"
   ]
  },
  {
   "cell_type": "code",
   "execution_count": 153,
   "id": "920e6cb6",
   "metadata": {},
   "outputs": [
    {
     "name": "stdout",
     "output_type": "stream",
     "text": [
      "Starting...\n",
      "Fitting 5 folds for each of 576 candidates, totalling 2880 fits\n",
      "Fitting 5 folds for each of 7 candidates, totalling 35 fits\n",
      "{'alpha': 100}\n"
     ]
    }
   ],
   "source": [
    "gk_results = get_results(dfs[0])"
   ]
  },
  {
   "cell_type": "code",
   "execution_count": 154,
   "id": "e3ba67db",
   "metadata": {},
   "outputs": [
    {
     "name": "stdout",
     "output_type": "stream",
     "text": [
      "Starting...\n",
      "Fitting 5 folds for each of 576 candidates, totalling 2880 fits\n",
      "Fitting 5 folds for each of 7 candidates, totalling 35 fits\n",
      "{'alpha': 100}\n"
     ]
    }
   ],
   "source": [
    "fwd_results = get_results(dfs[2])"
   ]
  },
  {
   "cell_type": "code",
   "execution_count": 155,
   "id": "c6bd379f",
   "metadata": {},
   "outputs": [
    {
     "name": "stdout",
     "output_type": "stream",
     "text": [
      "Starting...\n",
      "Fitting 5 folds for each of 576 candidates, totalling 2880 fits\n",
      "Fitting 5 folds for each of 7 candidates, totalling 35 fits\n",
      "{'alpha': 10}\n"
     ]
    }
   ],
   "source": [
    "mid_results = get_results(dfs[3])"
   ]
  },
  {
   "cell_type": "code",
   "execution_count": 156,
   "id": "0fede716",
   "metadata": {},
   "outputs": [],
   "source": [
    "report_table = {'GK': gk_results['lgbm_report'] + gk_results['lr_report'],\n",
    "                'DEF': def_results['lgbm_report'] + def_results['lr_report'], \n",
    "                'MID': mid_results['lgbm_report'] + mid_results['lr_report'], \n",
    "                'FWD': fwd_results['lgbm_report'] + fwd_results['lr_report']}\n",
    "col_map = {0:'lgbm_train_avg_mse', 1:'lgbm_train_mse_std', 2: 'lgbm_valid_avg_mse', 3: 'lgbm_valid_mse_std',\n",
    "          4: 'lgbm_TEST_mse', 5: 'lr_train_avg_mse', 6: 'lr_train_mse_std', 7: 'lr_valid_avg_mse', 8: 'lr_valid_mse_std',\n",
    "          9: 'lr_TEST_mse'}\n",
    "report_table = pd.DataFrame.from_dict(report_table, orient='index').rename(columns=col_map)"
   ]
  },
  {
   "cell_type": "code",
   "execution_count": 157,
   "id": "52194b88",
   "metadata": {},
   "outputs": [
    {
     "data": {
      "text/html": [
       "<div>\n",
       "<style scoped>\n",
       "    .dataframe tbody tr th:only-of-type {\n",
       "        vertical-align: middle;\n",
       "    }\n",
       "\n",
       "    .dataframe tbody tr th {\n",
       "        vertical-align: top;\n",
       "    }\n",
       "\n",
       "    .dataframe thead th {\n",
       "        text-align: right;\n",
       "    }\n",
       "</style>\n",
       "<table border=\"1\" class=\"dataframe\">\n",
       "  <thead>\n",
       "    <tr style=\"text-align: right;\">\n",
       "      <th></th>\n",
       "      <th>lgbm_train_avg_mse</th>\n",
       "      <th>lgbm_train_mse_std</th>\n",
       "      <th>lgbm_valid_avg_mse</th>\n",
       "      <th>lgbm_valid_mse_std</th>\n",
       "      <th>lgbm_TEST_mse</th>\n",
       "    </tr>\n",
       "  </thead>\n",
       "  <tbody>\n",
       "    <tr>\n",
       "      <th>GK</th>\n",
       "      <td>5.773797</td>\n",
       "      <td>0.195929</td>\n",
       "      <td>6.694305</td>\n",
       "      <td>0.835287</td>\n",
       "      <td>5.911575</td>\n",
       "    </tr>\n",
       "    <tr>\n",
       "      <th>DEF</th>\n",
       "      <td>6.563588</td>\n",
       "      <td>0.096380</td>\n",
       "      <td>7.186818</td>\n",
       "      <td>0.407315</td>\n",
       "      <td>7.052221</td>\n",
       "    </tr>\n",
       "    <tr>\n",
       "      <th>MID</th>\n",
       "      <td>5.874967</td>\n",
       "      <td>0.098781</td>\n",
       "      <td>6.167916</td>\n",
       "      <td>0.381202</td>\n",
       "      <td>6.136429</td>\n",
       "    </tr>\n",
       "    <tr>\n",
       "      <th>FWD</th>\n",
       "      <td>6.596459</td>\n",
       "      <td>0.082318</td>\n",
       "      <td>6.827554</td>\n",
       "      <td>0.342499</td>\n",
       "      <td>7.030317</td>\n",
       "    </tr>\n",
       "  </tbody>\n",
       "</table>\n",
       "</div>"
      ],
      "text/plain": [
       "     lgbm_train_avg_mse  lgbm_train_mse_std  lgbm_valid_avg_mse  \\\n",
       "GK             5.773797            0.195929            6.694305   \n",
       "DEF            6.563588            0.096380            7.186818   \n",
       "MID            5.874967            0.098781            6.167916   \n",
       "FWD            6.596459            0.082318            6.827554   \n",
       "\n",
       "     lgbm_valid_mse_std  lgbm_TEST_mse  \n",
       "GK             0.835287       5.911575  \n",
       "DEF            0.407315       7.052221  \n",
       "MID            0.381202       6.136429  \n",
       "FWD            0.342499       7.030317  "
      ]
     },
     "execution_count": 157,
     "metadata": {},
     "output_type": "execute_result"
    }
   ],
   "source": [
    "report_table.iloc[:, :5]"
   ]
  },
  {
   "cell_type": "code",
   "execution_count": 158,
   "id": "ebcfd52b",
   "metadata": {},
   "outputs": [
    {
     "data": {
      "text/html": [
       "<div>\n",
       "<style scoped>\n",
       "    .dataframe tbody tr th:only-of-type {\n",
       "        vertical-align: middle;\n",
       "    }\n",
       "\n",
       "    .dataframe tbody tr th {\n",
       "        vertical-align: top;\n",
       "    }\n",
       "\n",
       "    .dataframe thead th {\n",
       "        text-align: right;\n",
       "    }\n",
       "</style>\n",
       "<table border=\"1\" class=\"dataframe\">\n",
       "  <thead>\n",
       "    <tr style=\"text-align: right;\">\n",
       "      <th></th>\n",
       "      <th>lr_train_avg_mse</th>\n",
       "      <th>lr_train_mse_std</th>\n",
       "      <th>lr_valid_avg_mse</th>\n",
       "      <th>lr_valid_mse_std</th>\n",
       "      <th>lr_TEST_mse</th>\n",
       "    </tr>\n",
       "  </thead>\n",
       "  <tbody>\n",
       "    <tr>\n",
       "      <th>GK</th>\n",
       "      <td>6.711856</td>\n",
       "      <td>0.213604</td>\n",
       "      <td>6.796007</td>\n",
       "      <td>0.862049</td>\n",
       "      <td>6.019652</td>\n",
       "    </tr>\n",
       "    <tr>\n",
       "      <th>DEF</th>\n",
       "      <td>7.154299</td>\n",
       "      <td>0.104274</td>\n",
       "      <td>7.191976</td>\n",
       "      <td>0.412990</td>\n",
       "      <td>7.039315</td>\n",
       "    </tr>\n",
       "    <tr>\n",
       "      <th>MID</th>\n",
       "      <td>6.133609</td>\n",
       "      <td>0.096876</td>\n",
       "      <td>6.157385</td>\n",
       "      <td>0.387985</td>\n",
       "      <td>6.015206</td>\n",
       "    </tr>\n",
       "    <tr>\n",
       "      <th>FWD</th>\n",
       "      <td>6.799473</td>\n",
       "      <td>0.085493</td>\n",
       "      <td>6.824589</td>\n",
       "      <td>0.341612</td>\n",
       "      <td>7.040270</td>\n",
       "    </tr>\n",
       "  </tbody>\n",
       "</table>\n",
       "</div>"
      ],
      "text/plain": [
       "     lr_train_avg_mse  lr_train_mse_std  lr_valid_avg_mse  lr_valid_mse_std  \\\n",
       "GK           6.711856          0.213604          6.796007          0.862049   \n",
       "DEF          7.154299          0.104274          7.191976          0.412990   \n",
       "MID          6.133609          0.096876          6.157385          0.387985   \n",
       "FWD          6.799473          0.085493          6.824589          0.341612   \n",
       "\n",
       "     lr_TEST_mse  \n",
       "GK      6.019652  \n",
       "DEF     7.039315  \n",
       "MID     6.015206  \n",
       "FWD     7.040270  "
      ]
     },
     "execution_count": 158,
     "metadata": {},
     "output_type": "execute_result"
    }
   ],
   "source": [
    "report_table.iloc[:, 5:]"
   ]
  },
  {
   "cell_type": "code",
   "execution_count": 163,
   "id": "0a1c16b0",
   "metadata": {},
   "outputs": [
    {
     "data": {
      "image/png": "[encoded data removed]",
      "text/plain": [
       "<Figure size 432x288 with 2 Axes>"
      ]
     },
     "metadata": {
      "needs_background": "light"
     },
     "output_type": "display_data"
    }
   ],
   "source": [
    "def lgbm_overfit_plot(res):\n",
    "    overfit = {\n",
    "        'avg_train_mse': -res['lgbm_full_stats']['mean_train_score'],\n",
    "        'avg_valid_mse': -res['lgbm_full_stats']['mean_test_score']\n",
    "    }\n",
    "    overfit = pd.DataFrame.from_dict(overfit)\n",
    "\n",
    "    plot = sns.histplot(\n",
    "        overfit, x='avg_train_mse', y='avg_valid_mse',\n",
    "        bins=40, cbar=True, cbar_kws=dict(shrink=.75),\n",
    "    )\n",
    "    #.set_title('Hyperparameter Tuning to Prevent Overfit\\nGradient Boosting - Midfielders')\n",
    "    return plot\n",
    "\n",
    "plot = lgbm_overfit_plot(def_results)\n",
    "plot.figure.savefig('overfit_lgbm.png',dpi=600)"
   ]
  },
  {
   "cell_type": "markdown",
   "id": "7e4c1eda",
   "metadata": {},
   "source": [
    "#### \\!\\!\\! No longer a good visualization"
   ]
  },
  {
   "cell_type": "code",
   "execution_count": 164,
   "id": "27a69fd2",
   "metadata": {},
   "outputs": [
    {
     "data": {
      "image/png": "[encoded data removed]",
      "text/plain": [
       "<Figure size 432x288 with 1 Axes>"
      ]
     },
     "metadata": {
      "needs_background": "light"
     },
     "output_type": "display_data"
    }
   ],
   "source": [
    "def lr_overfit_plot(res_lst, name_lst):\n",
    "    overfit = pd.DataFrame()\n",
    "    for i, res in enumerate(res_lst):\n",
    "        temp = {\n",
    "            'avg_train_mse': -res['lr_full_stats']['mean_train_score'],\n",
    "            'avg_valid_mse': -res['lr_full_stats']['mean_test_score']\n",
    "        }\n",
    "        temp = pd.DataFrame.from_dict(temp)\n",
    "        #temp['normalized_avg_train_mse'] = MinMaxScaler().fit_transform(np.array(temp['avg_train_mse']).reshape(-1,1))\n",
    "        #temp['normalized_avg_valid_mse'] = MinMaxScaler().fit_transform(np.array(temp['avg_valid_mse']).reshape(-1,1))\n",
    "        temp['position'] = name_lst[i]\n",
    "        overfit = pd.concat([overfit, temp], ignore_index=True)\n",
    "    \n",
    "    plot = sns.lineplot(\n",
    "        data=overfit, x='avg_train_mse', y='avg_valid_mse', style='position',\n",
    "        marker='o', palette=\"flare\"\n",
    "    )\n",
    "    #.set_title('Hyperparameter Tuning to Prevent Overfit\\n Ridge Regression - All Positions')\n",
    "    return plot\n",
    "    \n",
    "\n",
    "plot = lr_overfit_plot([gk_results, def_results, fwd_results, mid_results], ['GK', 'DEF', 'FWD', 'MID'])\n",
    "plot.figure.savefig('output_figure.png',dpi=600)"
   ]
  },
  {
   "cell_type": "markdown",
   "id": "4f1261ba",
   "metadata": {},
   "source": [
    "#### Stratified Splits are working as intended"
   ]
  },
  {
   "cell_type": "code",
   "execution_count": 165,
   "id": "63aaff34",
   "metadata": {},
   "outputs": [
    {
     "name": "stdout",
     "output_type": "stream",
     "text": [
      "Based on average score\n",
      "test std: 2.7894958670274694 full std: 2.8867907975959826\n",
      "test mean: 2.4471299093655587 full mean: 2.488808227465215\n",
      "Based on average score\n",
      "test std: 2.8243872226258713 full std: 2.8431751306194806\n",
      "test mean: 1.8117106773823193 full mean: 1.8035837353549276\n",
      "Based on average score\n",
      "test std: 2.8498975942233638 full std: 2.8329078660845486\n",
      "test mean: 1.8956336528221511 full mean: 1.8773698785770077\n",
      "Based on average score\n",
      "test std: 2.6267911124655594 full std: 2.7166155854003753\n",
      "test mean: 1.8486932599724897 full mean: 1.8717102246675836\n"
     ]
    }
   ],
   "source": [
    "def check_distribution(res_lst):\n",
    "    for i, res in enumerate(res_lst):\n",
    "        test_y = res['lgbm_test_set'][1]\n",
    "        print('Based on average score')\n",
    "        print('test std:', test_y.std(), 'full std:', dfs[i].Target_Output.std())\n",
    "        print('test mean:', test_y.mean(), 'full mean:', dfs[i].Target_Output.mean())\n",
    "\n",
    "check_distribution([gk_results, def_results, fwd_results, mid_results])"
   ]
  },
  {
   "cell_type": "code",
   "execution_count": 118,
   "id": "7b42a30c",
   "metadata": {},
   "outputs": [],
   "source": [
    "gk_test_x = def_results['lgbm_test_set'][0]\n",
    "#gk_test_x['y_true'] = gk_results['lgbm_test_set'][1]\n",
    "#gk_test_x['y_pred'] = gk_results['lgbm_test_set'][2]\n",
    "#gk_test_x['error'] = np.abs(gk_test_x['y_pred'] - gk_test_x['y_true'])"
   ]
  },
  {
   "cell_type": "code",
   "execution_count": 110,
   "id": "d8a4ea34",
   "metadata": {},
   "outputs": [
    {
     "data": {
      "text/html": [
       "<div>\n",
       "<style scoped>\n",
       "    .dataframe tbody tr th:only-of-type {\n",
       "        vertical-align: middle;\n",
       "    }\n",
       "\n",
       "    .dataframe tbody tr th {\n",
       "        vertical-align: top;\n",
       "    }\n",
       "\n",
       "    .dataframe thead th {\n",
       "        text-align: right;\n",
       "    }\n",
       "</style>\n",
       "<table border=\"1\" class=\"dataframe\">\n",
       "  <thead>\n",
       "    <tr style=\"text-align: right;\">\n",
       "      <th></th>\n",
       "      <th>assists</th>\n",
       "      <th>clean_sheets</th>\n",
       "      <th>creativity</th>\n",
       "      <th>bps</th>\n",
       "      <th>goals_conceded</th>\n",
       "      <th>goals_scored</th>\n",
       "      <th>ict_index</th>\n",
       "      <th>influence</th>\n",
       "      <th>minutes</th>\n",
       "      <th>own_goals</th>\n",
       "      <th>...</th>\n",
       "      <th>red_cards</th>\n",
       "      <th>saves</th>\n",
       "      <th>threat</th>\n",
       "      <th>yellow_cards</th>\n",
       "      <th>total_points</th>\n",
       "      <th>was_home</th>\n",
       "      <th>difficulty_gap</th>\n",
       "      <th>y_true</th>\n",
       "      <th>y_pred</th>\n",
       "      <th>error</th>\n",
       "    </tr>\n",
       "  </thead>\n",
       "  <tbody>\n",
       "    <tr>\n",
       "      <th>2019</th>\n",
       "      <td>0.0</td>\n",
       "      <td>0.3</td>\n",
       "      <td>0.0</td>\n",
       "      <td>13.8</td>\n",
       "      <td>1.5</td>\n",
       "      <td>0.0</td>\n",
       "      <td>1.10</td>\n",
       "      <td>10.96</td>\n",
       "      <td>81.0</td>\n",
       "      <td>0.0</td>\n",
       "      <td>...</td>\n",
       "      <td>0.0</td>\n",
       "      <td>1.4</td>\n",
       "      <td>0.0</td>\n",
       "      <td>0.0</td>\n",
       "      <td>2.9</td>\n",
       "      <td>False</td>\n",
       "      <td>0</td>\n",
       "      <td>3.0</td>\n",
       "      <td>3.007213</td>\n",
       "      <td>0.007213</td>\n",
       "    </tr>\n",
       "    <tr>\n",
       "      <th>1441</th>\n",
       "      <td>0.0</td>\n",
       "      <td>0.5</td>\n",
       "      <td>0.0</td>\n",
       "      <td>22.2</td>\n",
       "      <td>0.9</td>\n",
       "      <td>0.0</td>\n",
       "      <td>2.62</td>\n",
       "      <td>26.32</td>\n",
       "      <td>90.0</td>\n",
       "      <td>0.0</td>\n",
       "      <td>...</td>\n",
       "      <td>0.0</td>\n",
       "      <td>3.7</td>\n",
       "      <td>0.0</td>\n",
       "      <td>0.0</td>\n",
       "      <td>6.0</td>\n",
       "      <td>True</td>\n",
       "      <td>0</td>\n",
       "      <td>4.0</td>\n",
       "      <td>4.019689</td>\n",
       "      <td>0.019689</td>\n",
       "    </tr>\n",
       "    <tr>\n",
       "      <th>1617</th>\n",
       "      <td>0.0</td>\n",
       "      <td>0.1</td>\n",
       "      <td>0.0</td>\n",
       "      <td>13.7</td>\n",
       "      <td>1.1</td>\n",
       "      <td>0.0</td>\n",
       "      <td>2.10</td>\n",
       "      <td>20.98</td>\n",
       "      <td>72.0</td>\n",
       "      <td>0.0</td>\n",
       "      <td>...</td>\n",
       "      <td>0.0</td>\n",
       "      <td>2.7</td>\n",
       "      <td>0.0</td>\n",
       "      <td>0.1</td>\n",
       "      <td>2.3</td>\n",
       "      <td>True</td>\n",
       "      <td>0</td>\n",
       "      <td>3.0</td>\n",
       "      <td>3.045024</td>\n",
       "      <td>0.045024</td>\n",
       "    </tr>\n",
       "  </tbody>\n",
       "</table>\n",
       "<p>3 rows × 22 columns</p>\n",
       "</div>"
      ],
      "text/plain": [
       "      assists  clean_sheets  creativity   bps  goals_conceded  goals_scored  \\\n",
       "2019      0.0           0.3         0.0  13.8             1.5           0.0   \n",
       "1441      0.0           0.5         0.0  22.2             0.9           0.0   \n",
       "1617      0.0           0.1         0.0  13.7             1.1           0.0   \n",
       "\n",
       "      ict_index  influence  minutes  own_goals  ...  red_cards  saves  threat  \\\n",
       "2019       1.10      10.96     81.0        0.0  ...        0.0    1.4     0.0   \n",
       "1441       2.62      26.32     90.0        0.0  ...        0.0    3.7     0.0   \n",
       "1617       2.10      20.98     72.0        0.0  ...        0.0    2.7     0.0   \n",
       "\n",
       "      yellow_cards  total_points  was_home  difficulty_gap  y_true    y_pred  \\\n",
       "2019           0.0           2.9     False               0     3.0  3.007213   \n",
       "1441           0.0           6.0      True               0     4.0  4.019689   \n",
       "1617           0.1           2.3      True               0     3.0  3.045024   \n",
       "\n",
       "         error  \n",
       "2019  0.007213  \n",
       "1441  0.019689  \n",
       "1617  0.045024  \n",
       "\n",
       "[3 rows x 22 columns]"
      ]
     },
     "execution_count": 110,
     "metadata": {},
     "output_type": "execute_result"
    }
   ],
   "source": [
    "gk_test_x.sort_values(by='error').head(3)"
   ]
  },
  {
   "cell_type": "code",
   "execution_count": 111,
   "id": "c427c223",
   "metadata": {},
   "outputs": [
    {
     "data": {
      "text/html": [
       "<div>\n",
       "<style scoped>\n",
       "    .dataframe tbody tr th:only-of-type {\n",
       "        vertical-align: middle;\n",
       "    }\n",
       "\n",
       "    .dataframe tbody tr th {\n",
       "        vertical-align: top;\n",
       "    }\n",
       "\n",
       "    .dataframe thead th {\n",
       "        text-align: right;\n",
       "    }\n",
       "</style>\n",
       "<table border=\"1\" class=\"dataframe\">\n",
       "  <thead>\n",
       "    <tr style=\"text-align: right;\">\n",
       "      <th></th>\n",
       "      <th>assists</th>\n",
       "      <th>clean_sheets</th>\n",
       "      <th>creativity</th>\n",
       "      <th>bps</th>\n",
       "      <th>goals_conceded</th>\n",
       "      <th>goals_scored</th>\n",
       "      <th>ict_index</th>\n",
       "      <th>influence</th>\n",
       "      <th>minutes</th>\n",
       "      <th>own_goals</th>\n",
       "      <th>...</th>\n",
       "      <th>red_cards</th>\n",
       "      <th>saves</th>\n",
       "      <th>threat</th>\n",
       "      <th>yellow_cards</th>\n",
       "      <th>total_points</th>\n",
       "      <th>was_home</th>\n",
       "      <th>difficulty_gap</th>\n",
       "      <th>y_true</th>\n",
       "      <th>y_pred</th>\n",
       "      <th>error</th>\n",
       "    </tr>\n",
       "  </thead>\n",
       "  <tbody>\n",
       "    <tr>\n",
       "      <th>1422</th>\n",
       "      <td>0.0</td>\n",
       "      <td>0.444444</td>\n",
       "      <td>0.0</td>\n",
       "      <td>21.0</td>\n",
       "      <td>1.444444</td>\n",
       "      <td>0.0</td>\n",
       "      <td>2.311111</td>\n",
       "      <td>23.177778</td>\n",
       "      <td>90.0</td>\n",
       "      <td>0.0</td>\n",
       "      <td>...</td>\n",
       "      <td>0.0</td>\n",
       "      <td>2.555556</td>\n",
       "      <td>0.0</td>\n",
       "      <td>0.0</td>\n",
       "      <td>4.666667</td>\n",
       "      <td>False</td>\n",
       "      <td>1</td>\n",
       "      <td>11.0</td>\n",
       "      <td>3.235905</td>\n",
       "      <td>7.764095</td>\n",
       "    </tr>\n",
       "    <tr>\n",
       "      <th>717</th>\n",
       "      <td>0.0</td>\n",
       "      <td>0.800000</td>\n",
       "      <td>0.0</td>\n",
       "      <td>19.1</td>\n",
       "      <td>0.100000</td>\n",
       "      <td>0.0</td>\n",
       "      <td>1.130000</td>\n",
       "      <td>11.300000</td>\n",
       "      <td>81.0</td>\n",
       "      <td>0.0</td>\n",
       "      <td>...</td>\n",
       "      <td>0.0</td>\n",
       "      <td>1.400000</td>\n",
       "      <td>0.0</td>\n",
       "      <td>0.2</td>\n",
       "      <td>5.000000</td>\n",
       "      <td>True</td>\n",
       "      <td>0</td>\n",
       "      <td>12.0</td>\n",
       "      <td>3.847299</td>\n",
       "      <td>8.152701</td>\n",
       "    </tr>\n",
       "    <tr>\n",
       "      <th>1424</th>\n",
       "      <td>0.0</td>\n",
       "      <td>0.000000</td>\n",
       "      <td>0.0</td>\n",
       "      <td>2.9</td>\n",
       "      <td>0.500000</td>\n",
       "      <td>0.0</td>\n",
       "      <td>0.380000</td>\n",
       "      <td>3.800000</td>\n",
       "      <td>18.0</td>\n",
       "      <td>0.0</td>\n",
       "      <td>...</td>\n",
       "      <td>0.0</td>\n",
       "      <td>0.500000</td>\n",
       "      <td>0.0</td>\n",
       "      <td>0.0</td>\n",
       "      <td>0.300000</td>\n",
       "      <td>False</td>\n",
       "      <td>0</td>\n",
       "      <td>11.0</td>\n",
       "      <td>0.704162</td>\n",
       "      <td>10.295838</td>\n",
       "    </tr>\n",
       "  </tbody>\n",
       "</table>\n",
       "<p>3 rows × 22 columns</p>\n",
       "</div>"
      ],
      "text/plain": [
       "      assists  clean_sheets  creativity   bps  goals_conceded  goals_scored  \\\n",
       "1422      0.0      0.444444         0.0  21.0        1.444444           0.0   \n",
       "717       0.0      0.800000         0.0  19.1        0.100000           0.0   \n",
       "1424      0.0      0.000000         0.0   2.9        0.500000           0.0   \n",
       "\n",
       "      ict_index  influence  minutes  own_goals  ...  red_cards     saves  \\\n",
       "1422   2.311111  23.177778     90.0        0.0  ...        0.0  2.555556   \n",
       "717    1.130000  11.300000     81.0        0.0  ...        0.0  1.400000   \n",
       "1424   0.380000   3.800000     18.0        0.0  ...        0.0  0.500000   \n",
       "\n",
       "      threat  yellow_cards  total_points  was_home  difficulty_gap  y_true  \\\n",
       "1422     0.0           0.0      4.666667     False               1    11.0   \n",
       "717      0.0           0.2      5.000000      True               0    12.0   \n",
       "1424     0.0           0.0      0.300000     False               0    11.0   \n",
       "\n",
       "        y_pred      error  \n",
       "1422  3.235905   7.764095  \n",
       "717   3.847299   8.152701  \n",
       "1424  0.704162  10.295838  \n",
       "\n",
       "[3 rows x 22 columns]"
      ]
     },
     "execution_count": 111,
     "metadata": {},
     "output_type": "execute_result"
    }
   ],
   "source": [
    "gk_test_x.sort_values(by='error').tail(3)"
   ]
  },
  {
   "cell_type": "code",
   "execution_count": 97,
   "id": "963d951d",
   "metadata": {},
   "outputs": [
    {
     "data": {
      "text/plain": [
       "{'boosting_type': 'gbdt',\n",
       " 'class_weight': None,\n",
       " 'colsample_bytree': 1.0,\n",
       " 'importance_type': 'split',\n",
       " 'learning_rate': 0.1,\n",
       " 'max_depth': 3,\n",
       " 'min_child_samples': 20,\n",
       " 'min_child_weight': 0.001,\n",
       " 'min_split_gain': 0.0,\n",
       " 'n_estimators': 50,\n",
       " 'n_jobs': None,\n",
       " 'num_leaves': 7,\n",
       " 'objective': 'regression',\n",
       " 'random_state': 1,\n",
       " 'reg_alpha': 0.01,\n",
       " 'reg_lambda': 100,\n",
       " 'subsample': 1.0,\n",
       " 'subsample_for_bin': 200000,\n",
       " 'subsample_freq': 0,\n",
       " 'min_data_in_leaf': 70,\n",
       " 'verbose': -1}"
      ]
     },
     "execution_count": 97,
     "metadata": {},
     "output_type": "execute_result"
    }
   ],
   "source": [
    "mid_results['lgbm_est'].get_params()"
   ]
  },
  {
   "cell_type": "code",
   "execution_count": 100,
   "id": "dcee84f1",
   "metadata": {},
   "outputs": [
    {
     "data": {
      "text/plain": [
       "<AxesSubplot:title={'center':'Feature importance'}, xlabel='Feature importance', ylabel='Features'>"
      ]
     },
     "execution_count": 100,
     "metadata": {},
     "output_type": "execute_result"
    },
    {
     "data": {
      "image/png": "[encoded data removed]",
      "text/plain": [
       "<Figure size 432x288 with 1 Axes>"
      ]
     },
     "metadata": {
      "needs_background": "light"
     },
     "output_type": "display_data"
    }
   ],
   "source": [
    "lightgbm.plot_importance(def_results['lgbm_est'])"
   ]
  },
  {
   "cell_type": "code",
   "execution_count": 101,
   "id": "8ee82106",
   "metadata": {},
   "outputs": [
    {
     "data": {
      "text/plain": [
       "<AxesSubplot:title={'center':'Feature importance'}, xlabel='Feature importance', ylabel='Features'>"
      ]
     },
     "execution_count": 101,
     "metadata": {},
     "output_type": "execute_result"
    },
    {
     "data": {
      "image/png": "[encoded data removed]",
      "text/plain": [
       "<Figure size 432x288 with 1 Axes>"
      ]
     },
     "metadata": {
      "needs_background": "light"
     },
     "output_type": "display_data"
    }
   ],
   "source": [
    "lightgbm.plot_importance(fwd_results['lgbm_est'])"
   ]
  },
  {
   "cell_type": "code",
   "execution_count": 105,
   "id": "27248435",
   "metadata": {},
   "outputs": [
    {
     "data": {
      "text/html": [
       "<div>\n",
       "<style scoped>\n",
       "    .dataframe tbody tr th:only-of-type {\n",
       "        vertical-align: middle;\n",
       "    }\n",
       "\n",
       "    .dataframe tbody tr th {\n",
       "        vertical-align: top;\n",
       "    }\n",
       "\n",
       "    .dataframe thead th {\n",
       "        text-align: right;\n",
       "    }\n",
       "</style>\n",
       "<table border=\"1\" class=\"dataframe\">\n",
       "  <thead>\n",
       "    <tr style=\"text-align: right;\">\n",
       "      <th></th>\n",
       "      <th>0</th>\n",
       "      <th>0</th>\n",
       "    </tr>\n",
       "  </thead>\n",
       "  <tbody>\n",
       "    <tr>\n",
       "      <th>0</th>\n",
       "      <td>assists</td>\n",
       "      <td>-0.200526</td>\n",
       "    </tr>\n",
       "    <tr>\n",
       "      <th>1</th>\n",
       "      <td>clean_sheets</td>\n",
       "      <td>-0.034391</td>\n",
       "    </tr>\n",
       "    <tr>\n",
       "      <th>2</th>\n",
       "      <td>creativity</td>\n",
       "      <td>0.041929</td>\n",
       "    </tr>\n",
       "    <tr>\n",
       "      <th>3</th>\n",
       "      <td>bps</td>\n",
       "      <td>-0.073641</td>\n",
       "    </tr>\n",
       "    <tr>\n",
       "      <th>4</th>\n",
       "      <td>goals_conceded</td>\n",
       "      <td>-0.162710</td>\n",
       "    </tr>\n",
       "    <tr>\n",
       "      <th>5</th>\n",
       "      <td>goals_scored</td>\n",
       "      <td>0.125022</td>\n",
       "    </tr>\n",
       "    <tr>\n",
       "      <th>6</th>\n",
       "      <td>ict_index</td>\n",
       "      <td>-0.015786</td>\n",
       "    </tr>\n",
       "    <tr>\n",
       "      <th>7</th>\n",
       "      <td>influence</td>\n",
       "      <td>0.033232</td>\n",
       "    </tr>\n",
       "    <tr>\n",
       "      <th>8</th>\n",
       "      <td>minutes</td>\n",
       "      <td>0.014460</td>\n",
       "    </tr>\n",
       "    <tr>\n",
       "      <th>9</th>\n",
       "      <td>own_goals</td>\n",
       "      <td>0.000643</td>\n",
       "    </tr>\n",
       "    <tr>\n",
       "      <th>10</th>\n",
       "      <td>penalties_missed</td>\n",
       "      <td>0.089487</td>\n",
       "    </tr>\n",
       "    <tr>\n",
       "      <th>11</th>\n",
       "      <td>penalties_saved</td>\n",
       "      <td>0.000000</td>\n",
       "    </tr>\n",
       "    <tr>\n",
       "      <th>12</th>\n",
       "      <td>red_cards</td>\n",
       "      <td>0.012758</td>\n",
       "    </tr>\n",
       "    <tr>\n",
       "      <th>13</th>\n",
       "      <td>saves</td>\n",
       "      <td>0.000000</td>\n",
       "    </tr>\n",
       "    <tr>\n",
       "      <th>14</th>\n",
       "      <td>threat</td>\n",
       "      <td>0.027963</td>\n",
       "    </tr>\n",
       "    <tr>\n",
       "      <th>15</th>\n",
       "      <td>yellow_cards</td>\n",
       "      <td>-0.351683</td>\n",
       "    </tr>\n",
       "    <tr>\n",
       "      <th>16</th>\n",
       "      <td>total_points</td>\n",
       "      <td>0.311921</td>\n",
       "    </tr>\n",
       "    <tr>\n",
       "      <th>17</th>\n",
       "      <td>was_home</td>\n",
       "      <td>0.118014</td>\n",
       "    </tr>\n",
       "    <tr>\n",
       "      <th>18</th>\n",
       "      <td>difficulty_gap</td>\n",
       "      <td>0.117704</td>\n",
       "    </tr>\n",
       "  </tbody>\n",
       "</table>\n",
       "</div>"
      ],
      "text/plain": [
       "                   0         0\n",
       "0            assists -0.200526\n",
       "1       clean_sheets -0.034391\n",
       "2         creativity  0.041929\n",
       "3                bps -0.073641\n",
       "4     goals_conceded -0.162710\n",
       "5       goals_scored  0.125022\n",
       "6          ict_index -0.015786\n",
       "7          influence  0.033232\n",
       "8            minutes  0.014460\n",
       "9          own_goals  0.000643\n",
       "10  penalties_missed  0.089487\n",
       "11   penalties_saved  0.000000\n",
       "12         red_cards  0.012758\n",
       "13             saves  0.000000\n",
       "14            threat  0.027963\n",
       "15      yellow_cards -0.351683\n",
       "16      total_points  0.311921\n",
       "17          was_home  0.118014\n",
       "18    difficulty_gap  0.117704"
      ]
     },
     "execution_count": 105,
     "metadata": {},
     "output_type": "execute_result"
    }
   ],
   "source": [
    "mid_results['lr_coef']"
   ]
  }
 ],
 "metadata": {
  "kernelspec": {
   "display_name": "Python 3 (ipykernel)",
   "language": "python",
   "name": "python3"
  },
  "language_info": {
   "codemirror_mode": {
    "name": "ipython",
    "version": 3
   },
   "file_extension": ".py",
   "mimetype": "text/x-python",
   "name": "python",
   "nbconvert_exporter": "python",
   "pygments_lexer": "ipython3",
   "version": "3.9.12"
  }
 },
 "nbformat": 4,
 "nbformat_minor": 5
}
